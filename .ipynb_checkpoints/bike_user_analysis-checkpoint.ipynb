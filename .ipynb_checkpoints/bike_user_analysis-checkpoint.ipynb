{
 "cells": [
  {
   "cell_type": "markdown",
   "metadata": {},
   "source": [
    "# Data Analysis of Bike Ride Users"
   ]
  },
  {
   "cell_type": "markdown",
   "metadata": {},
   "source": [
    "### Table of Contents\n",
    "1. [Gathering Data](#gather)\n",
    "    \n",
    "2. [Assessing Data](#asess)\n",
    "    1.1 [Quarter 1](#q1)\n",
    "    2.2 [Quarter 2](#q2)\n",
    "    2.3 [Quarter 3](#q3)\n",
    "    2.4 [Quarter 4](#q4)\n",
    "    2.5 [Null Values](#null)\n",
    " \n",
    "3. [Cleaning Data](#clean)\n",
    "    3.1 [Change Datatypes](#dtype)\n",
    "    3.2 [Create New Columns](#newcol)\n",
    "\n",
    "4. [Analyzing Data and Visualization](#analysis)\n",
    "    4.1 [Analysis by Quarter](#quarterly)\n",
    "    4.2 [Annual Analysis](#annual)\n",
    "    "
   ]
  },
  {
   "cell_type": "code",
   "execution_count": 107,
   "metadata": {},
   "outputs": [],
   "source": [
    "import pandas as pd\n",
    "import numpy as np"
   ]
  },
  {
   "cell_type": "code",
   "execution_count": 108,
   "metadata": {},
   "outputs": [],
   "source": [
    "import seaborn as sns\n",
    "import matplotlib.pyplot as plt\n",
    "%matplotlib inline\n",
    "from datetime import datetime"
   ]
  },
  {
   "cell_type": "markdown",
   "metadata": {},
   "source": [
    "### 1. Gathering Data\n",
    "<a id=\"gather\"></a>"
   ]
  },
  {
   "cell_type": "code",
   "execution_count": 109,
   "metadata": {},
   "outputs": [],
   "source": [
    "# import dataset of quarter 1\n",
    "df_q1=pd.read_csv(\"bike_q1.csv\")"
   ]
  },
  {
   "cell_type": "code",
   "execution_count": 110,
   "metadata": {},
   "outputs": [],
   "source": [
    "# part 1 of quarter 2\n",
    "df_q2_first=pd.read_excel(\"bike_q2_part1.xlsx\")"
   ]
  },
  {
   "cell_type": "code",
   "execution_count": 111,
   "metadata": {},
   "outputs": [],
   "source": [
    "# part 2 of quarter 2\n",
    "df_q2_second=pd.read_excel(\"bike_q2_part2.xlsx\")"
   ]
  },
  {
   "cell_type": "code",
   "execution_count": 112,
   "metadata": {},
   "outputs": [],
   "source": [
    "# part 1 of quarter 3\n",
    "df_q3_first=pd.read_excel(\"bike_q3_part1.xlsx\")"
   ]
  },
  {
   "cell_type": "code",
   "execution_count": 113,
   "metadata": {},
   "outputs": [],
   "source": [
    "# part 2 of quarter 3\n",
    "df_q3_second=pd.read_excel(\"bike_q3_part2.xlsx\")"
   ]
  },
  {
   "cell_type": "code",
   "execution_count": 114,
   "metadata": {},
   "outputs": [],
   "source": [
    "# part 1 of quarter 4 data\n",
    "df_q4_first=pd.read_excel(\"bike_q4_part1.xlsx\")"
   ]
  },
  {
   "cell_type": "code",
   "execution_count": 115,
   "metadata": {},
   "outputs": [],
   "source": [
    "df_q4_second=pd.read_excel(\"bike_q4_part2.xlsx\")"
   ]
  },
  {
   "cell_type": "markdown",
   "metadata": {},
   "source": [
    "### 2. Assessing Data \n",
    "<a id=\"asess\"></a>"
   ]
  },
  {
   "cell_type": "markdown",
   "metadata": {},
   "source": [
    "#### 2.1 Assessing Quarter 1\n",
    "<a id=\"q1\"></a>"
   ]
  },
  {
   "cell_type": "code",
   "execution_count": 116,
   "metadata": {},
   "outputs": [
    {
     "name": "stdout",
     "output_type": "stream",
     "text": [
      "<class 'pandas.core.frame.DataFrame'>\n",
      "RangeIndex: 387145 entries, 0 to 387144\n",
      "Data columns (total 12 columns):\n",
      " #   Column                                            Non-Null Count   Dtype  \n",
      "---  ------                                            --------------   -----  \n",
      " 0   01 - Rental Details Rental ID                     387145 non-null  int64  \n",
      " 1   01 - Rental Details Local Start Time              387145 non-null  object \n",
      " 2   01 - Rental Details Local End Time                387145 non-null  object \n",
      " 3   01 - Rental Details Bike ID                       387145 non-null  int64  \n",
      " 4   01 - Rental Details Duration In Seconds Uncapped  387145 non-null  object \n",
      " 5   03 - Rental Start Station ID                      387145 non-null  int64  \n",
      " 6   03 - Rental Start Station Name                    387145 non-null  object \n",
      " 7   02 - Rental End Station ID                        387145 non-null  int64  \n",
      " 8   02 - Rental End Station Name                      387145 non-null  object \n",
      " 9   User Type                                         387145 non-null  object \n",
      " 10  Member Gender                                     364652 non-null  object \n",
      " 11  05 - Member Details Member Birthday Year          364823 non-null  float64\n",
      "dtypes: float64(1), int64(4), object(7)\n",
      "memory usage: 35.4+ MB\n"
     ]
    }
   ],
   "source": [
    "df_q1.info()"
   ]
  },
  {
   "cell_type": "code",
   "execution_count": 117,
   "metadata": {},
   "outputs": [],
   "source": [
    "# rename column name in q1\n",
    "df_q1.columns=[\"rental_id\",\"ride_start_time\",\"ride_end_time\",\"bike_id\",\"rental_duration_second\",\"start_station_id\",\n",
    " \"start_station_name\",\"end_station_id\",\"end_station_name\",\"user_type\",\"user_gender\",\"user_birthyear\"]"
   ]
  },
  {
   "cell_type": "code",
   "execution_count": 118,
   "metadata": {
    "scrolled": false
   },
   "outputs": [
    {
     "data": {
      "text/plain": [
       "Index(['rental_id', 'ride_start_time', 'ride_end_time', 'bike_id',\n",
       "       'rental_duration_second', 'start_station_id', 'start_station_name',\n",
       "       'end_station_id', 'end_station_name', 'user_type', 'user_gender',\n",
       "       'user_birthyear'],\n",
       "      dtype='object')"
      ]
     },
     "execution_count": 118,
     "metadata": {},
     "output_type": "execute_result"
    }
   ],
   "source": [
    "# check change of column names\n",
    "df_q1.columns"
   ]
  },
  {
   "cell_type": "markdown",
   "metadata": {},
   "source": [
    "#### 2.2 Assessing Quarter 2\n",
    "<a id=\"q2\"></a>"
   ]
  },
  {
   "cell_type": "code",
   "execution_count": 119,
   "metadata": {},
   "outputs": [
    {
     "name": "stdout",
     "output_type": "stream",
     "text": [
      "<class 'pandas.core.frame.DataFrame'>\n",
      "RangeIndex: 500000 entries, 0 to 499999\n",
      "Data columns (total 13 columns):\n",
      " #   Column             Non-Null Count   Dtype  \n",
      "---  ------             --------------   -----  \n",
      " 0   Unnamed: 0         500000 non-null  int64  \n",
      " 1   trip_id            500000 non-null  int64  \n",
      " 2   start_time         500000 non-null  object \n",
      " 3   end_time           500000 non-null  object \n",
      " 4   bikeid             500000 non-null  int64  \n",
      " 5   tripduration       500000 non-null  object \n",
      " 6   from_station_id    500000 non-null  int64  \n",
      " 7   from_station_name  500000 non-null  object \n",
      " 8   to_station_id      500000 non-null  int64  \n",
      " 9   to_station_name    500000 non-null  object \n",
      " 10  usertype           500000 non-null  object \n",
      " 11  gender             425655 non-null  object \n",
      " 12  birthyear          426231 non-null  float64\n",
      "dtypes: float64(1), int64(5), object(7)\n",
      "memory usage: 49.6+ MB\n"
     ]
    }
   ],
   "source": [
    "df_q2_first.info()"
   ]
  },
  {
   "cell_type": "code",
   "execution_count": 120,
   "metadata": {},
   "outputs": [],
   "source": [
    "# drop column \"Unnamed: O\"\n",
    "df_q2_first.drop(\"Unnamed: 0\",axis = 1, inplace=True)"
   ]
  },
  {
   "cell_type": "code",
   "execution_count": 121,
   "metadata": {},
   "outputs": [],
   "source": [
    "# rename column names\n",
    "df_q2_first.columns=[\"rental_id\",\"ride_start_time\",\"ride_end_time\",\"bike_id\",\"rental_duration_second\",\"start_station_id\",\n",
    " \"start_station_name\",\"end_station_id\",\"end_station_name\",\"user_type\",\"user_gender\",\"user_birthyear\"]"
   ]
  },
  {
   "cell_type": "code",
   "execution_count": 122,
   "metadata": {},
   "outputs": [
    {
     "data": {
      "text/plain": [
       "Index(['rental_id', 'ride_start_time', 'ride_end_time', 'bike_id',\n",
       "       'rental_duration_second', 'start_station_id', 'start_station_name',\n",
       "       'end_station_id', 'end_station_name', 'user_type', 'user_gender',\n",
       "       'user_birthyear'],\n",
       "      dtype='object')"
      ]
     },
     "execution_count": 122,
     "metadata": {},
     "output_type": "execute_result"
    }
   ],
   "source": [
    "# check column names\n",
    "df_q2_first.columns"
   ]
  },
  {
   "cell_type": "code",
   "execution_count": 123,
   "metadata": {
    "scrolled": true
   },
   "outputs": [
    {
     "data": {
      "text/plain": [
       "Index(['Unnamed: 0', 'trip_id', 'start_time', 'end_time', 'bikeid',\n",
       "       'tripduration', 'from_station_id', 'from_station_name', 'to_station_id',\n",
       "       'to_station_name', 'usertype', 'gender', 'birthyear'],\n",
       "      dtype='object')"
      ]
     },
     "execution_count": 123,
     "metadata": {},
     "output_type": "execute_result"
    }
   ],
   "source": [
    "# check column names\n",
    "df_q2_second.columns"
   ]
  },
  {
   "cell_type": "code",
   "execution_count": 124,
   "metadata": {},
   "outputs": [],
   "source": [
    "# drop column \"Unnamed: 0\"\n",
    "df_q2_second.drop(\"Unnamed: 0\", axis=1, inplace=True)"
   ]
  },
  {
   "cell_type": "code",
   "execution_count": 125,
   "metadata": {},
   "outputs": [],
   "source": [
    "# replace column names\n",
    "df_q2_second.columns=[\"rental_id\",\"ride_start_time\",\"ride_end_time\",\"bike_id\",\"rental_duration_second\",\"start_station_id\",\n",
    " \"start_station_name\",\"end_station_id\",\"end_station_name\",\"user_type\",\"user_gender\",\"user_birthyear\"]"
   ]
  },
  {
   "cell_type": "code",
   "execution_count": 126,
   "metadata": {},
   "outputs": [
    {
     "data": {
      "text/plain": [
       "Index(['rental_id', 'ride_start_time', 'ride_end_time', 'bike_id',\n",
       "       'rental_duration_second', 'start_station_id', 'start_station_name',\n",
       "       'end_station_id', 'end_station_name', 'user_type', 'user_gender',\n",
       "       'user_birthyear'],\n",
       "      dtype='object')"
      ]
     },
     "execution_count": 126,
     "metadata": {},
     "output_type": "execute_result"
    }
   ],
   "source": [
    "# check for column names\n",
    "df_q2_second.columns"
   ]
  },
  {
   "cell_type": "markdown",
   "metadata": {},
   "source": [
    "#### 2.3 Assessing Quarter 3\n",
    "<a id=\"q3\"></a>"
   ]
  },
  {
   "cell_type": "code",
   "execution_count": 127,
   "metadata": {},
   "outputs": [
    {
     "data": {
      "text/plain": [
       "Index(['Unnamed: 0', 'trip_id', 'start_time', 'end_time', 'bikeid',\n",
       "       'tripduration', 'from_station_id', 'from_station_name', 'to_station_id',\n",
       "       'to_station_name', 'usertype', 'gender', 'birthyear'],\n",
       "      dtype='object')"
      ]
     },
     "execution_count": 127,
     "metadata": {},
     "output_type": "execute_result"
    }
   ],
   "source": [
    "# column names\n",
    "df_q3_first.columns"
   ]
  },
  {
   "cell_type": "code",
   "execution_count": 128,
   "metadata": {},
   "outputs": [],
   "source": [
    "# drop column Unnamed: 0\n",
    "df_q3_first.drop(\"Unnamed: 0\",axis=1,inplace=True)"
   ]
  },
  {
   "cell_type": "code",
   "execution_count": 129,
   "metadata": {},
   "outputs": [],
   "source": [
    "# replace column names\n",
    "df_q3_first.columns=[\"rental_id\",\"ride_start_time\",\"ride_end_time\",\"bike_id\",\"rental_duration_second\",\"start_station_id\",\n",
    " \"start_station_name\",\"end_station_id\",\"end_station_name\",\"user_type\",\"user_gender\",\"user_birthyear\"]"
   ]
  },
  {
   "cell_type": "code",
   "execution_count": 130,
   "metadata": {},
   "outputs": [
    {
     "data": {
      "text/plain": [
       "Index(['rental_id', 'ride_start_time', 'ride_end_time', 'bike_id',\n",
       "       'rental_duration_second', 'start_station_id', 'start_station_name',\n",
       "       'end_station_id', 'end_station_name', 'user_type', 'user_gender',\n",
       "       'user_birthyear'],\n",
       "      dtype='object')"
      ]
     },
     "execution_count": 130,
     "metadata": {},
     "output_type": "execute_result"
    }
   ],
   "source": [
    "# check for replaced column names\n",
    "df_q3_first.columns"
   ]
  },
  {
   "cell_type": "code",
   "execution_count": 131,
   "metadata": {},
   "outputs": [],
   "source": [
    "# drop column Unnamed: 0\n",
    "df_q3_second.drop(\"Unnamed: 0\",axis=1,inplace=True)"
   ]
  },
  {
   "cell_type": "code",
   "execution_count": 132,
   "metadata": {},
   "outputs": [],
   "source": [
    "# replace column names\n",
    "df_q3_second.columns=[\"rental_id\",\"ride_start_time\",\"ride_end_time\",\"bike_id\",\"rental_duration_second\",\"start_station_id\",\n",
    " \"start_station_name\",\"end_station_id\",\"end_station_name\",\"user_type\",\"user_gender\",\"user_birthyear\"]"
   ]
  },
  {
   "cell_type": "code",
   "execution_count": 133,
   "metadata": {},
   "outputs": [
    {
     "data": {
      "text/plain": [
       "Index(['rental_id', 'ride_start_time', 'ride_end_time', 'bike_id',\n",
       "       'rental_duration_second', 'start_station_id', 'start_station_name',\n",
       "       'end_station_id', 'end_station_name', 'user_type', 'user_gender',\n",
       "       'user_birthyear'],\n",
       "      dtype='object')"
      ]
     },
     "execution_count": 133,
     "metadata": {},
     "output_type": "execute_result"
    }
   ],
   "source": [
    "# check replaced column names\n",
    "df_q3_second.columns"
   ]
  },
  {
   "cell_type": "markdown",
   "metadata": {},
   "source": [
    "#### 2.4 Assessing Quarter 4\n",
    "<a id=\"q4\"></a>"
   ]
  },
  {
   "cell_type": "code",
   "execution_count": 134,
   "metadata": {},
   "outputs": [
    {
     "data": {
      "text/plain": [
       "Index(['Unnamed: 0', 'trip_id', 'start_time', 'end_time', 'bikeid',\n",
       "       'tripduration', 'from_station_id', 'from_station_name', 'to_station_id',\n",
       "       'to_station_name', 'usertype', 'gender', 'birthyear'],\n",
       "      dtype='object')"
      ]
     },
     "execution_count": 134,
     "metadata": {},
     "output_type": "execute_result"
    }
   ],
   "source": [
    "# column names from quarter 4\n",
    "df_q4_first.columns"
   ]
  },
  {
   "cell_type": "code",
   "execution_count": 135,
   "metadata": {},
   "outputs": [],
   "source": [
    "# drop unwanted column Unnamed: 0\n",
    "df_q4_first.drop(\"Unnamed: 0\", axis=1, inplace=True)"
   ]
  },
  {
   "cell_type": "code",
   "execution_count": 136,
   "metadata": {},
   "outputs": [],
   "source": [
    "# replace column names\n",
    "df_q4_first.columns=[\"rental_id\",\"ride_start_time\",\"ride_end_time\",\"bike_id\",\"rental_duration_second\",\"start_station_id\",\n",
    " \"start_station_name\",\"end_station_id\",\"end_station_name\",\"user_type\",\"user_gender\",\"user_birthyear\"]"
   ]
  },
  {
   "cell_type": "code",
   "execution_count": 137,
   "metadata": {
    "scrolled": true
   },
   "outputs": [
    {
     "data": {
      "text/plain": [
       "Index(['rental_id', 'ride_start_time', 'ride_end_time', 'bike_id',\n",
       "       'rental_duration_second', 'start_station_id', 'start_station_name',\n",
       "       'end_station_id', 'end_station_name', 'user_type', 'user_gender',\n",
       "       'user_birthyear'],\n",
       "      dtype='object')"
      ]
     },
     "execution_count": 137,
     "metadata": {},
     "output_type": "execute_result"
    }
   ],
   "source": [
    "# check new column names\n",
    "df_q4_first.columns"
   ]
  },
  {
   "cell_type": "code",
   "execution_count": 138,
   "metadata": {},
   "outputs": [],
   "source": [
    "# drop unwanted column Unnamed: 0\n",
    "df_q4_second.drop(\"Unnamed: 0\", axis=1, inplace=True)"
   ]
  },
  {
   "cell_type": "code",
   "execution_count": 139,
   "metadata": {},
   "outputs": [],
   "source": [
    "# replace column names\n",
    "df_q4_second.columns=[\"rental_id\",\"ride_start_time\",\"ride_end_time\",\"bike_id\",\"rental_duration_second\",\"start_station_id\",\n",
    " \"start_station_name\",\"end_station_id\",\"end_station_name\",\"user_type\",\"user_gender\",\"user_birthyear\"]"
   ]
  },
  {
   "cell_type": "code",
   "execution_count": 140,
   "metadata": {
    "scrolled": true
   },
   "outputs": [
    {
     "data": {
      "text/plain": [
       "Index(['rental_id', 'ride_start_time', 'ride_end_time', 'bike_id',\n",
       "       'rental_duration_second', 'start_station_id', 'start_station_name',\n",
       "       'end_station_id', 'end_station_name', 'user_type', 'user_gender',\n",
       "       'user_birthyear'],\n",
       "      dtype='object')"
      ]
     },
     "execution_count": 140,
     "metadata": {},
     "output_type": "execute_result"
    }
   ],
   "source": [
    "# check for new column names\n",
    "df_q4_second.columns"
   ]
  },
  {
   "cell_type": "code",
   "execution_count": 141,
   "metadata": {},
   "outputs": [],
   "source": [
    "# Combining datasets of quarter 2\n",
    "df_q2=pd.concat([df_q2_first,df_q2_second])"
   ]
  },
  {
   "cell_type": "code",
   "execution_count": 142,
   "metadata": {},
   "outputs": [],
   "source": [
    "# Combining datasets of quarter 3\n",
    "df_q3=pd.concat([df_q3_first,df_q3_second])"
   ]
  },
  {
   "cell_type": "code",
   "execution_count": 143,
   "metadata": {},
   "outputs": [],
   "source": [
    "# Combining datasets of quarter 4\n",
    "df_q4=pd.concat([df_q4_first,df_q4_second])"
   ]
  },
  {
   "cell_type": "markdown",
   "metadata": {},
   "source": [
    "#### 2.5 Null Values\n",
    "<a id=\"null\"></a>"
   ]
  },
  {
   "cell_type": "code",
   "execution_count": 144,
   "metadata": {},
   "outputs": [
    {
     "data": {
      "text/plain": [
       "rental_id                     0\n",
       "ride_start_time               0\n",
       "ride_end_time                 0\n",
       "bike_id                       0\n",
       "rental_duration_second        0\n",
       "start_station_id              0\n",
       "start_station_name            0\n",
       "end_station_id                0\n",
       "end_station_name              0\n",
       "user_type                     0\n",
       "user_gender               22493\n",
       "user_birthyear            22322\n",
       "dtype: int64"
      ]
     },
     "execution_count": 144,
     "metadata": {},
     "output_type": "execute_result"
    }
   ],
   "source": [
    "df_q1.isnull().sum()"
   ]
  },
  {
   "cell_type": "code",
   "execution_count": 145,
   "metadata": {},
   "outputs": [
    {
     "data": {
      "text/plain": [
       "<AxesSubplot:>"
      ]
     },
     "execution_count": 145,
     "metadata": {},
     "output_type": "execute_result"
    },
    {
     "data": {
      "image/png": "[encoded data removed]",
      "text/plain": [
       "<Figure size 432x288 with 1 Axes>"
      ]
     },
     "metadata": {
      "needs_background": "light"
     },
     "output_type": "display_data"
    }
   ],
   "source": [
    "# showwing null values in heatmap\n",
    "sns.heatmap(df_q1.isnull(),cbar=False)"
   ]
  },
  {
   "cell_type": "markdown",
   "metadata": {},
   "source": [
    "It shows that mainly column user_type and user_birthyear have null values.\n",
    "\n",
    "counting user_type from quarter 1"
   ]
  },
  {
   "cell_type": "markdown",
   "metadata": {},
   "source": [
    "Does deleting the rows with null values will bring big quantitative change in user_type column?"
   ]
  },
  {
   "cell_type": "code",
   "execution_count": 146,
   "metadata": {},
   "outputs": [],
   "source": [
    "# check null values from user_type or from user_gender\n",
    "mask_1=df_q1[\"user_type\"].isnull()|df_q1[\"user_gender\"].isnull()"
   ]
  },
  {
   "cell_type": "code",
   "execution_count": 147,
   "metadata": {},
   "outputs": [
    {
     "name": "stdout",
     "output_type": "stream",
     "text": [
      "<class 'pandas.core.frame.DataFrame'>\n",
      "Int64Index: 22493 entries, 8 to 387131\n",
      "Data columns (total 12 columns):\n",
      " #   Column                  Non-Null Count  Dtype  \n",
      "---  ------                  --------------  -----  \n",
      " 0   rental_id               22493 non-null  int64  \n",
      " 1   ride_start_time         22493 non-null  object \n",
      " 2   ride_end_time           22493 non-null  object \n",
      " 3   bike_id                 22493 non-null  int64  \n",
      " 4   rental_duration_second  22493 non-null  object \n",
      " 5   start_station_id        22493 non-null  int64  \n",
      " 6   start_station_name      22493 non-null  object \n",
      " 7   end_station_id          22493 non-null  int64  \n",
      " 8   end_station_name        22493 non-null  object \n",
      " 9   user_type               22493 non-null  object \n",
      " 10  user_gender             0 non-null      object \n",
      " 11  user_birthyear          175 non-null    float64\n",
      "dtypes: float64(1), int64(4), object(7)\n",
      "memory usage: 2.2+ MB\n"
     ]
    }
   ],
   "source": [
    "# get information about null values of user_type and user_gender from mask of quarter 1\n",
    "df_q1[mask_1].info()"
   ]
  },
  {
   "cell_type": "code",
   "execution_count": 148,
   "metadata": {},
   "outputs": [
    {
     "name": "stdout",
     "output_type": "stream",
     "text": [
      "<class 'pandas.core.frame.DataFrame'>\n",
      "Int64Index: 22493 entries, 8 to 387131\n",
      "Data columns (total 12 columns):\n",
      " #   Column                  Non-Null Count  Dtype  \n",
      "---  ------                  --------------  -----  \n",
      " 0   rental_id               22493 non-null  int64  \n",
      " 1   ride_start_time         22493 non-null  object \n",
      " 2   ride_end_time           22493 non-null  object \n",
      " 3   bike_id                 22493 non-null  int64  \n",
      " 4   rental_duration_second  22493 non-null  object \n",
      " 5   start_station_id        22493 non-null  int64  \n",
      " 6   start_station_name      22493 non-null  object \n",
      " 7   end_station_id          22493 non-null  int64  \n",
      " 8   end_station_name        22493 non-null  object \n",
      " 9   user_type               22493 non-null  object \n",
      " 10  user_gender             0 non-null      object \n",
      " 11  user_birthyear          175 non-null    float64\n",
      "dtypes: float64(1), int64(4), object(7)\n",
      "memory usage: 2.2+ MB\n"
     ]
    }
   ],
   "source": [
    "# get information about null values of user_type and user_gender\n",
    "df_q1[mask_1].info()"
   ]
  },
  {
   "cell_type": "code",
   "execution_count": 149,
   "metadata": {},
   "outputs": [
    {
     "data": {
      "text/plain": [
       "Subscriber    364702\n",
       "Customer       22443\n",
       "Name: user_type, dtype: int64"
      ]
     },
     "execution_count": 149,
     "metadata": {},
     "output_type": "execute_result"
    }
   ],
   "source": [
    "# counting type of user from quarter 1\n",
    "df_q1[\"user_type\"].value_counts()"
   ]
  },
  {
   "cell_type": "code",
   "execution_count": 150,
   "metadata": {},
   "outputs": [
    {
     "data": {
      "text/plain": [
       "Customer      22333\n",
       "Subscriber      160\n",
       "Name: user_type, dtype: int64"
      ]
     },
     "execution_count": 150,
     "metadata": {},
     "output_type": "execute_result"
    }
   ],
   "source": [
    " #counting user type that have null values in their gender columns\n",
    "df_q1[mask_1][\"user_type\"].value_counts()"
   ]
  },
  {
   "cell_type": "markdown",
   "metadata": {},
   "source": [
    "It shows that rows that have null values are mainly of user type customers.This shows that if we delete rows with null values, most of the Customers will get deleted. That is out of \n",
    "22443 Customers, 22333 Customers will be deleted. It is better not to delete null values, so that I can do \n",
    "actual comparision of Subsribers and Customers."
   ]
  },
  {
   "cell_type": "code",
   "execution_count": 151,
   "metadata": {},
   "outputs": [
    {
     "data": {
      "text/plain": [
       "rental_id                      0\n",
       "ride_start_time                0\n",
       "ride_end_time                  0\n",
       "bike_id                        0\n",
       "rental_duration_second         0\n",
       "start_station_id               0\n",
       "start_station_name             0\n",
       "end_station_id                 0\n",
       "end_station_name               0\n",
       "user_type                      0\n",
       "user_gender               196634\n",
       "user_birthyear            195141\n",
       "dtype: int64"
      ]
     },
     "execution_count": 151,
     "metadata": {},
     "output_type": "execute_result"
    }
   ],
   "source": [
    "# null values in quarter 2\n",
    "df_q2.isnull().sum()"
   ]
  },
  {
   "cell_type": "markdown",
   "metadata": {},
   "source": [
    "How many user_type has null values in their gender column?"
   ]
  },
  {
   "cell_type": "code",
   "execution_count": 152,
   "metadata": {},
   "outputs": [],
   "source": [
    "# null values of  user_type and user_gender\n",
    "mask_2=df_q2[\"user_type\"].isnull()|df_q2[\"user_gender\"].isnull()"
   ]
  },
  {
   "cell_type": "code",
   "execution_count": 153,
   "metadata": {
    "scrolled": true
   },
   "outputs": [
    {
     "data": {
      "text/plain": [
       "Customer      195077\n",
       "Subscriber      1557\n",
       "Name: user_type, dtype: int64"
      ]
     },
     "execution_count": 153,
     "metadata": {},
     "output_type": "execute_result"
    }
   ],
   "source": [
    "# counting user type that have null values in their gender columns\n",
    "df_q2[mask_2][\"user_type\"].value_counts()"
   ]
  },
  {
   "cell_type": "markdown",
   "metadata": {},
   "source": [
    "It shows rows that have null values are mainly of user type customers."
   ]
  },
  {
   "cell_type": "code",
   "execution_count": 154,
   "metadata": {},
   "outputs": [
    {
     "data": {
      "text/plain": [
       "Subscriber    840137\n",
       "Customer      219544\n",
       "Name: user_type, dtype: int64"
      ]
     },
     "execution_count": 154,
     "metadata": {},
     "output_type": "execute_result"
    }
   ],
   "source": [
    "# counting actual user type from quarter 2\n",
    "df_q2[\"user_type\"].value_counts()"
   ]
  },
  {
   "cell_type": "markdown",
   "metadata": {},
   "source": [
    "As similar to quarter 1, I am keeping null values of user gender and user birthyear, so I wil be able to do better \n",
    "comparision of Subscribers and Customers."
   ]
  },
  {
   "cell_type": "markdown",
   "metadata": {},
   "source": [
    "In practice, as in Quarter 1 and Quarter 2 similar composition came up for null values of user gender and user birthyear\n",
    "in column user_type. So it is better to keep these null values of these columns."
   ]
  },
  {
   "cell_type": "code",
   "execution_count": 155,
   "metadata": {},
   "outputs": [
    {
     "data": {
      "text/plain": [
       "rental_id                      0\n",
       "ride_start_time                0\n",
       "ride_end_time                  0\n",
       "bike_id                        0\n",
       "rental_duration_second         0\n",
       "start_station_id               0\n",
       "start_station_name             0\n",
       "end_station_id                 0\n",
       "end_station_name               0\n",
       "user_type                      0\n",
       "user_gender               294996\n",
       "user_birthyear            291580\n",
       "dtype: int64"
      ]
     },
     "execution_count": 155,
     "metadata": {},
     "output_type": "execute_result"
    }
   ],
   "source": [
    "# null values in Quarter 3\n",
    "df_q3.isnull().sum()"
   ]
  },
  {
   "cell_type": "code",
   "execution_count": 156,
   "metadata": {},
   "outputs": [
    {
     "data": {
      "text/plain": [
       "rental_id                     0\n",
       "ride_start_time               0\n",
       "ride_end_time                 0\n",
       "bike_id                       0\n",
       "rental_duration_second        0\n",
       "start_station_id              0\n",
       "start_station_name            0\n",
       "end_station_id                0\n",
       "end_station_name              0\n",
       "user_type                     0\n",
       "user_gender               48382\n",
       "user_birthyear            46166\n",
       "dtype: int64"
      ]
     },
     "execution_count": 156,
     "metadata": {},
     "output_type": "execute_result"
    }
   ],
   "source": [
    "# null values in Quarter 4\n",
    "df_q4.isnull().sum()"
   ]
  },
  {
   "cell_type": "markdown",
   "metadata": {},
   "source": [
    "As mentioned above, for Quarter 3 and Quarter 4 null values are only in columns: user_gender and user_birthyear. \n",
    "So null values are not deleted."
   ]
  },
  {
   "cell_type": "markdown",
   "metadata": {},
   "source": [
    "### 3. Cleaning Data\n",
    "<a id=\"clean\"></a>"
   ]
  },
  {
   "cell_type": "markdown",
   "metadata": {},
   "source": [
    "#### 3.1 Change Datatypes\n",
    "<a id=\"dtype\"></a>"
   ]
  },
  {
   "cell_type": "code",
   "execution_count": 157,
   "metadata": {},
   "outputs": [],
   "source": [
    "# change data type of  ride_start_time and ride_end_time\n",
    "df_q1[\"ride_start_time\"]=pd.to_datetime(df_q1[\"ride_start_time\"])\n",
    "df_q1[\"ride_end_time\"]=pd.to_datetime(df_q1[\"ride_end_time\"])"
   ]
  },
  {
   "cell_type": "code",
   "execution_count": 158,
   "metadata": {},
   "outputs": [],
   "source": [
    "df_q2[\"ride_start_time\"]=pd.to_datetime(df_q2[\"ride_start_time\"])\n",
    "df_q2[\"ride_end_time\"]=pd.to_datetime(df_q2[\"ride_end_time\"])"
   ]
  },
  {
   "cell_type": "code",
   "execution_count": 159,
   "metadata": {},
   "outputs": [],
   "source": [
    "df_q3[\"ride_start_time\"]=pd.to_datetime(df_q3[\"ride_start_time\"])\n",
    "df_q3[\"ride_end_time\"]=pd.to_datetime(df_q3[\"ride_end_time\"])"
   ]
  },
  {
   "cell_type": "code",
   "execution_count": 160,
   "metadata": {},
   "outputs": [],
   "source": [
    "df_q4[\"ride_start_time\"]=pd.to_datetime(df_q4[\"ride_start_time\"])\n",
    "df_q4[\"ride_end_time\"]=pd.to_datetime(df_q4[\"ride_end_time\"])"
   ]
  },
  {
   "cell_type": "code",
   "execution_count": 161,
   "metadata": {},
   "outputs": [
    {
     "name": "stdout",
     "output_type": "stream",
     "text": [
      "<class 'pandas.core.frame.DataFrame'>\n",
      "RangeIndex: 387145 entries, 0 to 387144\n",
      "Data columns (total 12 columns):\n",
      " #   Column                  Non-Null Count   Dtype         \n",
      "---  ------                  --------------   -----         \n",
      " 0   rental_id               387145 non-null  int64         \n",
      " 1   ride_start_time         387145 non-null  datetime64[ns]\n",
      " 2   ride_end_time           387145 non-null  datetime64[ns]\n",
      " 3   bike_id                 387145 non-null  int64         \n",
      " 4   rental_duration_second  387145 non-null  object        \n",
      " 5   start_station_id        387145 non-null  int64         \n",
      " 6   start_station_name      387145 non-null  object        \n",
      " 7   end_station_id          387145 non-null  int64         \n",
      " 8   end_station_name        387145 non-null  object        \n",
      " 9   user_type               387145 non-null  object        \n",
      " 10  user_gender             364652 non-null  object        \n",
      " 11  user_birthyear          364823 non-null  float64       \n",
      "dtypes: datetime64[ns](2), float64(1), int64(4), object(5)\n",
      "memory usage: 35.4+ MB\n"
     ]
    }
   ],
   "source": [
    "df_q1.info()"
   ]
  },
  {
   "cell_type": "markdown",
   "metadata": {},
   "source": [
    "#### 3.2 Creating New Columns\n",
    "<a id = \"newcol\"></a>"
   ]
  },
  {
   "cell_type": "code",
   "execution_count": 162,
   "metadata": {},
   "outputs": [],
   "source": [
    "# creating new column ride_duration from existing columns\n",
    "df_q1[\"ride_duration\"]=df_q1[\"ride_end_time\"]-df_q1[\"ride_start_time\"]\n",
    "df_q2[\"ride_duration\"]=df_q2[\"ride_end_time\"]-df_q2[\"ride_start_time\"]\n",
    "df_q3[\"ride_duration\"]=df_q3[\"ride_end_time\"]-df_q3[\"ride_end_time\"]\n",
    "df_q4[\"ride_duration\"]=df_q4[\"ride_end_time\"]-df_q4[\"ride_end_time\"]"
   ]
  },
  {
   "cell_type": "code",
   "execution_count": 163,
   "metadata": {
    "scrolled": true
   },
   "outputs": [
    {
     "name": "stdout",
     "output_type": "stream",
     "text": [
      "<class 'pandas.core.frame.DataFrame'>\n",
      "Int64Index: 642686 entries, 0 to 142685\n",
      "Data columns (total 13 columns):\n",
      " #   Column                  Non-Null Count   Dtype          \n",
      "---  ------                  --------------   -----          \n",
      " 0   rental_id               642686 non-null  int64          \n",
      " 1   ride_start_time         642686 non-null  datetime64[ns] \n",
      " 2   ride_end_time           642686 non-null  datetime64[ns] \n",
      " 3   bike_id                 642686 non-null  int64          \n",
      " 4   rental_duration_second  642686 non-null  object         \n",
      " 5   start_station_id        642686 non-null  int64          \n",
      " 6   start_station_name      642686 non-null  object         \n",
      " 7   end_station_id          642686 non-null  int64          \n",
      " 8   end_station_name        642686 non-null  object         \n",
      " 9   user_type               642686 non-null  object         \n",
      " 10  user_gender             594304 non-null  object         \n",
      " 11  user_birthyear          596520 non-null  float64        \n",
      " 12  ride_duration           642686 non-null  timedelta64[ns]\n",
      "dtypes: datetime64[ns](2), float64(1), int64(4), object(5), timedelta64[ns](1)\n",
      "memory usage: 68.6+ MB\n"
     ]
    }
   ],
   "source": [
    "# checking new column\n",
    "df_q4.info()"
   ]
  },
  {
   "cell_type": "markdown",
   "metadata": {},
   "source": [
    "### 4. Analyzing Data and Visualization\n",
    "<a id=\"analysis\"></a>"
   ]
  },
  {
   "cell_type": "markdown",
   "metadata": {},
   "source": [
    "#### 4.1 Data Analysis by Quarters\n",
    "<a id=\"quarterly\"></a>"
   ]
  },
  {
   "cell_type": "markdown",
   "metadata": {},
   "source": [
    "Percentage of Subsribers and Customers in each quarter"
   ]
  },
  {
   "cell_type": "code",
   "execution_count": 164,
   "metadata": {},
   "outputs": [
    {
     "data": {
      "text/plain": [
       "<AxesSubplot:title={'center':'Quarter 4'}, ylabel='rental_id'>"
      ]
     },
     "execution_count": 164,
     "metadata": {},
     "output_type": "execute_result"
    },
    {
     "data": {
      "image/png": "[encoded data removed]",
      "text/plain": [
       "<Figure size 1296x720 with 4 Axes>"
      ]
     },
     "metadata": {},
     "output_type": "display_data"
    }
   ],
   "source": [
    "plt.figure(figsize=(18,10))\n",
    "plt.suptitle(\"Percentage of Customers and Subscribers\")\n",
    "type_percent=df_q1.groupby(\"user_type\")[\"rental_id\"].sum()\n",
    "plt.subplot(2,2,1)\n",
    "plt.gca().set_title('Quarter 1')\n",
    "type_percent.plot.pie(autopct=\"%.1f%%\")\n",
    "type_percent=df_q2.groupby(\"user_type\")[\"rental_id\"].sum()\n",
    "\n",
    "plt.subplot(2,2,2)\n",
    "plt.gca().set_title('Quarter 2')\n",
    "type_percent.plot.pie(autopct=\"%.1f%%\")\n",
    "type_percent=df_q3.groupby(\"user_type\")[\"rental_id\"].sum()\n",
    "\n",
    "plt.subplot(2,2,3)\n",
    "plt.gca().set_title('Quarter 3')\n",
    "type_percent.plot.pie(autopct=\"%.1f%%\")\n",
    "type_percent=df_q4.groupby(\"user_type\")[\"rental_id\"].sum()\n",
    "\n",
    "plt.subplot(2,2,4)\n",
    "plt.gca().set_title('Quarter 4')\n",
    "type_percent.plot.pie(autopct=\"%.1f%%\")"
   ]
  },
  {
   "cell_type": "markdown",
   "metadata": {},
   "source": [
    "Getting new column day_of_week with name of weekdays"
   ]
  },
  {
   "cell_type": "code",
   "execution_count": 165,
   "metadata": {},
   "outputs": [],
   "source": [
    "df_q1['day_of_week'] = df_q1[\"ride_start_time\"].dt.day_name()\n",
    "df_q2['day_of_week'] = df_q2[\"ride_start_time\"].dt.day_name()\n",
    "df_q3['day_of_week'] = df_q3[\"ride_start_time\"].dt.day_name()\n",
    "df_q4['day_of_week'] = df_q4[\"ride_start_time\"].dt.day_name()"
   ]
  },
  {
   "cell_type": "markdown",
   "metadata": {},
   "source": [
    "####  4.2 Yearly Analysis\n",
    "<a id=\"yearly\"></a>"
   ]
  },
  {
   "cell_type": "code",
   "execution_count": 166,
   "metadata": {},
   "outputs": [],
   "source": [
    "# join dataframes into one dataframes\n",
    "df_year=pd.concat([df_q1,df_q2,df_q3,df_q4])"
   ]
  },
  {
   "cell_type": "code",
   "execution_count": 167,
   "metadata": {},
   "outputs": [],
   "source": [
    "#  change user_type column to category type\n",
    "df_q1[\"user_type\"]=df_q1[\"user_type\"].astype('category')"
   ]
  },
  {
   "cell_type": "code",
   "execution_count": 168,
   "metadata": {},
   "outputs": [
    {
     "name": "stdout",
     "output_type": "stream",
     "text": [
      "<class 'pandas.core.frame.DataFrame'>\n",
      "Int64Index: 3603082 entries, 0 to 142685\n",
      "Data columns (total 14 columns):\n",
      " #   Column                  Dtype          \n",
      "---  ------                  -----          \n",
      " 0   rental_id               int64          \n",
      " 1   ride_start_time         datetime64[ns] \n",
      " 2   ride_end_time           datetime64[ns] \n",
      " 3   bike_id                 int64          \n",
      " 4   rental_duration_second  object         \n",
      " 5   start_station_id        int64          \n",
      " 6   start_station_name      object         \n",
      " 7   end_station_id          int64          \n",
      " 8   end_station_name        object         \n",
      " 9   user_type               object         \n",
      " 10  user_gender             object         \n",
      " 11  user_birthyear          float64        \n",
      " 12  ride_duration           timedelta64[ns]\n",
      " 13  day_of_week             object         \n",
      "dtypes: datetime64[ns](2), float64(1), int64(4), object(6), timedelta64[ns](1)\n",
      "memory usage: 412.3+ MB\n"
     ]
    }
   ],
   "source": [
    "df_year.info()"
   ]
  },
  {
   "cell_type": "code",
   "execution_count": 169,
   "metadata": {},
   "outputs": [],
   "source": [
    "df_year[\"day_of_week\"]=df_year[\"ride_start_time\"].dt.day_name()"
   ]
  },
  {
   "cell_type": "code",
   "execution_count": 170,
   "metadata": {},
   "outputs": [],
   "source": [
    "df_year[\"start_hour\"]=df_year[\"ride_start_time\"].dt.hour"
   ]
  },
  {
   "cell_type": "code",
   "execution_count": 171,
   "metadata": {},
   "outputs": [],
   "source": [
    "df_year[\"ride_month\"]=df_year[\"ride_start_time\"].dt.month_name()"
   ]
  },
  {
   "cell_type": "code",
   "execution_count": 172,
   "metadata": {},
   "outputs": [],
   "source": [
    "df_year[\"user_age\"]=2021-df_year[\"user_birthyear\"]"
   ]
  },
  {
   "cell_type": "code",
   "execution_count": 173,
   "metadata": {},
   "outputs": [
    {
     "data": {
      "text/html": [
       "<div>\n",
       "<style scoped>\n",
       "    .dataframe tbody tr th:only-of-type {\n",
       "        vertical-align: middle;\n",
       "    }\n",
       "\n",
       "    .dataframe tbody tr th {\n",
       "        vertical-align: top;\n",
       "    }\n",
       "\n",
       "    .dataframe thead th {\n",
       "        text-align: right;\n",
       "    }\n",
       "</style>\n",
       "<table border=\"1\" class=\"dataframe\">\n",
       "  <thead>\n",
       "    <tr style=\"text-align: right;\">\n",
       "      <th></th>\n",
       "      <th>rental_id</th>\n",
       "      <th>ride_start_time</th>\n",
       "      <th>ride_end_time</th>\n",
       "      <th>bike_id</th>\n",
       "      <th>rental_duration_second</th>\n",
       "      <th>start_station_id</th>\n",
       "      <th>start_station_name</th>\n",
       "      <th>end_station_id</th>\n",
       "      <th>end_station_name</th>\n",
       "      <th>user_type</th>\n",
       "      <th>user_gender</th>\n",
       "      <th>user_birthyear</th>\n",
       "      <th>ride_duration</th>\n",
       "      <th>day_of_week</th>\n",
       "      <th>start_hour</th>\n",
       "      <th>ride_month</th>\n",
       "      <th>user_age</th>\n",
       "    </tr>\n",
       "  </thead>\n",
       "  <tbody>\n",
       "    <tr>\n",
       "      <th>0</th>\n",
       "      <td>17536702</td>\n",
       "      <td>2018-01-01 00:12:00</td>\n",
       "      <td>2018-01-01 00:17:23</td>\n",
       "      <td>3304</td>\n",
       "      <td>323.0</td>\n",
       "      <td>69</td>\n",
       "      <td>Damen Ave &amp; Pierce Ave</td>\n",
       "      <td>159</td>\n",
       "      <td>Claremont Ave &amp; Hirsch St</td>\n",
       "      <td>Subscriber</td>\n",
       "      <td>Male</td>\n",
       "      <td>1988.0</td>\n",
       "      <td>0 days 00:05:23</td>\n",
       "      <td>Monday</td>\n",
       "      <td>0</td>\n",
       "      <td>January</td>\n",
       "      <td>33.0</td>\n",
       "    </tr>\n",
       "    <tr>\n",
       "      <th>1</th>\n",
       "      <td>17536703</td>\n",
       "      <td>2018-01-01 00:41:35</td>\n",
       "      <td>2018-01-01 00:47:52</td>\n",
       "      <td>5367</td>\n",
       "      <td>377.0</td>\n",
       "      <td>253</td>\n",
       "      <td>Winthrop Ave &amp; Lawrence Ave</td>\n",
       "      <td>325</td>\n",
       "      <td>Clark St &amp; Winnemac Ave (Temp)</td>\n",
       "      <td>Subscriber</td>\n",
       "      <td>Male</td>\n",
       "      <td>1984.0</td>\n",
       "      <td>0 days 00:06:17</td>\n",
       "      <td>Monday</td>\n",
       "      <td>0</td>\n",
       "      <td>January</td>\n",
       "      <td>37.0</td>\n",
       "    </tr>\n",
       "    <tr>\n",
       "      <th>2</th>\n",
       "      <td>17536704</td>\n",
       "      <td>2018-01-01 00:44:46</td>\n",
       "      <td>2018-01-01 01:33:10</td>\n",
       "      <td>4599</td>\n",
       "      <td>2,904.0</td>\n",
       "      <td>98</td>\n",
       "      <td>LaSalle St &amp; Washington St</td>\n",
       "      <td>509</td>\n",
       "      <td>Troy St &amp; North Ave</td>\n",
       "      <td>Subscriber</td>\n",
       "      <td>Male</td>\n",
       "      <td>1989.0</td>\n",
       "      <td>0 days 00:48:24</td>\n",
       "      <td>Monday</td>\n",
       "      <td>0</td>\n",
       "      <td>January</td>\n",
       "      <td>32.0</td>\n",
       "    </tr>\n",
       "    <tr>\n",
       "      <th>3</th>\n",
       "      <td>17536705</td>\n",
       "      <td>2018-01-01 00:53:10</td>\n",
       "      <td>2018-01-01 01:05:37</td>\n",
       "      <td>2302</td>\n",
       "      <td>747.0</td>\n",
       "      <td>125</td>\n",
       "      <td>Rush St &amp; Hubbard St</td>\n",
       "      <td>364</td>\n",
       "      <td>Larrabee St &amp; Oak St</td>\n",
       "      <td>Subscriber</td>\n",
       "      <td>Male</td>\n",
       "      <td>1983.0</td>\n",
       "      <td>0 days 00:12:27</td>\n",
       "      <td>Monday</td>\n",
       "      <td>0</td>\n",
       "      <td>January</td>\n",
       "      <td>38.0</td>\n",
       "    </tr>\n",
       "    <tr>\n",
       "      <th>4</th>\n",
       "      <td>17536706</td>\n",
       "      <td>2018-01-01 00:53:37</td>\n",
       "      <td>2018-01-01 00:56:40</td>\n",
       "      <td>3696</td>\n",
       "      <td>183.0</td>\n",
       "      <td>129</td>\n",
       "      <td>Blue Island Ave &amp; 18th St</td>\n",
       "      <td>205</td>\n",
       "      <td>Paulina St &amp; 18th St</td>\n",
       "      <td>Subscriber</td>\n",
       "      <td>Male</td>\n",
       "      <td>1989.0</td>\n",
       "      <td>0 days 00:03:03</td>\n",
       "      <td>Monday</td>\n",
       "      <td>0</td>\n",
       "      <td>January</td>\n",
       "      <td>32.0</td>\n",
       "    </tr>\n",
       "  </tbody>\n",
       "</table>\n",
       "</div>"
      ],
      "text/plain": [
       "   rental_id     ride_start_time       ride_end_time  bike_id  \\\n",
       "0   17536702 2018-01-01 00:12:00 2018-01-01 00:17:23     3304   \n",
       "1   17536703 2018-01-01 00:41:35 2018-01-01 00:47:52     5367   \n",
       "2   17536704 2018-01-01 00:44:46 2018-01-01 01:33:10     4599   \n",
       "3   17536705 2018-01-01 00:53:10 2018-01-01 01:05:37     2302   \n",
       "4   17536706 2018-01-01 00:53:37 2018-01-01 00:56:40     3696   \n",
       "\n",
       "  rental_duration_second  start_station_id           start_station_name  \\\n",
       "0                  323.0                69       Damen Ave & Pierce Ave   \n",
       "1                  377.0               253  Winthrop Ave & Lawrence Ave   \n",
       "2                2,904.0                98   LaSalle St & Washington St   \n",
       "3                  747.0               125         Rush St & Hubbard St   \n",
       "4                  183.0               129    Blue Island Ave & 18th St   \n",
       "\n",
       "   end_station_id                end_station_name   user_type user_gender  \\\n",
       "0             159       Claremont Ave & Hirsch St  Subscriber        Male   \n",
       "1             325  Clark St & Winnemac Ave (Temp)  Subscriber        Male   \n",
       "2             509             Troy St & North Ave  Subscriber        Male   \n",
       "3             364            Larrabee St & Oak St  Subscriber        Male   \n",
       "4             205            Paulina St & 18th St  Subscriber        Male   \n",
       "\n",
       "   user_birthyear   ride_duration day_of_week  start_hour ride_month  user_age  \n",
       "0          1988.0 0 days 00:05:23      Monday           0    January      33.0  \n",
       "1          1984.0 0 days 00:06:17      Monday           0    January      37.0  \n",
       "2          1989.0 0 days 00:48:24      Monday           0    January      32.0  \n",
       "3          1983.0 0 days 00:12:27      Monday           0    January      38.0  \n",
       "4          1989.0 0 days 00:03:03      Monday           0    January      32.0  "
      ]
     },
     "execution_count": 173,
     "metadata": {},
     "output_type": "execute_result"
    }
   ],
   "source": [
    "# check for new columns\n",
    "df_year.head()"
   ]
  },
  {
   "cell_type": "code",
   "execution_count": 174,
   "metadata": {},
   "outputs": [
    {
     "name": "stdout",
     "output_type": "stream",
     "text": [
      "<class 'pandas.core.frame.DataFrame'>\n",
      "Int64Index: 3603082 entries, 0 to 142685\n",
      "Data columns (total 17 columns):\n",
      " #   Column                  Dtype          \n",
      "---  ------                  -----          \n",
      " 0   rental_id               int64          \n",
      " 1   ride_start_time         datetime64[ns] \n",
      " 2   ride_end_time           datetime64[ns] \n",
      " 3   bike_id                 int64          \n",
      " 4   rental_duration_second  object         \n",
      " 5   start_station_id        int64          \n",
      " 6   start_station_name      object         \n",
      " 7   end_station_id          int64          \n",
      " 8   end_station_name        object         \n",
      " 9   user_type               object         \n",
      " 10  user_gender             object         \n",
      " 11  user_birthyear          float64        \n",
      " 12  ride_duration           timedelta64[ns]\n",
      " 13  day_of_week             object         \n",
      " 14  start_hour              int64          \n",
      " 15  ride_month              object         \n",
      " 16  user_age                float64        \n",
      "dtypes: datetime64[ns](2), float64(2), int64(5), object(7), timedelta64[ns](1)\n",
      "memory usage: 494.8+ MB\n"
     ]
    }
   ],
   "source": [
    "# check datatypes of new column\n",
    "df_year.info()"
   ]
  },
  {
   "cell_type": "markdown",
   "metadata": {},
   "source": [
    "How user types are distributed in weekday?"
   ]
  },
  {
   "cell_type": "code",
   "execution_count": 175,
   "metadata": {},
   "outputs": [
    {
     "data": {
      "text/plain": [
       "Text(0, 0.5, 'Trip Counts')"
      ]
     },
     "execution_count": 175,
     "metadata": {},
     "output_type": "execute_result"
    },
    {
     "data": {
      "image/png": "[encoded data removed]",
      "text/plain": [
       "<Figure size 864x576 with 1 Axes>"
      ]
     },
     "metadata": {
      "needs_background": "light"
     },
     "output_type": "display_data"
    }
   ],
   "source": [
    "# plotting bar chart of trip counts per month\n",
    "plt.figure(figsize=(12,8))\n",
    "sns.countplot(data=df_year,x=\"ride_month\",hue=\"user_type\")\n",
    "plt.title(\"Number of Trip per Month\")\n",
    "plt.xlabel(\"Months\")\n",
    "plt.ylabel(\"Trip Counts\")"
   ]
  },
  {
   "cell_type": "code",
   "execution_count": 176,
   "metadata": {},
   "outputs": [
    {
     "data": {
      "text/plain": [
       "user_type   ride_month\n",
       "Customer    July          150266\n",
       "            August        128766\n",
       "            June          108155\n",
       "            September      93901\n",
       "            May            89541\n",
       "            October        43744\n",
       "            April          21848\n",
       "            March          15543\n",
       "            November       11007\n",
       "            December        7485\n",
       "            January         3490\n",
       "            February        3410\n",
       "Subscriber  August        401989\n",
       "            July          394437\n",
       "            June          350264\n",
       "            September     344211\n",
       "            May           311609\n",
       "            October       301196\n",
       "            April         178264\n",
       "            March         158946\n",
       "            November      157767\n",
       "            December      121487\n",
       "            January       106216\n",
       "            February       99540\n",
       "Name: ride_month, dtype: int64"
      ]
     },
     "execution_count": 176,
     "metadata": {},
     "output_type": "execute_result"
    }
   ],
   "source": [
    "# group by user type and count number of ride per month\n",
    "df_year.groupby(\"user_type\")[\"ride_month\"].value_counts()"
   ]
  },
  {
   "cell_type": "markdown",
   "metadata": {},
   "source": [
    "It is found that both subscibers and customers rode more bikes in summer months. Less bikes were used in winter months."
   ]
  },
  {
   "cell_type": "markdown",
   "metadata": {},
   "source": [
    "Number of Rides in Weekday"
   ]
  },
  {
   "cell_type": "code",
   "execution_count": 177,
   "metadata": {},
   "outputs": [
    {
     "data": {
      "text/plain": [
       "Text(0, 0.5, 'Number of Trips')"
      ]
     },
     "execution_count": 177,
     "metadata": {},
     "output_type": "execute_result"
    },
    {
     "data": {
      "image/png": "[encoded data removed]",
      "text/plain": [
       "<Figure size 864x576 with 1 Axes>"
      ]
     },
     "metadata": {
      "needs_background": "light"
     },
     "output_type": "display_data"
    }
   ],
   "source": [
    "plt.figure(figsize=(12,8))\n",
    "sns.countplot(data=df_year,x=\"day_of_week\",hue=\"user_type\")\n",
    "plt.title(\"Number of Trip Count in Weekdays\")\n",
    "plt.xlabel(\"Day\")\n",
    "plt.ylabel(\"Number of Trips\")"
   ]
  },
  {
   "cell_type": "code",
   "execution_count": 178,
   "metadata": {
    "scrolled": true
   },
   "outputs": [
    {
     "data": {
      "text/plain": [
       "user_type   day_of_week\n",
       "Customer    Saturday       161421\n",
       "            Sunday         145311\n",
       "            Friday          82703\n",
       "            Monday          80472\n",
       "            Wednesday       71489\n",
       "            Thursday        71259\n",
       "            Tuesday         64501\n",
       "Subscriber  Wednesday      504836\n",
       "            Tuesday        494083\n",
       "            Thursday       491387\n",
       "            Monday         448097\n",
       "            Friday         442978\n",
       "            Saturday       283964\n",
       "            Sunday         260581\n",
       "Name: day_of_week, dtype: int64"
      ]
     },
     "execution_count": 178,
     "metadata": {},
     "output_type": "execute_result"
    }
   ],
   "source": [
    "# group by user type to get number of trip per weekday\n",
    "df_year.groupby(\"user_type\")[\"day_of_week\"].value_counts()"
   ]
  },
  {
   "cell_type": "code",
   "execution_count": 179,
   "metadata": {},
   "outputs": [
    {
     "data": {
      "text/plain": [
       "<AxesSubplot:xlabel='day_of_week', ylabel='rental_id'>"
      ]
     },
     "execution_count": 179,
     "metadata": {},
     "output_type": "execute_result"
    },
    {
     "data": {
      "image/png": "[encoded data removed]",
      "text/plain": [
       "<Figure size 432x288 with 1 Axes>"
      ]
     },
     "metadata": {
      "needs_background": "light"
     },
     "output_type": "display_data"
    }
   ],
   "source": [
    "sns.lineplot(x=\"day_of_week\",y=\"rental_id\",hue=\"user_type\",data=df_year)"
   ]
  },
  {
   "cell_type": "markdown",
   "metadata": {},
   "source": [
    "For Subcribers, the busiest days were weekdays: Wednesday, Tuesday, Monday, Friday Customers \n",
    "rode more bikes on Saturday and Sunday."
   ]
  },
  {
   "cell_type": "code",
   "execution_count": 180,
   "metadata": {},
   "outputs": [
    {
     "data": {
      "text/plain": [
       "Text(0, 0.5, 'Trip Counts')"
      ]
     },
     "execution_count": 180,
     "metadata": {},
     "output_type": "execute_result"
    },
    {
     "data": {
      "image/png": "[encoded data removed]",
      "text/plain": [
       "<Figure size 864x576 with 1 Axes>"
      ]
     },
     "metadata": {
      "needs_background": "light"
     },
     "output_type": "display_data"
    }
   ],
   "source": [
    "# group by user type and get their starting hour for bike ride\n",
    "plt.figure(figsize=(12,8))\n",
    "sns.countplot(data=df_year,x=\"start_hour\",hue=\"user_type\")\n",
    "plt.title(\"Number of Trip in Hours of a Day \")\n",
    "plt.xlabel(\"Starting_Hour\")\n",
    "plt.ylabel(\"Trip Counts\")"
   ]
  },
  {
   "cell_type": "markdown",
   "metadata": {},
   "source": [
    "It shows that Subscribers rode more bikes in evening an dmoring. \n",
    "Customers rode more bikes in late afternoon. There is a good pattern on how customers used bikes throughout hours of a day."
   ]
  },
  {
   "cell_type": "code",
   "execution_count": 181,
   "metadata": {},
   "outputs": [
    {
     "data": {
      "text/plain": [
       "user_type   start_hour\n",
       "Customer    15             65342\n",
       "            16             64607\n",
       "            14             62565\n",
       "            17             61263\n",
       "            13             61073\n",
       "            12             56672\n",
       "            11             49272\n",
       "            18             47890\n",
       "            19             36660\n",
       "            10             36522\n",
       "            20             24985\n",
       "            9              23485\n",
       "            21             17983\n",
       "            8              15497\n",
       "            22             15015\n",
       "            23              9886\n",
       "            7               8723\n",
       "            0               5810\n",
       "            6               4152\n",
       "            1               3639\n",
       "            2               2327\n",
       "            5               1576\n",
       "            3               1371\n",
       "            4                841\n",
       "Subscriber  17            382558\n",
       "            16            284106\n",
       "            8             276631\n",
       "            18            243392\n",
       "            7             225254\n",
       "            15            166583\n",
       "            19            158539\n",
       "            12            141689\n",
       "            13            134545\n",
       "            9             133752\n",
       "            14            129265\n",
       "            11            121668\n",
       "            6             103028\n",
       "            20            102806\n",
       "            10             98707\n",
       "            21             73112\n",
       "            22             48488\n",
       "            5              30901\n",
       "            23             28761\n",
       "            0              16680\n",
       "            1               9752\n",
       "            2               5902\n",
       "            4               5860\n",
       "            3               3947\n",
       "Name: start_hour, dtype: int64"
      ]
     },
     "execution_count": 181,
     "metadata": {},
     "output_type": "execute_result"
    }
   ],
   "source": [
    "# starting hours of user type\n",
    "df_year.groupby(\"user_type\")[\"start_hour\"].value_counts()"
   ]
  },
  {
   "cell_type": "markdown",
   "metadata": {},
   "source": [
    "Subscribers rode more bikes in evening an morning. \n",
    "Customers rode more bikes in late afternoon. There is a good pattern on how customers used bikes throughout hours of a day."
   ]
  },
  {
   "cell_type": "code",
   "execution_count": 182,
   "metadata": {
    "scrolled": true
   },
   "outputs": [
    {
     "data": {
      "text/plain": [
       "Text(0, 0.5, 'Counts')"
      ]
     },
     "execution_count": 182,
     "metadata": {},
     "output_type": "execute_result"
    },
    {
     "data": {
      "image/png": "[encoded data removed]",
      "text/plain": [
       "<Figure size 1440x864 with 1 Axes>"
      ]
     },
     "metadata": {
      "needs_background": "light"
     },
     "output_type": "display_data"
    }
   ],
   "source": [
    "# gender distribution of user type \n",
    "plt.figure(figsize=(20,12))\n",
    "sns.countplot(data=df_year,x=\"user_gender\",hue=\"user_type\")\n",
    "plt.title(\"Gender Distribution of User Type \")\n",
    "plt.xlabel(\"Gender\")\n",
    "plt.ylabel(\"Counts\")"
   ]
  },
  {
   "cell_type": "markdown",
   "metadata": {},
   "source": [
    "Most of the Subsricbers are male.\n",
    "Customers user have no huge difference in number of males and females."
   ]
  },
  {
   "cell_type": "code",
   "execution_count": 183,
   "metadata": {
    "scrolled": true
   },
   "outputs": [
    {
     "data": {
      "text/plain": [
       "Text(0, 0.5, 'Trip Counts')"
      ]
     },
     "execution_count": 183,
     "metadata": {},
     "output_type": "execute_result"
    },
    {
     "data": {
      "image/png": "[encoded data removed]",
      "text/plain": [
       "<Figure size 1440x864 with 1 Axes>"
      ]
     },
     "metadata": {
      "needs_background": "light"
     },
     "output_type": "display_data"
    }
   ],
   "source": [
    "# age distribution of user type \n",
    "plt.figure(figsize=(20,12))\n",
    "sns.countplot(data=df_year,x=\"user_age\",hue=\"user_type\")\n",
    "plt.title(\" \")\n",
    "plt.xlabel(\"Starting_Hour\")\n",
    "plt.ylabel(\"Trip Counts\")"
   ]
  },
  {
   "cell_type": "markdown",
   "metadata": {},
   "source": [
    "Most of the users are in late twenties and early thirties."
   ]
  },
  {
   "cell_type": "code",
   "execution_count": null,
   "metadata": {},
   "outputs": [],
   "source": []
  },
  {
   "cell_type": "code",
   "execution_count": 184,
   "metadata": {},
   "outputs": [
    {
     "data": {
      "text/plain": [
       "<AxesSubplot:xlabel='user_type', ylabel='start_hour'>"
      ]
     },
     "execution_count": 184,
     "metadata": {},
     "output_type": "execute_result"
    },
    {
     "data": {
      "image/png": "[encoded data removed]",
      "text/plain": [
       "<Figure size 432x288 with 1 Axes>"
      ]
     },
     "metadata": {
      "needs_background": "light"
     },
     "output_type": "display_data"
    }
   ],
   "source": [
    "sns.boxplot(x ='user_type', y ='start_hour', data = df_year)"
   ]
  },
  {
   "cell_type": "code",
   "execution_count": 185,
   "metadata": {},
   "outputs": [],
   "source": [
    "# change datatype of ride_duration\n",
    "df_year[\"ride_duration\"]=df_year[\"ride_duration\"].dt.total_seconds()"
   ]
  },
  {
   "cell_type": "code",
   "execution_count": 186,
   "metadata": {
    "scrolled": false
   },
   "outputs": [
    {
     "name": "stdout",
     "output_type": "stream",
     "text": [
      "<class 'pandas.core.frame.DataFrame'>\n",
      "Int64Index: 3603082 entries, 0 to 142685\n",
      "Data columns (total 17 columns):\n",
      " #   Column                  Dtype         \n",
      "---  ------                  -----         \n",
      " 0   rental_id               int64         \n",
      " 1   ride_start_time         datetime64[ns]\n",
      " 2   ride_end_time           datetime64[ns]\n",
      " 3   bike_id                 int64         \n",
      " 4   rental_duration_second  object        \n",
      " 5   start_station_id        int64         \n",
      " 6   start_station_name      object        \n",
      " 7   end_station_id          int64         \n",
      " 8   end_station_name        object        \n",
      " 9   user_type               object        \n",
      " 10  user_gender             object        \n",
      " 11  user_birthyear          float64       \n",
      " 12  ride_duration           float64       \n",
      " 13  day_of_week             object        \n",
      " 14  start_hour              int64         \n",
      " 15  ride_month              object        \n",
      " 16  user_age                float64       \n",
      "dtypes: datetime64[ns](2), float64(3), int64(5), object(7)\n",
      "memory usage: 527.1+ MB\n"
     ]
    }
   ],
   "source": [
    "# datatype of ride_duration\n",
    "df_year.info()"
   ]
  },
  {
   "cell_type": "markdown",
   "metadata": {},
   "source": [
    "Correlation"
   ]
  },
  {
   "cell_type": "markdown",
   "metadata": {},
   "source": [
    "No correlation is found between given variables."
   ]
  },
  {
   "cell_type": "code",
   "execution_count": 187,
   "metadata": {
    "scrolled": true
   },
   "outputs": [
    {
     "name": "stdout",
     "output_type": "stream",
     "text": [
      "0.0014939389807580024\n"
     ]
    }
   ],
   "source": [
    "# correlaton \n",
    "print(df_year[\"start_hour\"].corr(df_year[\"ride_duration\"]))"
   ]
  },
  {
   "cell_type": "markdown",
   "metadata": {},
   "source": [
    "No correlation between start hour and ride duration."
   ]
  },
  {
   "cell_type": "code",
   "execution_count": 188,
   "metadata": {},
   "outputs": [
    {
     "name": "stdout",
     "output_type": "stream",
     "text": [
      "-0.09751886768206834\n"
     ]
    }
   ],
   "source": [
    "print(df_year[\"start_hour\"].corr(df_year[\"user_age\"]))"
   ]
  },
  {
   "cell_type": "code",
   "execution_count": 189,
   "metadata": {},
   "outputs": [],
   "source": [
    "# correlation of user type\n",
    "df_numerized=df_year\n",
    "for col_name in df_numerized.columns:\n",
    "    if(df_numerized[col_name].dtype =='object'):\n",
    "        df_numerized[col_name]=df_numerized[col_name].astype('category')\n",
    "        df_numerized[col_name]=df_numerized[col_name].cat.codes"
   ]
  },
  {
   "cell_type": "code",
   "execution_count": 190,
   "metadata": {
    "scrolled": true
   },
   "outputs": [
    {
     "data": {
      "text/html": [
       "<div>\n",
       "<style scoped>\n",
       "    .dataframe tbody tr th:only-of-type {\n",
       "        vertical-align: middle;\n",
       "    }\n",
       "\n",
       "    .dataframe tbody tr th {\n",
       "        vertical-align: top;\n",
       "    }\n",
       "\n",
       "    .dataframe thead th {\n",
       "        text-align: right;\n",
       "    }\n",
       "</style>\n",
       "<table border=\"1\" class=\"dataframe\">\n",
       "  <thead>\n",
       "    <tr style=\"text-align: right;\">\n",
       "      <th></th>\n",
       "      <th>rental_id</th>\n",
       "      <th>ride_start_time</th>\n",
       "      <th>ride_end_time</th>\n",
       "      <th>bike_id</th>\n",
       "      <th>rental_duration_second</th>\n",
       "      <th>start_station_id</th>\n",
       "      <th>start_station_name</th>\n",
       "      <th>end_station_id</th>\n",
       "      <th>end_station_name</th>\n",
       "      <th>user_type</th>\n",
       "      <th>user_gender</th>\n",
       "      <th>user_birthyear</th>\n",
       "      <th>ride_duration</th>\n",
       "      <th>day_of_week</th>\n",
       "      <th>start_hour</th>\n",
       "      <th>ride_month</th>\n",
       "      <th>user_age</th>\n",
       "    </tr>\n",
       "  </thead>\n",
       "  <tbody>\n",
       "    <tr>\n",
       "      <th>0</th>\n",
       "      <td>17536702</td>\n",
       "      <td>2018-01-01 00:12:00</td>\n",
       "      <td>2018-01-01 00:17:23</td>\n",
       "      <td>3304</td>\n",
       "      <td>10361</td>\n",
       "      <td>69</td>\n",
       "      <td>185</td>\n",
       "      <td>159</td>\n",
       "      <td>112</td>\n",
       "      <td>1</td>\n",
       "      <td>1</td>\n",
       "      <td>1988.0</td>\n",
       "      <td>323.0</td>\n",
       "      <td>1</td>\n",
       "      <td>0</td>\n",
       "      <td>4</td>\n",
       "      <td>33.0</td>\n",
       "    </tr>\n",
       "    <tr>\n",
       "      <th>1</th>\n",
       "      <td>17536703</td>\n",
       "      <td>2018-01-01 00:41:35</td>\n",
       "      <td>2018-01-01 00:47:52</td>\n",
       "      <td>5367</td>\n",
       "      <td>10802</td>\n",
       "      <td>253</td>\n",
       "      <td>607</td>\n",
       "      <td>325</td>\n",
       "      <td>140</td>\n",
       "      <td>1</td>\n",
       "      <td>1</td>\n",
       "      <td>1984.0</td>\n",
       "      <td>377.0</td>\n",
       "      <td>1</td>\n",
       "      <td>0</td>\n",
       "      <td>4</td>\n",
       "      <td>37.0</td>\n",
       "    </tr>\n",
       "    <tr>\n",
       "      <th>2</th>\n",
       "      <td>17536704</td>\n",
       "      <td>2018-01-01 00:44:46</td>\n",
       "      <td>2018-01-01 01:33:10</td>\n",
       "      <td>4599</td>\n",
       "      <td>7580</td>\n",
       "      <td>98</td>\n",
       "      <td>319</td>\n",
       "      <td>509</td>\n",
       "      <td>551</td>\n",
       "      <td>1</td>\n",
       "      <td>1</td>\n",
       "      <td>1989.0</td>\n",
       "      <td>2904.0</td>\n",
       "      <td>1</td>\n",
       "      <td>0</td>\n",
       "      <td>4</td>\n",
       "      <td>32.0</td>\n",
       "    </tr>\n",
       "    <tr>\n",
       "      <th>3</th>\n",
       "      <td>17536705</td>\n",
       "      <td>2018-01-01 00:53:10</td>\n",
       "      <td>2018-01-01 01:05:37</td>\n",
       "      <td>2302</td>\n",
       "      <td>17060</td>\n",
       "      <td>125</td>\n",
       "      <td>475</td>\n",
       "      <td>364</td>\n",
       "      <td>341</td>\n",
       "      <td>1</td>\n",
       "      <td>1</td>\n",
       "      <td>1983.0</td>\n",
       "      <td>747.0</td>\n",
       "      <td>1</td>\n",
       "      <td>0</td>\n",
       "      <td>4</td>\n",
       "      <td>38.0</td>\n",
       "    </tr>\n",
       "    <tr>\n",
       "      <th>4</th>\n",
       "      <td>17536706</td>\n",
       "      <td>2018-01-01 00:53:37</td>\n",
       "      <td>2018-01-01 00:56:40</td>\n",
       "      <td>3696</td>\n",
       "      <td>6394</td>\n",
       "      <td>129</td>\n",
       "      <td>44</td>\n",
       "      <td>205</td>\n",
       "      <td>432</td>\n",
       "      <td>1</td>\n",
       "      <td>1</td>\n",
       "      <td>1989.0</td>\n",
       "      <td>183.0</td>\n",
       "      <td>1</td>\n",
       "      <td>0</td>\n",
       "      <td>4</td>\n",
       "      <td>32.0</td>\n",
       "    </tr>\n",
       "    <tr>\n",
       "      <th>...</th>\n",
       "      <td>...</td>\n",
       "      <td>...</td>\n",
       "      <td>...</td>\n",
       "      <td>...</td>\n",
       "      <td>...</td>\n",
       "      <td>...</td>\n",
       "      <td>...</td>\n",
       "      <td>...</td>\n",
       "      <td>...</td>\n",
       "      <td>...</td>\n",
       "      <td>...</td>\n",
       "      <td>...</td>\n",
       "      <td>...</td>\n",
       "      <td>...</td>\n",
       "      <td>...</td>\n",
       "      <td>...</td>\n",
       "      <td>...</td>\n",
       "    </tr>\n",
       "    <tr>\n",
       "      <th>142681</th>\n",
       "      <td>21742438</td>\n",
       "      <td>2018-12-31 23:45:17</td>\n",
       "      <td>2018-12-31 23:50:05</td>\n",
       "      <td>2931</td>\n",
       "      <td>8954</td>\n",
       "      <td>49</td>\n",
       "      <td>194</td>\n",
       "      <td>164</td>\n",
       "      <td>242</td>\n",
       "      <td>1</td>\n",
       "      <td>0</td>\n",
       "      <td>1983.0</td>\n",
       "      <td>0.0</td>\n",
       "      <td>1</td>\n",
       "      <td>23</td>\n",
       "      <td>2</td>\n",
       "      <td>38.0</td>\n",
       "    </tr>\n",
       "    <tr>\n",
       "      <th>142682</th>\n",
       "      <td>21742439</td>\n",
       "      <td>2018-12-31 23:48:48</td>\n",
       "      <td>2018-12-31 23:57:22</td>\n",
       "      <td>4386</td>\n",
       "      <td>13753</td>\n",
       "      <td>624</td>\n",
       "      <td>195</td>\n",
       "      <td>44</td>\n",
       "      <td>534</td>\n",
       "      <td>1</td>\n",
       "      <td>0</td>\n",
       "      <td>1990.0</td>\n",
       "      <td>0.0</td>\n",
       "      <td>1</td>\n",
       "      <td>23</td>\n",
       "      <td>2</td>\n",
       "      <td>31.0</td>\n",
       "    </tr>\n",
       "    <tr>\n",
       "      <th>142683</th>\n",
       "      <td>21742440</td>\n",
       "      <td>2018-12-31 23:50:09</td>\n",
       "      <td>2018-12-31 23:57:16</td>\n",
       "      <td>4927</td>\n",
       "      <td>12153</td>\n",
       "      <td>41</td>\n",
       "      <td>232</td>\n",
       "      <td>52</td>\n",
       "      <td>394</td>\n",
       "      <td>1</td>\n",
       "      <td>0</td>\n",
       "      <td>1995.0</td>\n",
       "      <td>0.0</td>\n",
       "      <td>1</td>\n",
       "      <td>23</td>\n",
       "      <td>2</td>\n",
       "      <td>26.0</td>\n",
       "    </tr>\n",
       "    <tr>\n",
       "      <th>142684</th>\n",
       "      <td>21742441</td>\n",
       "      <td>2018-12-31 23:55:04</td>\n",
       "      <td>2018-12-31 23:58:24</td>\n",
       "      <td>1350</td>\n",
       "      <td>7832</td>\n",
       "      <td>141</td>\n",
       "      <td>130</td>\n",
       "      <td>118</td>\n",
       "      <td>481</td>\n",
       "      <td>1</td>\n",
       "      <td>1</td>\n",
       "      <td>1999.0</td>\n",
       "      <td>0.0</td>\n",
       "      <td>1</td>\n",
       "      <td>23</td>\n",
       "      <td>2</td>\n",
       "      <td>22.0</td>\n",
       "    </tr>\n",
       "    <tr>\n",
       "      <th>142685</th>\n",
       "      <td>21742442</td>\n",
       "      <td>2018-12-31 23:59:18</td>\n",
       "      <td>2019-01-01 00:20:43</td>\n",
       "      <td>2006</td>\n",
       "      <td>322</td>\n",
       "      <td>260</td>\n",
       "      <td>298</td>\n",
       "      <td>166</td>\n",
       "      <td>32</td>\n",
       "      <td>1</td>\n",
       "      <td>1</td>\n",
       "      <td>1990.0</td>\n",
       "      <td>0.0</td>\n",
       "      <td>1</td>\n",
       "      <td>23</td>\n",
       "      <td>2</td>\n",
       "      <td>31.0</td>\n",
       "    </tr>\n",
       "  </tbody>\n",
       "</table>\n",
       "<p>3603082 rows × 17 columns</p>\n",
       "</div>"
      ],
      "text/plain": [
       "        rental_id     ride_start_time       ride_end_time  bike_id  \\\n",
       "0        17536702 2018-01-01 00:12:00 2018-01-01 00:17:23     3304   \n",
       "1        17536703 2018-01-01 00:41:35 2018-01-01 00:47:52     5367   \n",
       "2        17536704 2018-01-01 00:44:46 2018-01-01 01:33:10     4599   \n",
       "3        17536705 2018-01-01 00:53:10 2018-01-01 01:05:37     2302   \n",
       "4        17536706 2018-01-01 00:53:37 2018-01-01 00:56:40     3696   \n",
       "...           ...                 ...                 ...      ...   \n",
       "142681   21742438 2018-12-31 23:45:17 2018-12-31 23:50:05     2931   \n",
       "142682   21742439 2018-12-31 23:48:48 2018-12-31 23:57:22     4386   \n",
       "142683   21742440 2018-12-31 23:50:09 2018-12-31 23:57:16     4927   \n",
       "142684   21742441 2018-12-31 23:55:04 2018-12-31 23:58:24     1350   \n",
       "142685   21742442 2018-12-31 23:59:18 2019-01-01 00:20:43     2006   \n",
       "\n",
       "        rental_duration_second  start_station_id  start_station_name  \\\n",
       "0                        10361                69                 185   \n",
       "1                        10802               253                 607   \n",
       "2                         7580                98                 319   \n",
       "3                        17060               125                 475   \n",
       "4                         6394               129                  44   \n",
       "...                        ...               ...                 ...   \n",
       "142681                    8954                49                 194   \n",
       "142682                   13753               624                 195   \n",
       "142683                   12153                41                 232   \n",
       "142684                    7832               141                 130   \n",
       "142685                     322               260                 298   \n",
       "\n",
       "        end_station_id  end_station_name  user_type  user_gender  \\\n",
       "0                  159               112          1            1   \n",
       "1                  325               140          1            1   \n",
       "2                  509               551          1            1   \n",
       "3                  364               341          1            1   \n",
       "4                  205               432          1            1   \n",
       "...                ...               ...        ...          ...   \n",
       "142681             164               242          1            0   \n",
       "142682              44               534          1            0   \n",
       "142683              52               394          1            0   \n",
       "142684             118               481          1            1   \n",
       "142685             166                32          1            1   \n",
       "\n",
       "        user_birthyear  ride_duration  day_of_week  start_hour  ride_month  \\\n",
       "0               1988.0          323.0            1           0           4   \n",
       "1               1984.0          377.0            1           0           4   \n",
       "2               1989.0         2904.0            1           0           4   \n",
       "3               1983.0          747.0            1           0           4   \n",
       "4               1989.0          183.0            1           0           4   \n",
       "...                ...            ...          ...         ...         ...   \n",
       "142681          1983.0            0.0            1          23           2   \n",
       "142682          1990.0            0.0            1          23           2   \n",
       "142683          1995.0            0.0            1          23           2   \n",
       "142684          1999.0            0.0            1          23           2   \n",
       "142685          1990.0            0.0            1          23           2   \n",
       "\n",
       "        user_age  \n",
       "0           33.0  \n",
       "1           37.0  \n",
       "2           32.0  \n",
       "3           38.0  \n",
       "4           32.0  \n",
       "...          ...  \n",
       "142681      38.0  \n",
       "142682      31.0  \n",
       "142683      26.0  \n",
       "142684      22.0  \n",
       "142685      31.0  \n",
       "\n",
       "[3603082 rows x 17 columns]"
      ]
     },
     "execution_count": 190,
     "metadata": {},
     "output_type": "execute_result"
    }
   ],
   "source": [
    "# get numeric data for all data from df\n",
    "df_numerized"
   ]
  },
  {
   "cell_type": "code",
   "execution_count": 191,
   "metadata": {
    "scrolled": true
   },
   "outputs": [
    {
     "data": {
      "text/plain": [
       "Text(0.5, 1.0, 'Correlation Matrix for Numeric Features')"
      ]
     },
     "execution_count": 191,
     "metadata": {},
     "output_type": "execute_result"
    },
    {
     "data": {
      "image/png": "[encoded data removed]",
      "text/plain": [
       "<Figure size 1440x864 with 2 Axes>"
      ]
     },
     "metadata": {
      "needs_background": "light"
     },
     "output_type": "display_data"
    }
   ],
   "source": [
    "plt.figure(figsize=(20,12))\n",
    "corr_matrix=df_numerized.corr(method=\"pearson\")\n",
    "sns.heatmap(corr_matrix,annot=True)\n",
    "plt.title(\"Correlation Matrix for Numeric Features\")\n"
   ]
  },
  {
   "cell_type": "code",
   "execution_count": 192,
   "metadata": {},
   "outputs": [],
   "source": [
    "# get higher correlation\n",
    "corr_pair=corr_matrix.unstack()"
   ]
  },
  {
   "cell_type": "code",
   "execution_count": 193,
   "metadata": {},
   "outputs": [],
   "source": [
    "# sort correlation matrix\n",
    "sort_corr=corr_pair.sort_values()"
   ]
  },
  {
   "cell_type": "code",
   "execution_count": 194,
   "metadata": {},
   "outputs": [
    {
     "data": {
      "text/plain": [
       "user_gender             user_type                 0.760248\n",
       "user_type               user_gender               0.760248\n",
       "rental_id               rental_id                 1.000000\n",
       "user_type               user_type                 1.000000\n",
       "start_hour              start_hour                1.000000\n",
       "day_of_week             day_of_week               1.000000\n",
       "ride_duration           ride_duration             1.000000\n",
       "user_birthyear          user_birthyear            1.000000\n",
       "user_gender             user_gender               1.000000\n",
       "end_station_name        end_station_name          1.000000\n",
       "end_station_id          end_station_id            1.000000\n",
       "start_station_name      start_station_name        1.000000\n",
       "start_station_id        start_station_id          1.000000\n",
       "rental_duration_second  rental_duration_second    1.000000\n",
       "bike_id                 bike_id                   1.000000\n",
       "ride_month              ride_month                1.000000\n",
       "user_age                user_age                  1.000000\n",
       "dtype: float64"
      ]
     },
     "execution_count": 194,
     "metadata": {},
     "output_type": "execute_result"
    }
   ],
   "source": [
    "# get higher correlation\n",
    "high_corr=sort_corr[(sort_corr)>0.5]\n",
    "high_corr"
   ]
  },
  {
   "cell_type": "code",
   "execution_count": 195,
   "metadata": {},
   "outputs": [
    {
     "ename": "SyntaxError",
     "evalue": "invalid syntax (<ipython-input-195-4fabe7c5dab2>, line 1)",
     "output_type": "error",
     "traceback": [
      "\u001b[1;36m  File \u001b[1;32m\"<ipython-input-195-4fabe7c5dab2>\"\u001b[1;36m, line \u001b[1;32m1\u001b[0m\n\u001b[1;33m    User type and user gender have positive correlation. Males tends to ride more bikes than females.\u001b[0m\n\u001b[1;37m         ^\u001b[0m\n\u001b[1;31mSyntaxError\u001b[0m\u001b[1;31m:\u001b[0m invalid syntax\n"
     ]
    }
   ],
   "source": [
    "User type and user gender have positive correlation. Males tends to ride more bikes than females."
   ]
  },
  {
   "cell_type": "code",
   "execution_count": null,
   "metadata": {},
   "outputs": [],
   "source": [
    "# gender distribution of user type \n",
    "plt.figure(figsize=(20,12))\n",
    "sns.countplot(data=df_year,x=\"user_gender\",hue=\"user_type\")\n",
    "plt.title(\"Gender Distribution of User Type \")\n",
    "plt.xlabel(\"Gender\")\n",
    "plt.ylabel(\"Counts\")"
   ]
  },
  {
   "cell_type": "code",
   "execution_count": null,
   "metadata": {},
   "outputs": [],
   "source": [
    "plt.figure(figsize=(20,16))\n",
    "sns.countplot(data=df_year,x=\"ride_duration\",hue=\"user_type\")\n",
    "plt.title(\"Number \")\n",
    "plt.xlabel(\"rental_duration_second\")\n",
    "plt.ylabel(\"Trip Counts\")"
   ]
  },
  {
   "cell_type": "code",
   "execution_count": null,
   "metadata": {},
   "outputs": [],
   "source": []
  },
  {
   "cell_type": "code",
   "execution_count": null,
   "metadata": {},
   "outputs": [],
   "source": []
  }
 ],
 "metadata": {
  "kernelspec": {
   "display_name": "Python 3",
   "language": "python",
   "name": "python3"
  },
  "language_info": {
   "codemirror_mode": {
    "name": "ipython",
    "version": 3
   },
   "file_extension": ".py",
   "mimetype": "text/x-python",
   "name": "python",
   "nbconvert_exporter": "python",
   "pygments_lexer": "ipython3",
   "version": "3.8.10"
  }
 },
 "nbformat": 4,
 "nbformat_minor": 4
}
