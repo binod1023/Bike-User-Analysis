{
 "cells": [
  {
   "cell_type": "markdown",
   "metadata": {},
   "source": [
    "# Data Analysis of Bike Ride Users"
   ]
  },
  {
   "cell_type": "markdown",
   "metadata": {},
   "source": [
    "### Table of Contents\n",
    "1. [Gathering Data](#gather)\n",
    "    \n",
    "2. [Assessing Data](#asess)"
   ]
  },
  {
   "cell_type": "code",
   "execution_count": 2,
   "metadata": {},
   "outputs": [],
   "source": [
    "import pandas as pd\n",
    "import numpy as np"
   ]
  },
  {
   "cell_type": "code",
   "execution_count": 3,
   "metadata": {},
   "outputs": [],
   "source": [
    "import seaborn as sns\n",
    "import matplotlib.pyplot as plt\n",
    "%matplotlib inline\n",
    "from datetime import datetime"
   ]
  },
  {
   "cell_type": "markdown",
   "metadata": {},
   "source": [
    "### 1. Gathering Data\n",
    "<a id=\"gather\"></a>"
   ]
  },
  {
   "cell_type": "code",
   "execution_count": 4,
   "metadata": {},
   "outputs": [],
   "source": [
    "# import dataset of Quarter 1\n",
    "df_q1=pd.read_csv(\"bike_q1.csv\")"
   ]
  },
  {
   "cell_type": "code",
   "execution_count": 6,
   "metadata": {},
   "outputs": [],
   "source": [
    "# import dataset of first part of quarter 2\n",
    "df_q2_first=pd.read_excel(\"bike_q2_part1.xlsx\")"
   ]
  },
  {
   "cell_type": "code",
   "execution_count": 7,
   "metadata": {},
   "outputs": [],
   "source": [
    "# import second part dataset of Quarter 2\n",
    "df_q2_second=pd.read_excel(\"bike_q2_part2.xlsx\")"
   ]
  },
  {
   "cell_type": "code",
   "execution_count": 8,
   "metadata": {},
   "outputs": [],
   "source": [
    "# first part of Quarter 3\n",
    "df_q3_first=pd.read_excel(\"bike_q3_part1.xlsx\")"
   ]
  },
  {
   "cell_type": "code",
   "execution_count": 9,
   "metadata": {},
   "outputs": [],
   "source": [
    "# second part of Quarter 3\n",
    "df_q3_second=pd.read_excel(\"bike_q3_part2.xlsx\")"
   ]
  },
  {
   "cell_type": "code",
   "execution_count": 10,
   "metadata": {},
   "outputs": [],
   "source": [
    "# Quarter 4 data\n",
    "df_q4_first=pd.read_excel(\"bike_q4_part1.xlsx\")"
   ]
  },
  {
   "cell_type": "code",
   "execution_count": 11,
   "metadata": {},
   "outputs": [],
   "source": [
    "df_q4_second=pd.read_excel(\"bike_q4_part2.xlsx\")"
   ]
  },
  {
   "cell_type": "markdown",
   "metadata": {},
   "source": [
    "### 2. Assessing Data \n",
    "<a id=\"asess\"></a>"
   ]
  },
  {
   "cell_type": "markdown",
   "metadata": {},
   "source": [
    "Quarter 1"
   ]
  },
  {
   "cell_type": "code",
   "execution_count": 12,
   "metadata": {},
   "outputs": [
    {
     "name": "stdout",
     "output_type": "stream",
     "text": [
      "<class 'pandas.core.frame.DataFrame'>\n",
      "RangeIndex: 387145 entries, 0 to 387144\n",
      "Data columns (total 12 columns):\n",
      " #   Column                                            Non-Null Count   Dtype  \n",
      "---  ------                                            --------------   -----  \n",
      " 0   01 - Rental Details Rental ID                     387145 non-null  int64  \n",
      " 1   01 - Rental Details Local Start Time              387145 non-null  object \n",
      " 2   01 - Rental Details Local End Time                387145 non-null  object \n",
      " 3   01 - Rental Details Bike ID                       387145 non-null  int64  \n",
      " 4   01 - Rental Details Duration In Seconds Uncapped  387145 non-null  object \n",
      " 5   03 - Rental Start Station ID                      387145 non-null  int64  \n",
      " 6   03 - Rental Start Station Name                    387145 non-null  object \n",
      " 7   02 - Rental End Station ID                        387145 non-null  int64  \n",
      " 8   02 - Rental End Station Name                      387145 non-null  object \n",
      " 9   User Type                                         387145 non-null  object \n",
      " 10  Member Gender                                     364652 non-null  object \n",
      " 11  05 - Member Details Member Birthday Year          364823 non-null  float64\n",
      "dtypes: float64(1), int64(4), object(7)\n",
      "memory usage: 35.4+ MB\n"
     ]
    }
   ],
   "source": [
    "df_q1.info()"
   ]
  },
  {
   "cell_type": "code",
   "execution_count": 13,
   "metadata": {},
   "outputs": [],
   "source": [
    "# rename column name in q1\n",
    "df_q1.columns=[\"rental_id\",\"ride_start_time\",\"ride_end_time\",\"bike_id\",\"rental_duration_second\",\"start_station_id\",\n",
    " \"start_station_name\",\"end_station_id\",\"end_station_name\",\"user_type\",\"user_gender\",\"user_birthyear\"]"
   ]
  },
  {
   "cell_type": "code",
   "execution_count": 14,
   "metadata": {
    "scrolled": false
   },
   "outputs": [
    {
     "data": {
      "text/plain": [
       "Index(['rental_id', 'ride_start_time', 'ride_end_time', 'bike_id',\n",
       "       'rental_duration_second', 'start_station_id', 'start_station_name',\n",
       "       'end_station_id', 'end_station_name', 'user_type', 'user_gender',\n",
       "       'user_birthyear'],\n",
       "      dtype='object')"
      ]
     },
     "execution_count": 14,
     "metadata": {},
     "output_type": "execute_result"
    }
   ],
   "source": [
    "# check change of column names\n",
    "df_q1.columns"
   ]
  },
  {
   "cell_type": "markdown",
   "metadata": {},
   "source": [
    "Quarter 2"
   ]
  },
  {
   "cell_type": "code",
   "execution_count": 15,
   "metadata": {},
   "outputs": [
    {
     "name": "stdout",
     "output_type": "stream",
     "text": [
      "<class 'pandas.core.frame.DataFrame'>\n",
      "RangeIndex: 500000 entries, 0 to 499999\n",
      "Data columns (total 13 columns):\n",
      " #   Column             Non-Null Count   Dtype  \n",
      "---  ------             --------------   -----  \n",
      " 0   Unnamed: 0         500000 non-null  int64  \n",
      " 1   trip_id            500000 non-null  int64  \n",
      " 2   start_time         500000 non-null  object \n",
      " 3   end_time           500000 non-null  object \n",
      " 4   bikeid             500000 non-null  int64  \n",
      " 5   tripduration       500000 non-null  object \n",
      " 6   from_station_id    500000 non-null  int64  \n",
      " 7   from_station_name  500000 non-null  object \n",
      " 8   to_station_id      500000 non-null  int64  \n",
      " 9   to_station_name    500000 non-null  object \n",
      " 10  usertype           500000 non-null  object \n",
      " 11  gender             425655 non-null  object \n",
      " 12  birthyear          426231 non-null  float64\n",
      "dtypes: float64(1), int64(5), object(7)\n",
      "memory usage: 49.6+ MB\n"
     ]
    }
   ],
   "source": [
    "df_q2_first.info()"
   ]
  },
  {
   "cell_type": "code",
   "execution_count": 16,
   "metadata": {},
   "outputs": [],
   "source": [
    "# drop column \"Unnamed: O\"\n",
    "df_q2_first.drop(\"Unnamed: 0\",axis = 1, inplace=True)"
   ]
  },
  {
   "cell_type": "code",
   "execution_count": 17,
   "metadata": {},
   "outputs": [],
   "source": [
    "# rename column names\n",
    "df_q2_first.columns=[\"rental_id\",\"ride_start_time\",\"ride_end_time\",\"bike_id\",\"rental_duration_second\",\"start_station_id\",\n",
    " \"start_station_name\",\"end_station_id\",\"end_station_name\",\"user_type\",\"user_gender\",\"user_birthyear\"]"
   ]
  },
  {
   "cell_type": "code",
   "execution_count": 18,
   "metadata": {},
   "outputs": [
    {
     "data": {
      "text/plain": [
       "Index(['rental_id', 'ride_start_time', 'ride_end_time', 'bike_id',\n",
       "       'rental_duration_second', 'start_station_id', 'start_station_name',\n",
       "       'end_station_id', 'end_station_name', 'user_type', 'user_gender',\n",
       "       'user_birthyear'],\n",
       "      dtype='object')"
      ]
     },
     "execution_count": 18,
     "metadata": {},
     "output_type": "execute_result"
    }
   ],
   "source": [
    "# check column names \n",
    "df_q2_first.columns"
   ]
  },
  {
   "cell_type": "code",
   "execution_count": 19,
   "metadata": {
    "scrolled": true
   },
   "outputs": [
    {
     "data": {
      "text/plain": [
       "Index(['Unnamed: 0', 'trip_id', 'start_time', 'end_time', 'bikeid',\n",
       "       'tripduration', 'from_station_id', 'from_station_name', 'to_station_id',\n",
       "       'to_station_name', 'usertype', 'gender', 'birthyear'],\n",
       "      dtype='object')"
      ]
     },
     "execution_count": 19,
     "metadata": {},
     "output_type": "execute_result"
    }
   ],
   "source": [
    "# second part of quarter 2\n",
    "df_q2_second.columns"
   ]
  },
  {
   "cell_type": "code",
   "execution_count": 20,
   "metadata": {},
   "outputs": [],
   "source": [
    "# drop column \"Unnamed: 0\"\n",
    "df_q2_second.drop(\"Unnamed: 0\", axis=1, inplace=True)"
   ]
  },
  {
   "cell_type": "code",
   "execution_count": 21,
   "metadata": {},
   "outputs": [],
   "source": [
    "# replace column names\n",
    "df_q2_second.columns=[\"rental_id\",\"ride_start_time\",\"ride_end_time\",\"bike_id\",\"rental_duration_second\",\"start_station_id\",\n",
    " \"start_station_name\",\"end_station_id\",\"end_station_name\",\"user_type\",\"user_gender\",\"user_birthyear\"]"
   ]
  },
  {
   "cell_type": "code",
   "execution_count": 22,
   "metadata": {},
   "outputs": [
    {
     "data": {
      "text/plain": [
       "Index(['rental_id', 'ride_start_time', 'ride_end_time', 'bike_id',\n",
       "       'rental_duration_second', 'start_station_id', 'start_station_name',\n",
       "       'end_station_id', 'end_station_name', 'user_type', 'user_gender',\n",
       "       'user_birthyear'],\n",
       "      dtype='object')"
      ]
     },
     "execution_count": 22,
     "metadata": {},
     "output_type": "execute_result"
    }
   ],
   "source": [
    "# check for column names\n",
    "df_q2_second.columns"
   ]
  },
  {
   "cell_type": "markdown",
   "metadata": {},
   "source": [
    "Quarter 3"
   ]
  },
  {
   "cell_type": "code",
   "execution_count": 23,
   "metadata": {},
   "outputs": [
    {
     "data": {
      "text/plain": [
       "Index(['Unnamed: 0', 'trip_id', 'start_time', 'end_time', 'bikeid',\n",
       "       'tripduration', 'from_station_id', 'from_station_name', 'to_station_id',\n",
       "       'to_station_name', 'usertype', 'gender', 'birthyear'],\n",
       "      dtype='object')"
      ]
     },
     "execution_count": 23,
     "metadata": {},
     "output_type": "execute_result"
    }
   ],
   "source": [
    "df_q3_first.columns"
   ]
  },
  {
   "cell_type": "code",
   "execution_count": 24,
   "metadata": {},
   "outputs": [],
   "source": [
    "# drop column Unnamed: 0\n",
    "df_q3_first.drop(\"Unnamed: 0\",axis=1,inplace=True)"
   ]
  },
  {
   "cell_type": "code",
   "execution_count": 25,
   "metadata": {},
   "outputs": [],
   "source": [
    "# replace column names\n",
    "df_q3_first.columns=[\"rental_id\",\"ride_start_time\",\"ride_end_time\",\"bike_id\",\"rental_duration_second\",\"start_station_id\",\n",
    " \"start_station_name\",\"end_station_id\",\"end_station_name\",\"user_type\",\"user_gender\",\"user_birthyear\"]"
   ]
  },
  {
   "cell_type": "code",
   "execution_count": 26,
   "metadata": {},
   "outputs": [
    {
     "data": {
      "text/plain": [
       "Index(['rental_id', 'ride_start_time', 'ride_end_time', 'bike_id',\n",
       "       'rental_duration_second', 'start_station_id', 'start_station_name',\n",
       "       'end_station_id', 'end_station_name', 'user_type', 'user_gender',\n",
       "       'user_birthyear'],\n",
       "      dtype='object')"
      ]
     },
     "execution_count": 26,
     "metadata": {},
     "output_type": "execute_result"
    }
   ],
   "source": [
    "# check for replaced column names\n",
    "df_q3_first.columns"
   ]
  },
  {
   "cell_type": "code",
   "execution_count": 27,
   "metadata": {},
   "outputs": [],
   "source": [
    "# drop column Unnamed: 0\n",
    "df_q3_second.drop(\"Unnamed: 0\",axis=1,inplace=True)"
   ]
  },
  {
   "cell_type": "code",
   "execution_count": 28,
   "metadata": {},
   "outputs": [],
   "source": [
    "# replace column names\n",
    "df_q3_second.columns=[\"rental_id\",\"ride_start_time\",\"ride_end_time\",\"bike_id\",\"rental_duration_second\",\"start_station_id\",\n",
    " \"start_station_name\",\"end_station_id\",\"end_station_name\",\"user_type\",\"user_gender\",\"user_birthyear\"]"
   ]
  },
  {
   "cell_type": "code",
   "execution_count": 29,
   "metadata": {},
   "outputs": [
    {
     "data": {
      "text/plain": [
       "Index(['rental_id', 'ride_start_time', 'ride_end_time', 'bike_id',\n",
       "       'rental_duration_second', 'start_station_id', 'start_station_name',\n",
       "       'end_station_id', 'end_station_name', 'user_type', 'user_gender',\n",
       "       'user_birthyear'],\n",
       "      dtype='object')"
      ]
     },
     "execution_count": 29,
     "metadata": {},
     "output_type": "execute_result"
    }
   ],
   "source": [
    "# check replaced column names\n",
    "df_q3_second.columns"
   ]
  },
  {
   "cell_type": "markdown",
   "metadata": {},
   "source": [
    "Quarter 4"
   ]
  },
  {
   "cell_type": "code",
   "execution_count": 30,
   "metadata": {},
   "outputs": [
    {
     "data": {
      "text/plain": [
       "Index(['Unnamed: 0', 'trip_id', 'start_time', 'end_time', 'bikeid',\n",
       "       'tripduration', 'from_station_id', 'from_station_name', 'to_station_id',\n",
       "       'to_station_name', 'usertype', 'gender', 'birthyear'],\n",
       "      dtype='object')"
      ]
     },
     "execution_count": 30,
     "metadata": {},
     "output_type": "execute_result"
    }
   ],
   "source": [
    "# column names from quarter 4\n",
    "df_q4_first.columns"
   ]
  },
  {
   "cell_type": "code",
   "execution_count": 31,
   "metadata": {},
   "outputs": [],
   "source": [
    "# drop unwanted column Unnamed: 0\n",
    "df_q4_first.drop(\"Unnamed: 0\", axis=1, inplace=True)"
   ]
  },
  {
   "cell_type": "code",
   "execution_count": 32,
   "metadata": {},
   "outputs": [],
   "source": [
    "# replace column names\n",
    "df_q4_first.columns=[\"rental_id\",\"ride_start_time\",\"ride_end_time\",\"bike_id\",\"rental_duration_second\",\"start_station_id\",\n",
    " \"start_station_name\",\"end_station_id\",\"end_station_name\",\"user_type\",\"user_gender\",\"user_birthyear\"]"
   ]
  },
  {
   "cell_type": "code",
   "execution_count": 33,
   "metadata": {
    "scrolled": true
   },
   "outputs": [
    {
     "data": {
      "text/plain": [
       "Index(['rental_id', 'ride_start_time', 'ride_end_time', 'bike_id',\n",
       "       'rental_duration_second', 'start_station_id', 'start_station_name',\n",
       "       'end_station_id', 'end_station_name', 'user_type', 'user_gender',\n",
       "       'user_birthyear'],\n",
       "      dtype='object')"
      ]
     },
     "execution_count": 33,
     "metadata": {},
     "output_type": "execute_result"
    }
   ],
   "source": [
    "# check new column names\n",
    "df_q4_first.columns"
   ]
  },
  {
   "cell_type": "code",
   "execution_count": 34,
   "metadata": {},
   "outputs": [],
   "source": [
    "# drop unwanted column Unnamed: 0\n",
    "df_q4_second.drop(\"Unnamed: 0\", axis=1, inplace=True)"
   ]
  },
  {
   "cell_type": "code",
   "execution_count": 35,
   "metadata": {},
   "outputs": [],
   "source": [
    "# replace column names\n",
    "df_q4_second.columns=[\"rental_id\",\"ride_start_time\",\"ride_end_time\",\"bike_id\",\"rental_duration_second\",\"start_station_id\",\n",
    " \"start_station_name\",\"end_station_id\",\"end_station_name\",\"user_type\",\"user_gender\",\"user_birthyear\"]"
   ]
  },
  {
   "cell_type": "code",
   "execution_count": 36,
   "metadata": {
    "scrolled": true
   },
   "outputs": [
    {
     "data": {
      "text/plain": [
       "Index(['rental_id', 'ride_start_time', 'ride_end_time', 'bike_id',\n",
       "       'rental_duration_second', 'start_station_id', 'start_station_name',\n",
       "       'end_station_id', 'end_station_name', 'user_type', 'user_gender',\n",
       "       'user_birthyear'],\n",
       "      dtype='object')"
      ]
     },
     "execution_count": 36,
     "metadata": {},
     "output_type": "execute_result"
    }
   ],
   "source": [
    "# check for new column names\n",
    "df_q4_second.columns"
   ]
  },
  {
   "cell_type": "code",
   "execution_count": 37,
   "metadata": {},
   "outputs": [],
   "source": [
    "# Combining datasets of quarter 2\n",
    "df_q2=pd.concat([df_q2_first,df_q2_second])"
   ]
  },
  {
   "cell_type": "code",
   "execution_count": 38,
   "metadata": {},
   "outputs": [],
   "source": [
    "# Combining datasets of quarter 3\n",
    "df_q3=pd.concat([df_q3_first,df_q3_second])"
   ]
  },
  {
   "cell_type": "code",
   "execution_count": 39,
   "metadata": {},
   "outputs": [],
   "source": [
    "# Combining datasets of quarter 4\n",
    "df_q4=pd.concat([df_q4_first,df_q4_second])"
   ]
  },
  {
   "cell_type": "markdown",
   "metadata": {},
   "source": [
    "Null Values"
   ]
  },
  {
   "cell_type": "code",
   "execution_count": 40,
   "metadata": {},
   "outputs": [
    {
     "data": {
      "text/plain": [
       "rental_id                     0\n",
       "ride_start_time               0\n",
       "ride_end_time                 0\n",
       "bike_id                       0\n",
       "rental_duration_second        0\n",
       "start_station_id              0\n",
       "start_station_name            0\n",
       "end_station_id                0\n",
       "end_station_name              0\n",
       "user_type                     0\n",
       "user_gender               22493\n",
       "user_birthyear            22322\n",
       "dtype: int64"
      ]
     },
     "execution_count": 40,
     "metadata": {},
     "output_type": "execute_result"
    }
   ],
   "source": [
    "df_q1.isnull().sum()"
   ]
  },
  {
   "cell_type": "code",
   "execution_count": 41,
   "metadata": {},
   "outputs": [
    {
     "data": {
      "text/plain": [
       "<matplotlib.axes._subplots.AxesSubplot at 0x1a18b4ff70>"
      ]
     },
     "execution_count": 41,
     "metadata": {},
     "output_type": "execute_result"
    },
    {
     "data": {
      "image/png": "[encoded data removed]",
      "text/plain": [
       "<Figure size 432x288 with 1 Axes>"
      ]
     },
     "metadata": {
      "needs_background": "light"
     },
     "output_type": "display_data"
    }
   ],
   "source": [
    "# showwing null values in heatmap\n",
    "sns.heatmap(df_q1.isnull(),cbar=False)"
   ]
  },
  {
   "cell_type": "markdown",
   "metadata": {},
   "source": [
    "It shows that mainly column user_type and user_birthyear have null values.\n",
    "\n",
    "counting user_type from quarter 1"
   ]
  },
  {
   "cell_type": "markdown",
   "metadata": {},
   "source": [
    "Does deleting the rows with null values will bring big quantitative change in user_type column?"
   ]
  },
  {
   "cell_type": "code",
   "execution_count": 42,
   "metadata": {},
   "outputs": [],
   "source": [
    "# check null values from user_type or from user_gender\n",
    "mask_1=df_q1[\"user_type\"].isnull()|df_q1[\"user_gender\"].isnull()"
   ]
  },
  {
   "cell_type": "code",
   "execution_count": 43,
   "metadata": {},
   "outputs": [
    {
     "name": "stdout",
     "output_type": "stream",
     "text": [
      "<class 'pandas.core.frame.DataFrame'>\n",
      "Int64Index: 22493 entries, 8 to 387131\n",
      "Data columns (total 12 columns):\n",
      " #   Column                  Non-Null Count  Dtype  \n",
      "---  ------                  --------------  -----  \n",
      " 0   rental_id               22493 non-null  int64  \n",
      " 1   ride_start_time         22493 non-null  object \n",
      " 2   ride_end_time           22493 non-null  object \n",
      " 3   bike_id                 22493 non-null  int64  \n",
      " 4   rental_duration_second  22493 non-null  object \n",
      " 5   start_station_id        22493 non-null  int64  \n",
      " 6   start_station_name      22493 non-null  object \n",
      " 7   end_station_id          22493 non-null  int64  \n",
      " 8   end_station_name        22493 non-null  object \n",
      " 9   user_type               22493 non-null  object \n",
      " 10  user_gender             0 non-null      object \n",
      " 11  user_birthyear          175 non-null    float64\n",
      "dtypes: float64(1), int64(4), object(7)\n",
      "memory usage: 2.2+ MB\n"
     ]
    }
   ],
   "source": [
    "# get information about null values of user_type and user_gender from mask of quarter 1\n",
    "df_q1[mask_1].info()"
   ]
  },
  {
   "cell_type": "code",
   "execution_count": 44,
   "metadata": {},
   "outputs": [
    {
     "name": "stdout",
     "output_type": "stream",
     "text": [
      "<class 'pandas.core.frame.DataFrame'>\n",
      "Int64Index: 22493 entries, 8 to 387131\n",
      "Data columns (total 12 columns):\n",
      " #   Column                  Non-Null Count  Dtype  \n",
      "---  ------                  --------------  -----  \n",
      " 0   rental_id               22493 non-null  int64  \n",
      " 1   ride_start_time         22493 non-null  object \n",
      " 2   ride_end_time           22493 non-null  object \n",
      " 3   bike_id                 22493 non-null  int64  \n",
      " 4   rental_duration_second  22493 non-null  object \n",
      " 5   start_station_id        22493 non-null  int64  \n",
      " 6   start_station_name      22493 non-null  object \n",
      " 7   end_station_id          22493 non-null  int64  \n",
      " 8   end_station_name        22493 non-null  object \n",
      " 9   user_type               22493 non-null  object \n",
      " 10  user_gender             0 non-null      object \n",
      " 11  user_birthyear          175 non-null    float64\n",
      "dtypes: float64(1), int64(4), object(7)\n",
      "memory usage: 2.2+ MB\n"
     ]
    }
   ],
   "source": [
    "# get information about null values of user_type and user_gender\n",
    "df_q1[mask_1].info()"
   ]
  },
  {
   "cell_type": "code",
   "execution_count": 45,
   "metadata": {},
   "outputs": [
    {
     "data": {
      "text/plain": [
       "Subscriber    364702\n",
       "Customer       22443\n",
       "Name: user_type, dtype: int64"
      ]
     },
     "execution_count": 45,
     "metadata": {},
     "output_type": "execute_result"
    }
   ],
   "source": [
    "# counting type of user from quarter 1\n",
    "df_q1[\"user_type\"].value_counts()"
   ]
  },
  {
   "cell_type": "code",
   "execution_count": 46,
   "metadata": {},
   "outputs": [
    {
     "data": {
      "text/plain": [
       "Customer      22333\n",
       "Subscriber      160\n",
       "Name: user_type, dtype: int64"
      ]
     },
     "execution_count": 46,
     "metadata": {},
     "output_type": "execute_result"
    }
   ],
   "source": [
    " #counting user type that have null values in their gender columns\n",
    "df_q1[mask_1][\"user_type\"].value_counts()"
   ]
  },
  {
   "cell_type": "markdown",
   "metadata": {},
   "source": [
    "It shows that rows that have null values are mainly of user type customers.This shows that if we delete rows with null values, most of the Customers will get deleted. That is out of \n",
    "22443 Customers, 22333 Customers will be deleted. It is better not to delete null values, so that I can do \n",
    "actual comparision of Subsribers and Customers."
   ]
  },
  {
   "cell_type": "code",
   "execution_count": 47,
   "metadata": {},
   "outputs": [
    {
     "data": {
      "text/plain": [
       "rental_id                      0\n",
       "ride_start_time                0\n",
       "ride_end_time                  0\n",
       "bike_id                        0\n",
       "rental_duration_second         0\n",
       "start_station_id               0\n",
       "start_station_name             0\n",
       "end_station_id                 0\n",
       "end_station_name               0\n",
       "user_type                      0\n",
       "user_gender               196634\n",
       "user_birthyear            195141\n",
       "dtype: int64"
      ]
     },
     "execution_count": 47,
     "metadata": {},
     "output_type": "execute_result"
    }
   ],
   "source": [
    "# null values in quarter 2\n",
    "df_q2.isnull().sum()"
   ]
  },
  {
   "cell_type": "markdown",
   "metadata": {},
   "source": [
    "How many user_type has null values in their gender column?"
   ]
  },
  {
   "cell_type": "code",
   "execution_count": 48,
   "metadata": {},
   "outputs": [],
   "source": [
    "# null values of  user_type and user_gender\n",
    "mask_2=df_q2[\"user_type\"].isnull()|df_q2[\"user_gender\"].isnull()"
   ]
  },
  {
   "cell_type": "code",
   "execution_count": 49,
   "metadata": {
    "scrolled": true
   },
   "outputs": [
    {
     "data": {
      "text/plain": [
       "Customer      195077\n",
       "Subscriber      1557\n",
       "Name: user_type, dtype: int64"
      ]
     },
     "execution_count": 49,
     "metadata": {},
     "output_type": "execute_result"
    }
   ],
   "source": [
    "# counting user type that have null values in their gender columns\n",
    "df_q2[mask_2][\"user_type\"].value_counts()"
   ]
  },
  {
   "cell_type": "markdown",
   "metadata": {},
   "source": [
    "It shows rows that have null values are mainly of user type customers."
   ]
  },
  {
   "cell_type": "code",
   "execution_count": 50,
   "metadata": {},
   "outputs": [
    {
     "data": {
      "text/plain": [
       "Subscriber    840137\n",
       "Customer      219544\n",
       "Name: user_type, dtype: int64"
      ]
     },
     "execution_count": 50,
     "metadata": {},
     "output_type": "execute_result"
    }
   ],
   "source": [
    "# counting actual user type from quarter 2\n",
    "df_q2[\"user_type\"].value_counts()"
   ]
  },
  {
   "cell_type": "markdown",
   "metadata": {},
   "source": [
    "As similar to quarter 1, I am keeping null values of user gender and user birthyear, so I wil be able to do better \n",
    "comparision of Subscribers and Customers."
   ]
  },
  {
   "cell_type": "markdown",
   "metadata": {},
   "source": [
    "In practice, as in Quarter 1 and Quarter 2 similar composition came up for null values of user gender and user birthyear\n",
    "in column user_type. So it is better to keep these null values of these columns."
   ]
  },
  {
   "cell_type": "code",
   "execution_count": 51,
   "metadata": {},
   "outputs": [
    {
     "data": {
      "text/plain": [
       "rental_id                      0\n",
       "ride_start_time                0\n",
       "ride_end_time                  0\n",
       "bike_id                        0\n",
       "rental_duration_second         0\n",
       "start_station_id               0\n",
       "start_station_name             0\n",
       "end_station_id                 0\n",
       "end_station_name               0\n",
       "user_type                      0\n",
       "user_gender               294996\n",
       "user_birthyear            291580\n",
       "dtype: int64"
      ]
     },
     "execution_count": 51,
     "metadata": {},
     "output_type": "execute_result"
    }
   ],
   "source": [
    "# null values in Quarter 3\n",
    "df_q3.isnull().sum()"
   ]
  },
  {
   "cell_type": "code",
   "execution_count": 52,
   "metadata": {},
   "outputs": [
    {
     "data": {
      "text/plain": [
       "rental_id                     0\n",
       "ride_start_time               0\n",
       "ride_end_time                 0\n",
       "bike_id                       0\n",
       "rental_duration_second        0\n",
       "start_station_id              0\n",
       "start_station_name            0\n",
       "end_station_id                0\n",
       "end_station_name              0\n",
       "user_type                     0\n",
       "user_gender               48382\n",
       "user_birthyear            46166\n",
       "dtype: int64"
      ]
     },
     "execution_count": 52,
     "metadata": {},
     "output_type": "execute_result"
    }
   ],
   "source": [
    "# null values in Quarter 4\n",
    "df_q4.isnull().sum()"
   ]
  },
  {
   "cell_type": "markdown",
   "metadata": {},
   "source": [
    "As mentioned above, for Quarter 3 and Quarter 4 null values are only in columns: user_gender and user_birthyear. \n",
    "So null values are not deleted."
   ]
  },
  {
   "cell_type": "markdown",
   "metadata": {},
   "source": [
    "Since column ride_length is object type, new column ride_duration is created"
   ]
  },
  {
   "cell_type": "code",
   "execution_count": 53,
   "metadata": {},
   "outputs": [],
   "source": [
    "# change data type of  ride_start_time and ride_end_time\n",
    "df_q1[\"ride_start_time\"]=pd.to_datetime(df_q1[\"ride_start_time\"])\n",
    "df_q1[\"ride_end_time\"]=pd.to_datetime(df_q1[\"ride_end_time\"])"
   ]
  },
  {
   "cell_type": "code",
   "execution_count": 54,
   "metadata": {},
   "outputs": [],
   "source": [
    "df_q2[\"ride_start_time\"]=pd.to_datetime(df_q2[\"ride_start_time\"])\n",
    "df_q2[\"ride_end_time\"]=pd.to_datetime(df_q2[\"ride_end_time\"])"
   ]
  },
  {
   "cell_type": "code",
   "execution_count": 55,
   "metadata": {},
   "outputs": [],
   "source": [
    "df_q3[\"ride_start_time\"]=pd.to_datetime(df_q3[\"ride_start_time\"])\n",
    "df_q3[\"ride_end_time\"]=pd.to_datetime(df_q3[\"ride_end_time\"])"
   ]
  },
  {
   "cell_type": "code",
   "execution_count": 56,
   "metadata": {},
   "outputs": [],
   "source": [
    "df_q4[\"ride_start_time\"]=pd.to_datetime(df_q4[\"ride_start_time\"])\n",
    "df_q4[\"ride_end_time\"]=pd.to_datetime(df_q4[\"ride_end_time\"])"
   ]
  },
  {
   "cell_type": "code",
   "execution_count": 57,
   "metadata": {},
   "outputs": [
    {
     "name": "stdout",
     "output_type": "stream",
     "text": [
      "<class 'pandas.core.frame.DataFrame'>\n",
      "RangeIndex: 387145 entries, 0 to 387144\n",
      "Data columns (total 12 columns):\n",
      " #   Column                  Non-Null Count   Dtype         \n",
      "---  ------                  --------------   -----         \n",
      " 0   rental_id               387145 non-null  int64         \n",
      " 1   ride_start_time         387145 non-null  datetime64[ns]\n",
      " 2   ride_end_time           387145 non-null  datetime64[ns]\n",
      " 3   bike_id                 387145 non-null  int64         \n",
      " 4   rental_duration_second  387145 non-null  object        \n",
      " 5   start_station_id        387145 non-null  int64         \n",
      " 6   start_station_name      387145 non-null  object        \n",
      " 7   end_station_id          387145 non-null  int64         \n",
      " 8   end_station_name        387145 non-null  object        \n",
      " 9   user_type               387145 non-null  object        \n",
      " 10  user_gender             364652 non-null  object        \n",
      " 11  user_birthyear          364823 non-null  float64       \n",
      "dtypes: datetime64[ns](2), float64(1), int64(4), object(5)\n",
      "memory usage: 35.4+ MB\n"
     ]
    }
   ],
   "source": [
    "df_q1.info()"
   ]
  },
  {
   "cell_type": "code",
   "execution_count": 58,
   "metadata": {},
   "outputs": [],
   "source": [
    "# creating new column ride_duration from existing columns\n",
    "df_q1[\"ride_duration\"]=df_q1[\"ride_end_time\"]-df_q1[\"ride_start_time\"]\n",
    "df_q2[\"ride_duration\"]=df_q2[\"ride_end_time\"]-df_q2[\"ride_start_time\"]\n",
    "df_q3[\"ride_duration\"]=df_q3[\"ride_end_time\"]-df_q3[\"ride_end_time\"]\n",
    "df_q4[\"ride_duration\"]=df_q4[\"ride_end_time\"]-df_q4[\"ride_end_time\"]"
   ]
  },
  {
   "cell_type": "code",
   "execution_count": 59,
   "metadata": {},
   "outputs": [
    {
     "name": "stdout",
     "output_type": "stream",
     "text": [
      "<class 'pandas.core.frame.DataFrame'>\n",
      "Int64Index: 642686 entries, 0 to 142685\n",
      "Data columns (total 13 columns):\n",
      " #   Column                  Non-Null Count   Dtype          \n",
      "---  ------                  --------------   -----          \n",
      " 0   rental_id               642686 non-null  int64          \n",
      " 1   ride_start_time         642686 non-null  datetime64[ns] \n",
      " 2   ride_end_time           642686 non-null  datetime64[ns] \n",
      " 3   bike_id                 642686 non-null  int64          \n",
      " 4   rental_duration_second  642686 non-null  object         \n",
      " 5   start_station_id        642686 non-null  int64          \n",
      " 6   start_station_name      642686 non-null  object         \n",
      " 7   end_station_id          642686 non-null  int64          \n",
      " 8   end_station_name        642686 non-null  object         \n",
      " 9   user_type               642686 non-null  object         \n",
      " 10  user_gender             594304 non-null  object         \n",
      " 11  user_birthyear          596520 non-null  float64        \n",
      " 12  ride_duration           642686 non-null  timedelta64[ns]\n",
      "dtypes: datetime64[ns](2), float64(1), int64(4), object(5), timedelta64[ns](1)\n",
      "memory usage: 68.6+ MB\n"
     ]
    }
   ],
   "source": [
    "# checking new column\n",
    "df_q4.info()"
   ]
  },
  {
   "cell_type": "markdown",
   "metadata": {},
   "source": [
    "Percentage of Subsribers and Customers in each quarter"
   ]
  },
  {
   "cell_type": "code",
   "execution_count": 60,
   "metadata": {},
   "outputs": [
    {
     "data": {
      "text/plain": [
       "<matplotlib.axes._subplots.AxesSubplot at 0x1a52ec46a0>"
      ]
     },
     "execution_count": 60,
     "metadata": {},
     "output_type": "execute_result"
    },
    {
     "data": {
      "image/png": "[encoded data removed]",
      "text/plain": [
       "<Figure size 1296x720 with 4 Axes>"
      ]
     },
     "metadata": {},
     "output_type": "display_data"
    }
   ],
   "source": [
    "plt.figure(figsize=(18,10))\n",
    "plt.suptitle(\"Percentage of Customers and Subscribers\")\n",
    "type_percent=df_q1.groupby(\"user_type\")[\"rental_id\"].sum()\n",
    "plt.subplot(2,2,1)\n",
    "plt.gca().set_title('Quarter 1')\n",
    "type_percent.plot.pie(autopct=\"%.1f%%\")\n",
    "type_percent=df_q2.groupby(\"user_type\")[\"rental_id\"].sum()\n",
    "\n",
    "plt.subplot(2,2,2)\n",
    "plt.gca().set_title('Quarter 2')\n",
    "type_percent.plot.pie(autopct=\"%.1f%%\")\n",
    "type_percent=df_q3.groupby(\"user_type\")[\"rental_id\"].sum()\n",
    "\n",
    "plt.subplot(2,2,3)\n",
    "plt.gca().set_title('Quarter 3')\n",
    "type_percent.plot.pie(autopct=\"%.1f%%\")\n",
    "type_percent=df_q4.groupby(\"user_type\")[\"rental_id\"].sum()\n",
    "\n",
    "plt.subplot(2,2,4)\n",
    "plt.gca().set_title('Quarter 4')\n",
    "type_percent.plot.pie(autopct=\"%.1f%%\")"
   ]
  },
  {
   "cell_type": "markdown",
   "metadata": {},
   "source": [
    "Getting new column day_of_week with name of weekdays"
   ]
  },
  {
   "cell_type": "code",
   "execution_count": 61,
   "metadata": {},
   "outputs": [],
   "source": [
    "df_q1['day_of_week'] = df_q1[\"ride_start_time\"].dt.day_name()\n",
    "df_q2['day_of_week'] = df_q2[\"ride_start_time\"].dt.day_name()\n",
    "df_q3['day_of_week'] = df_q3[\"ride_start_time\"].dt.day_name()\n",
    "df_q4['day_of_week'] = df_q4[\"ride_start_time\"].dt.day_name()"
   ]
  },
  {
   "cell_type": "markdown",
   "metadata": {},
   "source": [
    "#### Yearly Data"
   ]
  },
  {
   "cell_type": "code",
   "execution_count": 62,
   "metadata": {},
   "outputs": [],
   "source": [
    "# join dataframes into one dataframes\n",
    "df_year=pd.concat([df_q1,df_q2,df_q3,df_q4])"
   ]
  },
  {
   "cell_type": "code",
   "execution_count": 63,
   "metadata": {},
   "outputs": [],
   "source": [
    "# create new column user_type\n",
    "df_q1[\"user_type\"]=df_q1[\"user_type\"].astype('category')"
   ]
  },
  {
   "cell_type": "code",
   "execution_count": 64,
   "metadata": {},
   "outputs": [],
   "source": [
    "df_year[\"day_of_week\"]=df_year[\"ride_start_time\"].dt.day_name()"
   ]
  },
  {
   "cell_type": "code",
   "execution_count": 65,
   "metadata": {},
   "outputs": [],
   "source": [
    "df_year[\"start_hour\"]=df_year[\"ride_start_time\"].dt.hour"
   ]
  },
  {
   "cell_type": "code",
   "execution_count": 66,
   "metadata": {},
   "outputs": [],
   "source": [
    "df_year[\"ride_month\"]=df_year[\"ride_start_time\"].dt.month_name()"
   ]
  },
  {
   "cell_type": "markdown",
   "metadata": {},
   "source": [
    "How user types are distributed in weekday?"
   ]
  },
  {
   "cell_type": "code",
   "execution_count": 67,
   "metadata": {},
   "outputs": [
    {
     "data": {
      "text/plain": [
       "Text(0, 0.5, 'Trip Counts')"
      ]
     },
     "execution_count": 67,
     "metadata": {},
     "output_type": "execute_result"
    },
    {
     "data": {
      "image/png": "[encoded data removed]",
      "text/plain": [
       "<Figure size 864x576 with 1 Axes>"
      ]
     },
     "metadata": {
      "needs_background": "light"
     },
     "output_type": "display_data"
    }
   ],
   "source": [
    "# plotting bar chart of trip counts per month\n",
    "plt.figure(figsize=(12,8))\n",
    "sns.countplot(data=df_year,x=\"ride_month\",hue=\"user_type\")\n",
    "plt.title(\"Number of Trip per Month\")\n",
    "plt.xlabel(\"Months\")\n",
    "plt.ylabel(\"Trip Counts\")"
   ]
  },
  {
   "cell_type": "code",
   "execution_count": 68,
   "metadata": {},
   "outputs": [
    {
     "data": {
      "text/plain": [
       "user_type   ride_month\n",
       "Customer    July          150266\n",
       "            August        128766\n",
       "            June          108155\n",
       "            September      93901\n",
       "            May            89541\n",
       "            October        43744\n",
       "            April          21848\n",
       "            March          15543\n",
       "            November       11007\n",
       "            December        7485\n",
       "            January         3490\n",
       "            February        3410\n",
       "Subscriber  August        401989\n",
       "            July          394437\n",
       "            June          350264\n",
       "            September     344211\n",
       "            May           311609\n",
       "            October       301196\n",
       "            April         178264\n",
       "            March         158946\n",
       "            November      157767\n",
       "            December      121487\n",
       "            January       106216\n",
       "            February       99540\n",
       "Name: ride_month, dtype: int64"
      ]
     },
     "execution_count": 68,
     "metadata": {},
     "output_type": "execute_result"
    }
   ],
   "source": [
    "# group by user type and count number of ride per month\n",
    "df_year.groupby(\"user_type\")[\"ride_month\"].value_counts()"
   ]
  },
  {
   "cell_type": "markdown",
   "metadata": {},
   "source": [
    "It is found that both subscibers and customers rode more bikes in summer months. Less bikes were used in winter months."
   ]
  },
  {
   "cell_type": "markdown",
   "metadata": {},
   "source": [
    "Number of Rides in Weekday"
   ]
  },
  {
   "cell_type": "code",
   "execution_count": 69,
   "metadata": {},
   "outputs": [
    {
     "data": {
      "text/plain": [
       "Text(0, 0.5, 'Number of Trips')"
      ]
     },
     "execution_count": 69,
     "metadata": {},
     "output_type": "execute_result"
    },
    {
     "data": {
      "image/png": "[encoded data removed]",
      "text/plain": [
       "<Figure size 864x576 with 1 Axes>"
      ]
     },
     "metadata": {
      "needs_background": "light"
     },
     "output_type": "display_data"
    }
   ],
   "source": [
    "plt.figure(figsize=(12,8))\n",
    "sns.countplot(data=df_year,x=\"day_of_week\",hue=\"user_type\")\n",
    "plt.title(\"Number of Trip Count in Weekdays\")\n",
    "plt.xlabel(\"Day\")\n",
    "plt.ylabel(\"Number of Trips\")"
   ]
  },
  {
   "cell_type": "code",
   "execution_count": 70,
   "metadata": {},
   "outputs": [
    {
     "data": {
      "text/plain": [
       "user_type   day_of_week\n",
       "Customer    Saturday       161421\n",
       "            Sunday         145311\n",
       "            Friday          82703\n",
       "            Monday          80472\n",
       "            Wednesday       71489\n",
       "            Thursday        71259\n",
       "            Tuesday         64501\n",
       "Subscriber  Wednesday      504836\n",
       "            Tuesday        494083\n",
       "            Thursday       491387\n",
       "            Monday         448097\n",
       "            Friday         442978\n",
       "            Saturday       283964\n",
       "            Sunday         260581\n",
       "Name: day_of_week, dtype: int64"
      ]
     },
     "execution_count": 70,
     "metadata": {},
     "output_type": "execute_result"
    }
   ],
   "source": [
    "# group by user type to get number of trip per weekday\n",
    "df_year.groupby(\"user_type\")[\"day_of_week\"].value_counts()"
   ]
  },
  {
   "cell_type": "markdown",
   "metadata": {},
   "source": [
    "For Subcribers, the busiest days were weekdays: Wednesday, Tuesday, Monday, Friday Customers \n",
    "rode more bikes on Saturday and Sunday."
   ]
  },
  {
   "cell_type": "code",
   "execution_count": 71,
   "metadata": {},
   "outputs": [
    {
     "ename": "SyntaxError",
     "evalue": "positional argument follows keyword argument (<ipython-input-71-ff63becec153>, line 1)",
     "output_type": "error",
     "traceback": [
      "\u001b[1;36m  File \u001b[1;32m\"<ipython-input-71-ff63becec153>\"\u001b[1;36m, line \u001b[1;32m1\u001b[0m\n\u001b[1;33m    sns.lineplot(x=\"start_time\",y-\"trip_id\",hue=\"user_type\")\u001b[0m\n\u001b[1;37m                                ^\u001b[0m\n\u001b[1;31mSyntaxError\u001b[0m\u001b[1;31m:\u001b[0m positional argument follows keyword argument\n"
     ]
    }
   ],
   "source": [
    "sns.lineplot(x=\"start_time\",y-\"trip_id\",hue=\"user_type\")"
   ]
  },
  {
   "cell_type": "code",
   "execution_count": 72,
   "metadata": {},
   "outputs": [
    {
     "data": {
      "text/plain": [
       "<matplotlib.axes._subplots.AxesSubplot at 0x1a18b12bb0>"
      ]
     },
     "execution_count": 72,
     "metadata": {},
     "output_type": "execute_result"
    },
    {
     "data": {
      "image/png": "[encoded data removed]",
      "text/plain": [
       "<Figure size 432x288 with 1 Axes>"
      ]
     },
     "metadata": {
      "needs_background": "light"
     },
     "output_type": "display_data"
    }
   ],
   "source": [
    "sns.boxplot(x ='user_type', y ='start_hour', data = df_year)"
   ]
  },
  {
   "cell_type": "code",
   "execution_count": 73,
   "metadata": {},
   "outputs": [
    {
     "ename": "KeyError",
     "evalue": "\"None of [Index(['trip_duration', 'trip_id'], dtype='object')] are in the [columns]\"",
     "output_type": "error",
     "traceback": [
      "\u001b[1;31m---------------------------------------------------------------------------\u001b[0m",
      "\u001b[1;31mKeyError\u001b[0m                                  Traceback (most recent call last)",
      "\u001b[1;32m<ipython-input-73-78d232f32e74>\u001b[0m in \u001b[0;36m<module>\u001b[1;34m\u001b[0m\n\u001b[0;32m      1\u001b[0m \u001b[0mg\u001b[0m \u001b[1;33m=\u001b[0m \u001b[0msns\u001b[0m\u001b[1;33m.\u001b[0m\u001b[0mFacetGrid\u001b[0m\u001b[1;33m(\u001b[0m\u001b[0mdf_year\u001b[0m\u001b[1;33m,\u001b[0m \u001b[0mcol\u001b[0m\u001b[1;33m=\u001b[0m\u001b[1;34m\"user_type\"\u001b[0m\u001b[1;33m,\u001b[0m\u001b[0mhue\u001b[0m\u001b[1;33m=\u001b[0m\u001b[1;34m\"user_gender\"\u001b[0m\u001b[1;33m)\u001b[0m\u001b[1;33m\u001b[0m\u001b[1;33m\u001b[0m\u001b[0m\n\u001b[1;32m----> 2\u001b[1;33m \u001b[0mg\u001b[0m\u001b[1;33m.\u001b[0m\u001b[0mmap\u001b[0m\u001b[1;33m(\u001b[0m\u001b[0msns\u001b[0m\u001b[1;33m.\u001b[0m\u001b[0mscatterplot\u001b[0m\u001b[1;33m,\u001b[0m \u001b[1;34m\"trip_duration\"\u001b[0m\u001b[1;33m,\u001b[0m \u001b[1;34m\"trip_id\"\u001b[0m\u001b[1;33m,\u001b[0m \u001b[0malpha\u001b[0m\u001b[1;33m=\u001b[0m\u001b[1;36m.7\u001b[0m\u001b[1;33m)\u001b[0m\u001b[1;33m\u001b[0m\u001b[1;33m\u001b[0m\u001b[0m\n\u001b[0m\u001b[0;32m      3\u001b[0m \u001b[0mg\u001b[0m\u001b[1;33m.\u001b[0m\u001b[0madd_legend\u001b[0m\u001b[1;33m(\u001b[0m\u001b[1;33m)\u001b[0m\u001b[1;33m\u001b[0m\u001b[1;33m\u001b[0m\u001b[0m\n\u001b[0;32m      4\u001b[0m \u001b[0mplt\u001b[0m\u001b[1;33m.\u001b[0m\u001b[0mticklabel_format\u001b[0m\u001b[1;33m(\u001b[0m\u001b[0mstyle\u001b[0m\u001b[1;33m=\u001b[0m\u001b[1;34m\"plain\"\u001b[0m\u001b[1;33m)\u001b[0m\u001b[1;33m\u001b[0m\u001b[1;33m\u001b[0m\u001b[0m\n",
      "\u001b[1;32m~\\Downloads\\New folder (2)\\lib\\site-packages\\seaborn\\axisgrid.py\u001b[0m in \u001b[0;36mmap\u001b[1;34m(self, func, *args, **kwargs)\u001b[0m\n\u001b[0;32m    750\u001b[0m \u001b[1;33m\u001b[0m\u001b[0m\n\u001b[0;32m    751\u001b[0m             \u001b[1;31m# Get the actual data we are going to plot with\u001b[0m\u001b[1;33m\u001b[0m\u001b[1;33m\u001b[0m\u001b[1;33m\u001b[0m\u001b[0m\n\u001b[1;32m--> 752\u001b[1;33m             \u001b[0mplot_data\u001b[0m \u001b[1;33m=\u001b[0m \u001b[0mdata_ijk\u001b[0m\u001b[1;33m[\u001b[0m\u001b[0mlist\u001b[0m\u001b[1;33m(\u001b[0m\u001b[0margs\u001b[0m\u001b[1;33m)\u001b[0m\u001b[1;33m]\u001b[0m\u001b[1;33m\u001b[0m\u001b[1;33m\u001b[0m\u001b[0m\n\u001b[0m\u001b[0;32m    753\u001b[0m             \u001b[1;32mif\u001b[0m \u001b[0mself\u001b[0m\u001b[1;33m.\u001b[0m\u001b[0m_dropna\u001b[0m\u001b[1;33m:\u001b[0m\u001b[1;33m\u001b[0m\u001b[1;33m\u001b[0m\u001b[0m\n\u001b[0;32m    754\u001b[0m                 \u001b[0mplot_data\u001b[0m \u001b[1;33m=\u001b[0m \u001b[0mplot_data\u001b[0m\u001b[1;33m.\u001b[0m\u001b[0mdropna\u001b[0m\u001b[1;33m(\u001b[0m\u001b[1;33m)\u001b[0m\u001b[1;33m\u001b[0m\u001b[1;33m\u001b[0m\u001b[0m\n",
      "\u001b[1;32m~\\Downloads\\New folder (2)\\lib\\site-packages\\pandas\\core\\frame.py\u001b[0m in \u001b[0;36m__getitem__\u001b[1;34m(self, key)\u001b[0m\n\u001b[0;32m   2804\u001b[0m             \u001b[1;32mif\u001b[0m \u001b[0mis_iterator\u001b[0m\u001b[1;33m(\u001b[0m\u001b[0mkey\u001b[0m\u001b[1;33m)\u001b[0m\u001b[1;33m:\u001b[0m\u001b[1;33m\u001b[0m\u001b[1;33m\u001b[0m\u001b[0m\n\u001b[0;32m   2805\u001b[0m                 \u001b[0mkey\u001b[0m \u001b[1;33m=\u001b[0m \u001b[0mlist\u001b[0m\u001b[1;33m(\u001b[0m\u001b[0mkey\u001b[0m\u001b[1;33m)\u001b[0m\u001b[1;33m\u001b[0m\u001b[1;33m\u001b[0m\u001b[0m\n\u001b[1;32m-> 2806\u001b[1;33m             \u001b[0mindexer\u001b[0m \u001b[1;33m=\u001b[0m \u001b[0mself\u001b[0m\u001b[1;33m.\u001b[0m\u001b[0mloc\u001b[0m\u001b[1;33m.\u001b[0m\u001b[0m_get_listlike_indexer\u001b[0m\u001b[1;33m(\u001b[0m\u001b[0mkey\u001b[0m\u001b[1;33m,\u001b[0m \u001b[0maxis\u001b[0m\u001b[1;33m=\u001b[0m\u001b[1;36m1\u001b[0m\u001b[1;33m,\u001b[0m \u001b[0mraise_missing\u001b[0m\u001b[1;33m=\u001b[0m\u001b[1;32mTrue\u001b[0m\u001b[1;33m)\u001b[0m\u001b[1;33m[\u001b[0m\u001b[1;36m1\u001b[0m\u001b[1;33m]\u001b[0m\u001b[1;33m\u001b[0m\u001b[1;33m\u001b[0m\u001b[0m\n\u001b[0m\u001b[0;32m   2807\u001b[0m \u001b[1;33m\u001b[0m\u001b[0m\n\u001b[0;32m   2808\u001b[0m         \u001b[1;31m# take() does not accept boolean indexers\u001b[0m\u001b[1;33m\u001b[0m\u001b[1;33m\u001b[0m\u001b[1;33m\u001b[0m\u001b[0m\n",
      "\u001b[1;32m~\\Downloads\\New folder (2)\\lib\\site-packages\\pandas\\core\\indexing.py\u001b[0m in \u001b[0;36m_get_listlike_indexer\u001b[1;34m(self, key, axis, raise_missing)\u001b[0m\n\u001b[0;32m   1550\u001b[0m             \u001b[0mkeyarr\u001b[0m\u001b[1;33m,\u001b[0m \u001b[0mindexer\u001b[0m\u001b[1;33m,\u001b[0m \u001b[0mnew_indexer\u001b[0m \u001b[1;33m=\u001b[0m \u001b[0max\u001b[0m\u001b[1;33m.\u001b[0m\u001b[0m_reindex_non_unique\u001b[0m\u001b[1;33m(\u001b[0m\u001b[0mkeyarr\u001b[0m\u001b[1;33m)\u001b[0m\u001b[1;33m\u001b[0m\u001b[1;33m\u001b[0m\u001b[0m\n\u001b[0;32m   1551\u001b[0m \u001b[1;33m\u001b[0m\u001b[0m\n\u001b[1;32m-> 1552\u001b[1;33m         self._validate_read_indexer(\n\u001b[0m\u001b[0;32m   1553\u001b[0m             \u001b[0mkeyarr\u001b[0m\u001b[1;33m,\u001b[0m \u001b[0mindexer\u001b[0m\u001b[1;33m,\u001b[0m \u001b[0mo\u001b[0m\u001b[1;33m.\u001b[0m\u001b[0m_get_axis_number\u001b[0m\u001b[1;33m(\u001b[0m\u001b[0maxis\u001b[0m\u001b[1;33m)\u001b[0m\u001b[1;33m,\u001b[0m \u001b[0mraise_missing\u001b[0m\u001b[1;33m=\u001b[0m\u001b[0mraise_missing\u001b[0m\u001b[1;33m\u001b[0m\u001b[1;33m\u001b[0m\u001b[0m\n\u001b[0;32m   1554\u001b[0m         )\n",
      "\u001b[1;32m~\\Downloads\\New folder (2)\\lib\\site-packages\\pandas\\core\\indexing.py\u001b[0m in \u001b[0;36m_validate_read_indexer\u001b[1;34m(self, key, indexer, axis, raise_missing)\u001b[0m\n\u001b[0;32m   1638\u001b[0m             \u001b[1;32mif\u001b[0m \u001b[0mmissing\u001b[0m \u001b[1;33m==\u001b[0m \u001b[0mlen\u001b[0m\u001b[1;33m(\u001b[0m\u001b[0mindexer\u001b[0m\u001b[1;33m)\u001b[0m\u001b[1;33m:\u001b[0m\u001b[1;33m\u001b[0m\u001b[1;33m\u001b[0m\u001b[0m\n\u001b[0;32m   1639\u001b[0m                 \u001b[0maxis_name\u001b[0m \u001b[1;33m=\u001b[0m \u001b[0mself\u001b[0m\u001b[1;33m.\u001b[0m\u001b[0mobj\u001b[0m\u001b[1;33m.\u001b[0m\u001b[0m_get_axis_name\u001b[0m\u001b[1;33m(\u001b[0m\u001b[0maxis\u001b[0m\u001b[1;33m)\u001b[0m\u001b[1;33m\u001b[0m\u001b[1;33m\u001b[0m\u001b[0m\n\u001b[1;32m-> 1640\u001b[1;33m                 \u001b[1;32mraise\u001b[0m \u001b[0mKeyError\u001b[0m\u001b[1;33m(\u001b[0m\u001b[1;34mf\"None of [{key}] are in the [{axis_name}]\"\u001b[0m\u001b[1;33m)\u001b[0m\u001b[1;33m\u001b[0m\u001b[1;33m\u001b[0m\u001b[0m\n\u001b[0m\u001b[0;32m   1641\u001b[0m \u001b[1;33m\u001b[0m\u001b[0m\n\u001b[0;32m   1642\u001b[0m             \u001b[1;31m# We (temporarily) allow for some missing keys with .loc, except in\u001b[0m\u001b[1;33m\u001b[0m\u001b[1;33m\u001b[0m\u001b[1;33m\u001b[0m\u001b[0m\n",
      "\u001b[1;31mKeyError\u001b[0m: \"None of [Index(['trip_duration', 'trip_id'], dtype='object')] are in the [columns]\""
     ]
    },
    {
     "data": {
      "image/png": "[encoded data removed]",
      "text/plain": [
       "<Figure size 432x216 with 2 Axes>"
      ]
     },
     "metadata": {
      "needs_background": "light"
     },
     "output_type": "display_data"
    }
   ],
   "source": [
    "g = sns.FacetGrid(df_year, col=\"user_type\",hue=\"user_gender\")\n",
    "g.map(sns.scatterplot, \"trip_duration\", \"trip_id\", alpha=.7)\n",
    "g.add_legend()\n",
    "plt.ticklabel_format(style=\"plain\")"
   ]
  },
  {
   "cell_type": "code",
   "execution_count": null,
   "metadata": {},
   "outputs": [],
   "source": []
  }
 ],
 "metadata": {
  "kernelspec": {
   "display_name": "Python 3",
   "language": "python",
   "name": "python3"
  },
  "language_info": {
   "codemirror_mode": {
    "name": "ipython",
    "version": 3
   },
   "file_extension": ".py",
   "mimetype": "text/x-python",
   "name": "python",
   "nbconvert_exporter": "python",
   "pygments_lexer": "ipython3",
   "version": "3.8.3"
  }
 },
 "nbformat": 4,
 "nbformat_minor": 4
}
