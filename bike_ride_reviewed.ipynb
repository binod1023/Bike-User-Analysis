{
 "cells": [
  {
   "cell_type": "markdown",
   "metadata": {},
   "source": [
    "# Data Analysis of Bike Ride Users"
   ]
  },
  {
   "cell_type": "markdown",
   "metadata": {},
   "source": [
    "### Table of Contents\n",
    "1. [Gathering Data](#gather)\n",
    "    \n",
    "2. [Assessing Data](#asess)\n",
    "    1.1 [Quarter 1](#q1)\n",
    "    2.2 [Quarter 2](#q2)\n",
    "    2.3 [Quarter 3](#q3)\n",
    "    2.4 [Quarter 4](#q4)\n",
    "    2.5 [Null Values](#null)\n",
    " \n",
    "3. [Cleaning Data](#clean)\n",
    "    3.1 [Change Datatypes](#dtype)\n",
    "    3.2 [Create New Columns](#newcol)\n",
    "\n",
    "4. [Analyzing Data and Visualization](#analysis)\n",
    "    4.1 [Analysis by Quarter](#quarterly)\n",
    "    4.2 [Annual Analysis](#annual)\n",
    "    "
   ]
  },
  {
   "cell_type": "code",
   "execution_count": 1,
   "metadata": {},
   "outputs": [],
   "source": [
    "import pandas as pd\n",
    "import numpy as np"
   ]
  },
  {
   "cell_type": "code",
   "execution_count": 2,
   "metadata": {},
   "outputs": [],
   "source": [
    "import seaborn as sns\n",
    "import matplotlib.pyplot as plt\n",
    "%matplotlib inline\n",
    "from datetime import datetime"
   ]
  },
  {
   "cell_type": "markdown",
   "metadata": {},
   "source": [
    "### 1. Gathering Data\n",
    "<a id=\"gather\"></a>"
   ]
  },
  {
   "cell_type": "code",
   "execution_count": 3,
   "metadata": {},
   "outputs": [],
   "source": [
    "# import dataset of quarter 1\n",
    "df_q1=pd.read_csv(\"bike_q1.csv\")"
   ]
  },
  {
   "cell_type": "code",
   "execution_count": 4,
   "metadata": {},
   "outputs": [],
   "source": [
    "# part 1 of quarter 2\n",
    "df_q2_first=pd.read_excel(\"bike_q2_part1.xlsx\")"
   ]
  },
  {
   "cell_type": "code",
   "execution_count": 5,
   "metadata": {},
   "outputs": [],
   "source": [
    "# part 2 of quarter 2\n",
    "df_q2_second=pd.read_excel(\"bike_q2_part2.xlsx\")"
   ]
  },
  {
   "cell_type": "code",
   "execution_count": 6,
   "metadata": {},
   "outputs": [],
   "source": [
    "# part 1 of quarter 3\n",
    "df_q3_first=pd.read_excel(\"bike_q3_part1.xlsx\")"
   ]
  },
  {
   "cell_type": "code",
   "execution_count": 7,
   "metadata": {},
   "outputs": [],
   "source": [
    "# part 2 of quarter 3\n",
    "df_q3_second=pd.read_excel(\"bike_q3_part2.xlsx\")"
   ]
  },
  {
   "cell_type": "code",
   "execution_count": 8,
   "metadata": {},
   "outputs": [],
   "source": [
    "# part 1 of quarter 4 data\n",
    "df_q4_first=pd.read_excel(\"bike_q4_part1.xlsx\")"
   ]
  },
  {
   "cell_type": "code",
   "execution_count": 9,
   "metadata": {},
   "outputs": [],
   "source": [
    "df_q4_second=pd.read_excel(\"bike_q4_part2.xlsx\")"
   ]
  },
  {
   "cell_type": "markdown",
   "metadata": {},
   "source": [
    "### 2. Assessing Data \n",
    "<a id=\"asess\"></a>"
   ]
  },
  {
   "cell_type": "markdown",
   "metadata": {},
   "source": [
    "#### 2.1 Assessing Quarter 1\n",
    "<a id=\"q1\"></a>"
   ]
  },
  {
   "cell_type": "code",
   "execution_count": 18,
   "metadata": {},
   "outputs": [
    {
     "name": "stdout",
     "output_type": "stream",
     "text": [
      "<class 'pandas.core.frame.DataFrame'>\n",
      "RangeIndex: 387145 entries, 0 to 387144\n",
      "Data columns (total 12 columns):\n",
      " #   Column                                            Non-Null Count   Dtype  \n",
      "---  ------                                            --------------   -----  \n",
      " 0   01 - Rental Details Rental ID                     387145 non-null  int64  \n",
      " 1   01 - Rental Details Local Start Time              387145 non-null  object \n",
      " 2   01 - Rental Details Local End Time                387145 non-null  object \n",
      " 3   01 - Rental Details Bike ID                       387145 non-null  int64  \n",
      " 4   01 - Rental Details Duration In Seconds Uncapped  387145 non-null  object \n",
      " 5   03 - Rental Start Station ID                      387145 non-null  int64  \n",
      " 6   03 - Rental Start Station Name                    387145 non-null  object \n",
      " 7   02 - Rental End Station ID                        387145 non-null  int64  \n",
      " 8   02 - Rental End Station Name                      387145 non-null  object \n",
      " 9   User Type                                         387145 non-null  object \n",
      " 10  Member Gender                                     364652 non-null  object \n",
      " 11  05 - Member Details Member Birthday Year          364823 non-null  float64\n",
      "dtypes: float64(1), int64(4), object(7)\n",
      "memory usage: 35.4+ MB\n"
     ]
    }
   ],
   "source": [
    "df_q1.info()"
   ]
  },
  {
   "cell_type": "code",
   "execution_count": 19,
   "metadata": {},
   "outputs": [],
   "source": [
    "# rename column name in q1\n",
    "df_q1.columns=[\"rental_id\",\"ride_start_time\",\"ride_end_time\",\"bike_id\",\"rental_duration_second\",\"start_station_id\",\n",
    " \"start_station_name\",\"end_station_id\",\"end_station_name\",\"user_type\",\"user_gender\",\"user_birthyear\"]"
   ]
  },
  {
   "cell_type": "code",
   "execution_count": 20,
   "metadata": {
    "scrolled": false
   },
   "outputs": [
    {
     "data": {
      "text/plain": [
       "Index(['rental_id', 'ride_start_time', 'ride_end_time', 'bike_id',\n",
       "       'rental_duration_second', 'start_station_id', 'start_station_name',\n",
       "       'end_station_id', 'end_station_name', 'user_type', 'user_gender',\n",
       "       'user_birthyear'],\n",
       "      dtype='object')"
      ]
     },
     "execution_count": 20,
     "metadata": {},
     "output_type": "execute_result"
    }
   ],
   "source": [
    "# check change of column names\n",
    "df_q1.columns"
   ]
  },
  {
   "cell_type": "markdown",
   "metadata": {},
   "source": [
    "#### 2.2 Assessing Quarter 2\n",
    "<a id=\"q2\"></a>"
   ]
  },
  {
   "cell_type": "code",
   "execution_count": 21,
   "metadata": {},
   "outputs": [
    {
     "name": "stdout",
     "output_type": "stream",
     "text": [
      "<class 'pandas.core.frame.DataFrame'>\n",
      "RangeIndex: 500000 entries, 0 to 499999\n",
      "Data columns (total 13 columns):\n",
      " #   Column             Non-Null Count   Dtype  \n",
      "---  ------             --------------   -----  \n",
      " 0   Unnamed: 0         500000 non-null  int64  \n",
      " 1   trip_id            500000 non-null  int64  \n",
      " 2   start_time         500000 non-null  object \n",
      " 3   end_time           500000 non-null  object \n",
      " 4   bikeid             500000 non-null  int64  \n",
      " 5   tripduration       500000 non-null  object \n",
      " 6   from_station_id    500000 non-null  int64  \n",
      " 7   from_station_name  500000 non-null  object \n",
      " 8   to_station_id      500000 non-null  int64  \n",
      " 9   to_station_name    500000 non-null  object \n",
      " 10  usertype           500000 non-null  object \n",
      " 11  gender             425655 non-null  object \n",
      " 12  birthyear          426231 non-null  float64\n",
      "dtypes: float64(1), int64(5), object(7)\n",
      "memory usage: 49.6+ MB\n"
     ]
    }
   ],
   "source": [
    "df_q2_first.info()"
   ]
  },
  {
   "cell_type": "code",
   "execution_count": 22,
   "metadata": {},
   "outputs": [],
   "source": [
    "# drop column \"Unnamed: O\"\n",
    "df_q2_first.drop(\"Unnamed: 0\",axis = 1, inplace=True)"
   ]
  },
  {
   "cell_type": "code",
   "execution_count": 23,
   "metadata": {},
   "outputs": [],
   "source": [
    "# rename column names\n",
    "df_q2_first.columns=[\"rental_id\",\"ride_start_time\",\"ride_end_time\",\"bike_id\",\"rental_duration_second\",\"start_station_id\",\n",
    " \"start_station_name\",\"end_station_id\",\"end_station_name\",\"user_type\",\"user_gender\",\"user_birthyear\"]"
   ]
  },
  {
   "cell_type": "code",
   "execution_count": 24,
   "metadata": {},
   "outputs": [
    {
     "data": {
      "text/plain": [
       "Index(['rental_id', 'ride_start_time', 'ride_end_time', 'bike_id',\n",
       "       'rental_duration_second', 'start_station_id', 'start_station_name',\n",
       "       'end_station_id', 'end_station_name', 'user_type', 'user_gender',\n",
       "       'user_birthyear'],\n",
       "      dtype='object')"
      ]
     },
     "execution_count": 24,
     "metadata": {},
     "output_type": "execute_result"
    }
   ],
   "source": [
    "# check column names\n",
    "df_q2_first.columns"
   ]
  },
  {
   "cell_type": "code",
   "execution_count": 25,
   "metadata": {
    "scrolled": true
   },
   "outputs": [
    {
     "data": {
      "text/plain": [
       "Index(['Unnamed: 0', 'trip_id', 'start_time', 'end_time', 'bikeid',\n",
       "       'tripduration', 'from_station_id', 'from_station_name', 'to_station_id',\n",
       "       'to_station_name', 'usertype', 'gender', 'birthyear'],\n",
       "      dtype='object')"
      ]
     },
     "execution_count": 25,
     "metadata": {},
     "output_type": "execute_result"
    }
   ],
   "source": [
    "# check column names\n",
    "df_q2_second.columns"
   ]
  },
  {
   "cell_type": "code",
   "execution_count": 26,
   "metadata": {},
   "outputs": [],
   "source": [
    "# drop column \"Unnamed: 0\"\n",
    "df_q2_second.drop(\"Unnamed: 0\", axis=1, inplace=True)"
   ]
  },
  {
   "cell_type": "code",
   "execution_count": 27,
   "metadata": {},
   "outputs": [],
   "source": [
    "# replace column names\n",
    "df_q2_second.columns=[\"rental_id\",\"ride_start_time\",\"ride_end_time\",\"bike_id\",\"rental_duration_second\",\"start_station_id\",\n",
    " \"start_station_name\",\"end_station_id\",\"end_station_name\",\"user_type\",\"user_gender\",\"user_birthyear\"]"
   ]
  },
  {
   "cell_type": "code",
   "execution_count": 28,
   "metadata": {},
   "outputs": [
    {
     "data": {
      "text/plain": [
       "Index(['rental_id', 'ride_start_time', 'ride_end_time', 'bike_id',\n",
       "       'rental_duration_second', 'start_station_id', 'start_station_name',\n",
       "       'end_station_id', 'end_station_name', 'user_type', 'user_gender',\n",
       "       'user_birthyear'],\n",
       "      dtype='object')"
      ]
     },
     "execution_count": 28,
     "metadata": {},
     "output_type": "execute_result"
    }
   ],
   "source": [
    "# check for column names\n",
    "df_q2_second.columns"
   ]
  },
  {
   "cell_type": "markdown",
   "metadata": {},
   "source": [
    "#### 2.3 Assessing Quarter 3\n",
    "<a id=\"q3\"></a>"
   ]
  },
  {
   "cell_type": "code",
   "execution_count": 29,
   "metadata": {},
   "outputs": [
    {
     "data": {
      "text/plain": [
       "Index(['Unnamed: 0', 'trip_id', 'start_time', 'end_time', 'bikeid',\n",
       "       'tripduration', 'from_station_id', 'from_station_name', 'to_station_id',\n",
       "       'to_station_name', 'usertype', 'gender', 'birthyear'],\n",
       "      dtype='object')"
      ]
     },
     "execution_count": 29,
     "metadata": {},
     "output_type": "execute_result"
    }
   ],
   "source": [
    "# column names\n",
    "df_q3_first.columns"
   ]
  },
  {
   "cell_type": "code",
   "execution_count": 30,
   "metadata": {},
   "outputs": [],
   "source": [
    "# drop column Unnamed: 0\n",
    "df_q3_first.drop(\"Unnamed: 0\",axis=1,inplace=True)"
   ]
  },
  {
   "cell_type": "code",
   "execution_count": 31,
   "metadata": {},
   "outputs": [],
   "source": [
    "# replace column names\n",
    "df_q3_first.columns=[\"rental_id\",\"ride_start_time\",\"ride_end_time\",\"bike_id\",\"rental_duration_second\",\"start_station_id\",\n",
    " \"start_station_name\",\"end_station_id\",\"end_station_name\",\"user_type\",\"user_gender\",\"user_birthyear\"]"
   ]
  },
  {
   "cell_type": "code",
   "execution_count": 32,
   "metadata": {},
   "outputs": [
    {
     "data": {
      "text/plain": [
       "Index(['rental_id', 'ride_start_time', 'ride_end_time', 'bike_id',\n",
       "       'rental_duration_second', 'start_station_id', 'start_station_name',\n",
       "       'end_station_id', 'end_station_name', 'user_type', 'user_gender',\n",
       "       'user_birthyear'],\n",
       "      dtype='object')"
      ]
     },
     "execution_count": 32,
     "metadata": {},
     "output_type": "execute_result"
    }
   ],
   "source": [
    "# check for replaced column names\n",
    "df_q3_first.columns"
   ]
  },
  {
   "cell_type": "code",
   "execution_count": 33,
   "metadata": {},
   "outputs": [],
   "source": [
    "# drop column Unnamed: 0\n",
    "df_q3_second.drop(\"Unnamed: 0\",axis=1,inplace=True)"
   ]
  },
  {
   "cell_type": "code",
   "execution_count": 35,
   "metadata": {},
   "outputs": [],
   "source": [
    "# replace column names\n",
    "df_q3_second.columns=[\"rental_id\",\"ride_start_time\",\"ride_end_time\",\"bike_id\",\"rental_duration_second\",\"start_station_id\",\n",
    " \"start_station_name\",\"end_station_id\",\"end_station_name\",\"user_type\",\"user_gender\",\"user_birthyear\"]"
   ]
  },
  {
   "cell_type": "code",
   "execution_count": 36,
   "metadata": {},
   "outputs": [
    {
     "data": {
      "text/plain": [
       "Index(['rental_id', 'ride_start_time', 'ride_end_time', 'bike_id',\n",
       "       'rental_duration_second', 'start_station_id', 'start_station_name',\n",
       "       'end_station_id', 'end_station_name', 'user_type', 'user_gender',\n",
       "       'user_birthyear'],\n",
       "      dtype='object')"
      ]
     },
     "execution_count": 36,
     "metadata": {},
     "output_type": "execute_result"
    }
   ],
   "source": [
    "# check replaced column names\n",
    "df_q3_second.columns"
   ]
  },
  {
   "cell_type": "markdown",
   "metadata": {},
   "source": [
    "#### 2.4 Assessing Quarter 4\n",
    "<a id=\"q4\"></a>"
   ]
  },
  {
   "cell_type": "code",
   "execution_count": 37,
   "metadata": {},
   "outputs": [
    {
     "data": {
      "text/plain": [
       "Index(['Unnamed: 0', 'trip_id', 'start_time', 'end_time', 'bikeid',\n",
       "       'tripduration', 'from_station_id', 'from_station_name', 'to_station_id',\n",
       "       'to_station_name', 'usertype', 'gender', 'birthyear'],\n",
       "      dtype='object')"
      ]
     },
     "execution_count": 37,
     "metadata": {},
     "output_type": "execute_result"
    }
   ],
   "source": [
    "# column names from quarter 4\n",
    "df_q4_first.columns"
   ]
  },
  {
   "cell_type": "code",
   "execution_count": 38,
   "metadata": {},
   "outputs": [],
   "source": [
    "# drop unwanted column Unnamed: 0\n",
    "df_q4_first.drop(\"Unnamed: 0\", axis=1, inplace=True)"
   ]
  },
  {
   "cell_type": "code",
   "execution_count": 39,
   "metadata": {},
   "outputs": [],
   "source": [
    "# replace column names\n",
    "df_q4_first.columns=[\"rental_id\",\"ride_start_time\",\"ride_end_time\",\"bike_id\",\"rental_duration_second\",\"start_station_id\",\n",
    " \"start_station_name\",\"end_station_id\",\"end_station_name\",\"user_type\",\"user_gender\",\"user_birthyear\"]"
   ]
  },
  {
   "cell_type": "code",
   "execution_count": 40,
   "metadata": {
    "scrolled": true
   },
   "outputs": [
    {
     "data": {
      "text/plain": [
       "Index(['rental_id', 'ride_start_time', 'ride_end_time', 'bike_id',\n",
       "       'rental_duration_second', 'start_station_id', 'start_station_name',\n",
       "       'end_station_id', 'end_station_name', 'user_type', 'user_gender',\n",
       "       'user_birthyear'],\n",
       "      dtype='object')"
      ]
     },
     "execution_count": 40,
     "metadata": {},
     "output_type": "execute_result"
    }
   ],
   "source": [
    "# check new column names\n",
    "df_q4_first.columns"
   ]
  },
  {
   "cell_type": "code",
   "execution_count": 41,
   "metadata": {},
   "outputs": [],
   "source": [
    "# drop unwanted column Unnamed: 0\n",
    "df_q4_second.drop(\"Unnamed: 0\", axis=1, inplace=True)"
   ]
  },
  {
   "cell_type": "code",
   "execution_count": 42,
   "metadata": {},
   "outputs": [],
   "source": [
    "# replace column names\n",
    "df_q4_second.columns=[\"rental_id\",\"ride_start_time\",\"ride_end_time\",\"bike_id\",\"rental_duration_second\",\"start_station_id\",\n",
    " \"start_station_name\",\"end_station_id\",\"end_station_name\",\"user_type\",\"user_gender\",\"user_birthyear\"]"
   ]
  },
  {
   "cell_type": "code",
   "execution_count": 43,
   "metadata": {
    "scrolled": true
   },
   "outputs": [
    {
     "data": {
      "text/plain": [
       "Index(['rental_id', 'ride_start_time', 'ride_end_time', 'bike_id',\n",
       "       'rental_duration_second', 'start_station_id', 'start_station_name',\n",
       "       'end_station_id', 'end_station_name', 'user_type', 'user_gender',\n",
       "       'user_birthyear'],\n",
       "      dtype='object')"
      ]
     },
     "execution_count": 43,
     "metadata": {},
     "output_type": "execute_result"
    }
   ],
   "source": [
    "# check for new column names\n",
    "df_q4_second.columns"
   ]
  },
  {
   "cell_type": "code",
   "execution_count": 44,
   "metadata": {},
   "outputs": [],
   "source": [
    "# Combining datasets of quarter 2\n",
    "df_q2=pd.concat([df_q2_first,df_q2_second])"
   ]
  },
  {
   "cell_type": "code",
   "execution_count": 45,
   "metadata": {},
   "outputs": [],
   "source": [
    "# Combining datasets of quarter 3\n",
    "df_q3=pd.concat([df_q3_first,df_q3_second])"
   ]
  },
  {
   "cell_type": "code",
   "execution_count": 46,
   "metadata": {},
   "outputs": [],
   "source": [
    "# Combining datasets of quarter 4\n",
    "df_q4=pd.concat([df_q4_first,df_q4_second])"
   ]
  },
  {
   "cell_type": "markdown",
   "metadata": {},
   "source": [
    "#### 2.5 Null Values\n",
    "<a id=\"null\"></a>"
   ]
  },
  {
   "cell_type": "code",
   "execution_count": 47,
   "metadata": {},
   "outputs": [
    {
     "data": {
      "text/plain": [
       "rental_id                     0\n",
       "ride_start_time               0\n",
       "ride_end_time                 0\n",
       "bike_id                       0\n",
       "rental_duration_second        0\n",
       "start_station_id              0\n",
       "start_station_name            0\n",
       "end_station_id                0\n",
       "end_station_name              0\n",
       "user_type                     0\n",
       "user_gender               22493\n",
       "user_birthyear            22322\n",
       "dtype: int64"
      ]
     },
     "execution_count": 47,
     "metadata": {},
     "output_type": "execute_result"
    }
   ],
   "source": [
    "df_q1.isnull().sum()"
   ]
  },
  {
   "cell_type": "code",
   "execution_count": 48,
   "metadata": {},
   "outputs": [
    {
     "data": {
      "text/plain": [
       "<AxesSubplot:>"
      ]
     },
     "execution_count": 48,
     "metadata": {},
     "output_type": "execute_result"
    },
    {
     "data": {
      "image/png": "[encoded data removed]",
      "text/plain": [
       "<Figure size 432x288 with 1 Axes>"
      ]
     },
     "metadata": {
      "needs_background": "light"
     },
     "output_type": "display_data"
    }
   ],
   "source": [
    "# showwing null values in heatmap\n",
    "sns.heatmap(df_q1.isnull(),cbar=False)"
   ]
  },
  {
   "cell_type": "markdown",
   "metadata": {},
   "source": [
    "It shows that mainly column user_type and user_birthyear have null values.\n",
    "\n",
    "counting user_type from quarter 1"
   ]
  },
  {
   "cell_type": "markdown",
   "metadata": {},
   "source": [
    "Does deleting the rows with null values will bring big quantitative change in user_type column?"
   ]
  },
  {
   "cell_type": "code",
   "execution_count": 49,
   "metadata": {},
   "outputs": [],
   "source": [
    "# check null values from user_type or from user_gender\n",
    "mask_1=df_q1[\"user_type\"].isnull()|df_q1[\"user_gender\"].isnull()"
   ]
  },
  {
   "cell_type": "code",
   "execution_count": 50,
   "metadata": {},
   "outputs": [
    {
     "name": "stdout",
     "output_type": "stream",
     "text": [
      "<class 'pandas.core.frame.DataFrame'>\n",
      "Int64Index: 22493 entries, 8 to 387131\n",
      "Data columns (total 12 columns):\n",
      " #   Column                  Non-Null Count  Dtype  \n",
      "---  ------                  --------------  -----  \n",
      " 0   rental_id               22493 non-null  int64  \n",
      " 1   ride_start_time         22493 non-null  object \n",
      " 2   ride_end_time           22493 non-null  object \n",
      " 3   bike_id                 22493 non-null  int64  \n",
      " 4   rental_duration_second  22493 non-null  object \n",
      " 5   start_station_id        22493 non-null  int64  \n",
      " 6   start_station_name      22493 non-null  object \n",
      " 7   end_station_id          22493 non-null  int64  \n",
      " 8   end_station_name        22493 non-null  object \n",
      " 9   user_type               22493 non-null  object \n",
      " 10  user_gender             0 non-null      object \n",
      " 11  user_birthyear          175 non-null    float64\n",
      "dtypes: float64(1), int64(4), object(7)\n",
      "memory usage: 2.2+ MB\n"
     ]
    }
   ],
   "source": [
    "# get information about null values of user_type and user_gender from mask of quarter 1\n",
    "df_q1[mask_1].info()"
   ]
  },
  {
   "cell_type": "code",
   "execution_count": 51,
   "metadata": {},
   "outputs": [
    {
     "name": "stdout",
     "output_type": "stream",
     "text": [
      "<class 'pandas.core.frame.DataFrame'>\n",
      "Int64Index: 22493 entries, 8 to 387131\n",
      "Data columns (total 12 columns):\n",
      " #   Column                  Non-Null Count  Dtype  \n",
      "---  ------                  --------------  -----  \n",
      " 0   rental_id               22493 non-null  int64  \n",
      " 1   ride_start_time         22493 non-null  object \n",
      " 2   ride_end_time           22493 non-null  object \n",
      " 3   bike_id                 22493 non-null  int64  \n",
      " 4   rental_duration_second  22493 non-null  object \n",
      " 5   start_station_id        22493 non-null  int64  \n",
      " 6   start_station_name      22493 non-null  object \n",
      " 7   end_station_id          22493 non-null  int64  \n",
      " 8   end_station_name        22493 non-null  object \n",
      " 9   user_type               22493 non-null  object \n",
      " 10  user_gender             0 non-null      object \n",
      " 11  user_birthyear          175 non-null    float64\n",
      "dtypes: float64(1), int64(4), object(7)\n",
      "memory usage: 2.2+ MB\n"
     ]
    }
   ],
   "source": [
    "# get information about null values of user_type and user_gender\n",
    "df_q1[mask_1].info()"
   ]
  },
  {
   "cell_type": "code",
   "execution_count": 52,
   "metadata": {},
   "outputs": [
    {
     "data": {
      "text/plain": [
       "Subscriber    364702\n",
       "Customer       22443\n",
       "Name: user_type, dtype: int64"
      ]
     },
     "execution_count": 52,
     "metadata": {},
     "output_type": "execute_result"
    }
   ],
   "source": [
    "# counting type of user from quarter 1\n",
    "df_q1[\"user_type\"].value_counts()"
   ]
  },
  {
   "cell_type": "code",
   "execution_count": 53,
   "metadata": {},
   "outputs": [
    {
     "data": {
      "text/plain": [
       "Customer      22333\n",
       "Subscriber      160\n",
       "Name: user_type, dtype: int64"
      ]
     },
     "execution_count": 53,
     "metadata": {},
     "output_type": "execute_result"
    }
   ],
   "source": [
    " #counting user type that have null values in their gender columns\n",
    "df_q1[mask_1][\"user_type\"].value_counts()"
   ]
  },
  {
   "cell_type": "markdown",
   "metadata": {},
   "source": [
    "It shows that rows that have null values are mainly of user type customers.This shows that if we delete rows with null values, most of the Customers will get deleted. That is out of \n",
    "22443 Customers, 22333 Customers will be deleted. It is better not to delete null values, so that I can do \n",
    "actual comparision of Subsribers and Customers."
   ]
  },
  {
   "cell_type": "code",
   "execution_count": 54,
   "metadata": {},
   "outputs": [
    {
     "data": {
      "text/plain": [
       "rental_id                      0\n",
       "ride_start_time                0\n",
       "ride_end_time                  0\n",
       "bike_id                        0\n",
       "rental_duration_second         0\n",
       "start_station_id               0\n",
       "start_station_name             0\n",
       "end_station_id                 0\n",
       "end_station_name               0\n",
       "user_type                      0\n",
       "user_gender               196634\n",
       "user_birthyear            195141\n",
       "dtype: int64"
      ]
     },
     "execution_count": 54,
     "metadata": {},
     "output_type": "execute_result"
    }
   ],
   "source": [
    "# null values in quarter 2\n",
    "df_q2.isnull().sum()"
   ]
  },
  {
   "cell_type": "markdown",
   "metadata": {},
   "source": [
    "How many user_type has null values in their gender column?"
   ]
  },
  {
   "cell_type": "code",
   "execution_count": 55,
   "metadata": {},
   "outputs": [],
   "source": [
    "# null values of  user_type and user_gender\n",
    "mask_2=df_q2[\"user_type\"].isnull()|df_q2[\"user_gender\"].isnull()"
   ]
  },
  {
   "cell_type": "code",
   "execution_count": 56,
   "metadata": {
    "scrolled": true
   },
   "outputs": [
    {
     "data": {
      "text/plain": [
       "Customer      195077\n",
       "Subscriber      1557\n",
       "Name: user_type, dtype: int64"
      ]
     },
     "execution_count": 56,
     "metadata": {},
     "output_type": "execute_result"
    }
   ],
   "source": [
    "# counting user type that have null values in their gender columns\n",
    "df_q2[mask_2][\"user_type\"].value_counts()"
   ]
  },
  {
   "cell_type": "markdown",
   "metadata": {},
   "source": [
    "It shows rows that have null values are mainly of user type customers."
   ]
  },
  {
   "cell_type": "code",
   "execution_count": 57,
   "metadata": {},
   "outputs": [
    {
     "data": {
      "text/plain": [
       "Subscriber    840137\n",
       "Customer      219544\n",
       "Name: user_type, dtype: int64"
      ]
     },
     "execution_count": 57,
     "metadata": {},
     "output_type": "execute_result"
    }
   ],
   "source": [
    "# counting actual user type from quarter 2\n",
    "df_q2[\"user_type\"].value_counts()"
   ]
  },
  {
   "cell_type": "markdown",
   "metadata": {},
   "source": [
    "As similar to quarter 1, I am keeping null values of user gender and user birthyear, so I wil be able to do better \n",
    "comparision of Subscribers and Customers."
   ]
  },
  {
   "cell_type": "markdown",
   "metadata": {},
   "source": [
    "In practice, as in Quarter 1 and Quarter 2 similar composition came up for null values of user gender and user birthyear\n",
    "in column user_type. So it is better to keep these null values of these columns."
   ]
  },
  {
   "cell_type": "code",
   "execution_count": 58,
   "metadata": {},
   "outputs": [
    {
     "data": {
      "text/plain": [
       "rental_id                      0\n",
       "ride_start_time                0\n",
       "ride_end_time                  0\n",
       "bike_id                        0\n",
       "rental_duration_second         0\n",
       "start_station_id               0\n",
       "start_station_name             0\n",
       "end_station_id                 0\n",
       "end_station_name               0\n",
       "user_type                      0\n",
       "user_gender               294996\n",
       "user_birthyear            291580\n",
       "dtype: int64"
      ]
     },
     "execution_count": 58,
     "metadata": {},
     "output_type": "execute_result"
    }
   ],
   "source": [
    "# null values in Quarter 3\n",
    "df_q3.isnull().sum()"
   ]
  },
  {
   "cell_type": "code",
   "execution_count": 59,
   "metadata": {},
   "outputs": [
    {
     "data": {
      "text/plain": [
       "rental_id                     0\n",
       "ride_start_time               0\n",
       "ride_end_time                 0\n",
       "bike_id                       0\n",
       "rental_duration_second        0\n",
       "start_station_id              0\n",
       "start_station_name            0\n",
       "end_station_id                0\n",
       "end_station_name              0\n",
       "user_type                     0\n",
       "user_gender               48382\n",
       "user_birthyear            46166\n",
       "dtype: int64"
      ]
     },
     "execution_count": 59,
     "metadata": {},
     "output_type": "execute_result"
    }
   ],
   "source": [
    "# null values in Quarter 4\n",
    "df_q4.isnull().sum()"
   ]
  },
  {
   "cell_type": "markdown",
   "metadata": {},
   "source": [
    "As mentioned above, for Quarter 3 and Quarter 4 null values are only in columns: user_gender and user_birthyear. \n",
    "So null values are not deleted."
   ]
  },
  {
   "cell_type": "markdown",
   "metadata": {},
   "source": [
    "### 3. Cleaning Data\n",
    "<a id=\"clean\"></a>"
   ]
  },
  {
   "cell_type": "markdown",
   "metadata": {},
   "source": [
    "#### 3.1 Change Datatypes\n",
    "<a id=\"dtype\"></a>"
   ]
  },
  {
   "cell_type": "code",
   "execution_count": 60,
   "metadata": {},
   "outputs": [],
   "source": [
    "# change data type of  ride_start_time and ride_end_time\n",
    "df_q1[\"ride_start_time\"]=pd.to_datetime(df_q1[\"ride_start_time\"])\n",
    "df_q1[\"ride_end_time\"]=pd.to_datetime(df_q1[\"ride_end_time\"])"
   ]
  },
  {
   "cell_type": "code",
   "execution_count": 61,
   "metadata": {},
   "outputs": [],
   "source": [
    "df_q2[\"ride_start_time\"]=pd.to_datetime(df_q2[\"ride_start_time\"])\n",
    "df_q2[\"ride_end_time\"]=pd.to_datetime(df_q2[\"ride_end_time\"])"
   ]
  },
  {
   "cell_type": "code",
   "execution_count": 62,
   "metadata": {},
   "outputs": [],
   "source": [
    "df_q3[\"ride_start_time\"]=pd.to_datetime(df_q3[\"ride_start_time\"])\n",
    "df_q3[\"ride_end_time\"]=pd.to_datetime(df_q3[\"ride_end_time\"])"
   ]
  },
  {
   "cell_type": "code",
   "execution_count": 63,
   "metadata": {},
   "outputs": [],
   "source": [
    "df_q4[\"ride_start_time\"]=pd.to_datetime(df_q4[\"ride_start_time\"])\n",
    "df_q4[\"ride_end_time\"]=pd.to_datetime(df_q4[\"ride_end_time\"])"
   ]
  },
  {
   "cell_type": "code",
   "execution_count": 64,
   "metadata": {},
   "outputs": [
    {
     "name": "stdout",
     "output_type": "stream",
     "text": [
      "<class 'pandas.core.frame.DataFrame'>\n",
      "RangeIndex: 387145 entries, 0 to 387144\n",
      "Data columns (total 12 columns):\n",
      " #   Column                  Non-Null Count   Dtype         \n",
      "---  ------                  --------------   -----         \n",
      " 0   rental_id               387145 non-null  int64         \n",
      " 1   ride_start_time         387145 non-null  datetime64[ns]\n",
      " 2   ride_end_time           387145 non-null  datetime64[ns]\n",
      " 3   bike_id                 387145 non-null  int64         \n",
      " 4   rental_duration_second  387145 non-null  object        \n",
      " 5   start_station_id        387145 non-null  int64         \n",
      " 6   start_station_name      387145 non-null  object        \n",
      " 7   end_station_id          387145 non-null  int64         \n",
      " 8   end_station_name        387145 non-null  object        \n",
      " 9   user_type               387145 non-null  object        \n",
      " 10  user_gender             364652 non-null  object        \n",
      " 11  user_birthyear          364823 non-null  float64       \n",
      "dtypes: datetime64[ns](2), float64(1), int64(4), object(5)\n",
      "memory usage: 35.4+ MB\n"
     ]
    }
   ],
   "source": [
    "df_q1.info()"
   ]
  },
  {
   "cell_type": "markdown",
   "metadata": {},
   "source": [
    "#### 3.2 Creating New Columns\n",
    "<a id = \"newcol\"></a>"
   ]
  },
  {
   "cell_type": "code",
   "execution_count": 65,
   "metadata": {},
   "outputs": [],
   "source": [
    "# creating new column ride_duration from existing columns\n",
    "df_q1[\"ride_duration\"]=df_q1[\"ride_end_time\"]-df_q1[\"ride_start_time\"]\n",
    "df_q2[\"ride_duration\"]=df_q2[\"ride_end_time\"]-df_q2[\"ride_start_time\"]\n",
    "df_q3[\"ride_duration\"]=df_q3[\"ride_end_time\"]-df_q3[\"ride_end_time\"]\n",
    "df_q4[\"ride_duration\"]=df_q4[\"ride_end_time\"]-df_q4[\"ride_end_time\"]"
   ]
  },
  {
   "cell_type": "code",
   "execution_count": 66,
   "metadata": {
    "scrolled": true
   },
   "outputs": [
    {
     "name": "stdout",
     "output_type": "stream",
     "text": [
      "<class 'pandas.core.frame.DataFrame'>\n",
      "Int64Index: 642686 entries, 0 to 142685\n",
      "Data columns (total 13 columns):\n",
      " #   Column                  Non-Null Count   Dtype          \n",
      "---  ------                  --------------   -----          \n",
      " 0   rental_id               642686 non-null  int64          \n",
      " 1   ride_start_time         642686 non-null  datetime64[ns] \n",
      " 2   ride_end_time           642686 non-null  datetime64[ns] \n",
      " 3   bike_id                 642686 non-null  int64          \n",
      " 4   rental_duration_second  642686 non-null  object         \n",
      " 5   start_station_id        642686 non-null  int64          \n",
      " 6   start_station_name      642686 non-null  object         \n",
      " 7   end_station_id          642686 non-null  int64          \n",
      " 8   end_station_name        642686 non-null  object         \n",
      " 9   user_type               642686 non-null  object         \n",
      " 10  user_gender             594304 non-null  object         \n",
      " 11  user_birthyear          596520 non-null  float64        \n",
      " 12  ride_duration           642686 non-null  timedelta64[ns]\n",
      "dtypes: datetime64[ns](2), float64(1), int64(4), object(5), timedelta64[ns](1)\n",
      "memory usage: 68.6+ MB\n"
     ]
    }
   ],
   "source": [
    "# checking new column\n",
    "df_q4.info()"
   ]
  },
  {
   "cell_type": "markdown",
   "metadata": {},
   "source": [
    "### 4. Analyzing Data and Visualization\n",
    "<a id=\"analysis\"></a>"
   ]
  },
  {
   "cell_type": "markdown",
   "metadata": {},
   "source": [
    "#### 4.1 Data Analysis by Quarters\n",
    "<a id=\"quarterly\"></a>"
   ]
  },
  {
   "cell_type": "markdown",
   "metadata": {},
   "source": [
    "Percentage of Subsribers and Customers in each quarter"
   ]
  },
  {
   "cell_type": "code",
   "execution_count": 67,
   "metadata": {},
   "outputs": [
    {
     "data": {
      "text/plain": [
       "<AxesSubplot:title={'center':'Quarter 4'}, ylabel='rental_id'>"
      ]
     },
     "execution_count": 67,
     "metadata": {},
     "output_type": "execute_result"
    },
    {
     "data": {
      "image/png": "[encoded data removed]",
      "text/plain": [
       "<Figure size 1296x720 with 4 Axes>"
      ]
     },
     "metadata": {},
     "output_type": "display_data"
    }
   ],
   "source": [
    "plt.figure(figsize=(18,10))\n",
    "plt.suptitle(\"Percentage of Customers and Subscribers\")\n",
    "type_percent=df_q1.groupby(\"user_type\")[\"rental_id\"].sum()\n",
    "plt.subplot(2,2,1)\n",
    "plt.gca().set_title('Quarter 1')\n",
    "type_percent.plot.pie(autopct=\"%.1f%%\")\n",
    "type_percent=df_q2.groupby(\"user_type\")[\"rental_id\"].sum()\n",
    "\n",
    "plt.subplot(2,2,2)\n",
    "plt.gca().set_title('Quarter 2')\n",
    "type_percent.plot.pie(autopct=\"%.1f%%\")\n",
    "type_percent=df_q3.groupby(\"user_type\")[\"rental_id\"].sum()\n",
    "\n",
    "plt.subplot(2,2,3)\n",
    "plt.gca().set_title('Quarter 3')\n",
    "type_percent.plot.pie(autopct=\"%.1f%%\")\n",
    "type_percent=df_q4.groupby(\"user_type\")[\"rental_id\"].sum()\n",
    "\n",
    "plt.subplot(2,2,4)\n",
    "plt.gca().set_title('Quarter 4')\n",
    "type_percent.plot.pie(autopct=\"%.1f%%\")"
   ]
  },
  {
   "cell_type": "markdown",
   "metadata": {},
   "source": [
    "Getting new column day_of_week with name of weekdays"
   ]
  },
  {
   "cell_type": "code",
   "execution_count": 68,
   "metadata": {},
   "outputs": [],
   "source": [
    "df_q1['day_of_week'] = df_q1[\"ride_start_time\"].dt.day_name()\n",
    "df_q2['day_of_week'] = df_q2[\"ride_start_time\"].dt.day_name()\n",
    "df_q3['day_of_week'] = df_q3[\"ride_start_time\"].dt.day_name()\n",
    "df_q4['day_of_week'] = df_q4[\"ride_start_time\"].dt.day_name()"
   ]
  },
  {
   "cell_type": "markdown",
   "metadata": {},
   "source": [
    "####  4.2 Yearly Analysis\n",
    "<a id=\"yearly\"></a>"
   ]
  },
  {
   "cell_type": "code",
   "execution_count": 69,
   "metadata": {},
   "outputs": [],
   "source": [
    "# join dataframes into one dataframes\n",
    "df_year=pd.concat([df_q1,df_q2,df_q3,df_q4])"
   ]
  },
  {
   "cell_type": "code",
   "execution_count": 70,
   "metadata": {},
   "outputs": [],
   "source": [
    "#  change user_type column to category type\n",
    "df_q1[\"user_type\"]=df_q1[\"user_type\"].astype('category')"
   ]
  },
  {
   "cell_type": "code",
   "execution_count": 101,
   "metadata": {},
   "outputs": [
    {
     "name": "stdout",
     "output_type": "stream",
     "text": [
      "<class 'pandas.core.frame.DataFrame'>\n",
      "Int64Index: 3603082 entries, 0 to 142685\n",
      "Data columns (total 17 columns):\n",
      " #   Column                  Dtype          \n",
      "---  ------                  -----          \n",
      " 0   rental_id               int64          \n",
      " 1   ride_start_time         datetime64[ns] \n",
      " 2   ride_end_time           datetime64[ns] \n",
      " 3   bike_id                 int64          \n",
      " 4   rental_duration_second  object         \n",
      " 5   start_station_id        int64          \n",
      " 6   start_station_name      object         \n",
      " 7   end_station_id          int64          \n",
      " 8   end_station_name        object         \n",
      " 9   user_type               object         \n",
      " 10  user_gender             object         \n",
      " 11  user_birthyear          float64        \n",
      " 12  ride_duration           timedelta64[ns]\n",
      " 13  day_of_week             object         \n",
      " 14  start_hour              int64          \n",
      " 15  ride_month              object         \n",
      " 16  rental_duration_minute  object         \n",
      "dtypes: datetime64[ns](2), float64(1), int64(5), object(8), timedelta64[ns](1)\n",
      "memory usage: 527.1+ MB\n"
     ]
    }
   ],
   "source": [
    "df_year.info()"
   ]
  },
  {
   "cell_type": "code",
   "execution_count": 110,
   "metadata": {},
   "outputs": [
    {
     "data": {
      "text/plain": [
       "0         323.0\n",
       "1         377.0\n",
       "2           NaN\n",
       "3         747.0\n",
       "4         183.0\n",
       "          ...  \n",
       "142681    288.0\n",
       "142682    514.0\n",
       "142683    427.0\n",
       "142684    200.0\n",
       "142685      NaN\n",
       "Name: rental_duration_second, Length: 3603082, dtype: float64"
      ]
     },
     "execution_count": 110,
     "metadata": {},
     "output_type": "execute_result"
    }
   ],
   "source": [
    "# change ride_duration_second to numeric type\n",
    "df_year[\"rental_duration_second\"].astype(\"float\")"
   ]
  },
  {
   "cell_type": "code",
   "execution_count": 107,
   "metadata": {},
   "outputs": [
    {
     "data": {
      "text/plain": [
       "1163559"
      ]
     },
     "execution_count": 107,
     "metadata": {},
     "output_type": "execute_result"
    }
   ],
   "source": [
    "df_year[\"rental_duration_second\"].isnull().sum()"
   ]
  },
  {
   "cell_type": "code",
   "execution_count": 112,
   "metadata": {},
   "outputs": [
    {
     "name": "stdout",
     "output_type": "stream",
     "text": [
      "<class 'pandas.core.frame.DataFrame'>\n",
      "Int64Index: 3603082 entries, 0 to 142685\n",
      "Data columns (total 17 columns):\n",
      " #   Column                  Dtype          \n",
      "---  ------                  -----          \n",
      " 0   rental_id               int64          \n",
      " 1   ride_start_time         datetime64[ns] \n",
      " 2   ride_end_time           datetime64[ns] \n",
      " 3   bike_id                 int64          \n",
      " 4   rental_duration_second  float64        \n",
      " 5   start_station_id        int64          \n",
      " 6   start_station_name      object         \n",
      " 7   end_station_id          int64          \n",
      " 8   end_station_name        object         \n",
      " 9   user_type               object         \n",
      " 10  user_gender             object         \n",
      " 11  user_birthyear          float64        \n",
      " 12  ride_duration           timedelta64[ns]\n",
      " 13  day_of_week             object         \n",
      " 14  start_hour              int64          \n",
      " 15  ride_month              object         \n",
      " 16  rental_duration_minute  object         \n",
      "dtypes: datetime64[ns](2), float64(2), int64(5), object(7), timedelta64[ns](1)\n",
      "memory usage: 527.1+ MB\n"
     ]
    }
   ],
   "source": [
    "df_year.info()"
   ]
  },
  {
   "cell_type": "code",
   "execution_count": 71,
   "metadata": {},
   "outputs": [],
   "source": [
    "df_year[\"day_of_week\"]=df_year[\"ride_start_time\"].dt.day_name()"
   ]
  },
  {
   "cell_type": "code",
   "execution_count": 72,
   "metadata": {},
   "outputs": [],
   "source": [
    "df_year[\"start_hour\"]=df_year[\"ride_start_time\"].dt.hour"
   ]
  },
  {
   "cell_type": "code",
   "execution_count": 73,
   "metadata": {},
   "outputs": [],
   "source": [
    "df_year[\"ride_month\"]=df_year[\"ride_start_time\"].dt.month_name()"
   ]
  },
  {
   "cell_type": "markdown",
   "metadata": {},
   "source": [
    "How user types are distributed in weekday?"
   ]
  },
  {
   "cell_type": "code",
   "execution_count": 74,
   "metadata": {},
   "outputs": [
    {
     "data": {
      "text/plain": [
       "Text(0, 0.5, 'Trip Counts')"
      ]
     },
     "execution_count": 74,
     "metadata": {},
     "output_type": "execute_result"
    },
    {
     "data": {
      "image/png": "[encoded data removed]",
      "text/plain": [
       "<Figure size 864x576 with 1 Axes>"
      ]
     },
     "metadata": {
      "needs_background": "light"
     },
     "output_type": "display_data"
    }
   ],
   "source": [
    "# plotting bar chart of trip counts per month\n",
    "plt.figure(figsize=(12,8))\n",
    "sns.countplot(data=df_year,x=\"ride_month\",hue=\"user_type\")\n",
    "plt.title(\"Number of Trip per Month\")\n",
    "plt.xlabel(\"Months\")\n",
    "plt.ylabel(\"Trip Counts\")"
   ]
  },
  {
   "cell_type": "code",
   "execution_count": 75,
   "metadata": {},
   "outputs": [
    {
     "data": {
      "text/plain": [
       "user_type   ride_month\n",
       "Customer    July          150266\n",
       "            August        128766\n",
       "            June          108155\n",
       "            September      93901\n",
       "            May            89541\n",
       "            October        43744\n",
       "            April          21848\n",
       "            March          15543\n",
       "            November       11007\n",
       "            December        7485\n",
       "            January         3490\n",
       "            February        3410\n",
       "Subscriber  August        401989\n",
       "            July          394437\n",
       "            June          350264\n",
       "            September     344211\n",
       "            May           311609\n",
       "            October       301196\n",
       "            April         178264\n",
       "            March         158946\n",
       "            November      157767\n",
       "            December      121487\n",
       "            January       106216\n",
       "            February       99540\n",
       "Name: ride_month, dtype: int64"
      ]
     },
     "execution_count": 75,
     "metadata": {},
     "output_type": "execute_result"
    }
   ],
   "source": [
    "# group by user type and count number of ride per month\n",
    "df_year.groupby(\"user_type\")[\"ride_month\"].value_counts()"
   ]
  },
  {
   "cell_type": "markdown",
   "metadata": {},
   "source": [
    "It is found that both subscibers and customers rode more bikes in summer months. Less bikes were used in winter months."
   ]
  },
  {
   "cell_type": "markdown",
   "metadata": {},
   "source": [
    "Number of Rides in Weekday"
   ]
  },
  {
   "cell_type": "code",
   "execution_count": 76,
   "metadata": {},
   "outputs": [
    {
     "data": {
      "text/plain": [
       "Text(0, 0.5, 'Number of Trips')"
      ]
     },
     "execution_count": 76,
     "metadata": {},
     "output_type": "execute_result"
    },
    {
     "data": {
      "image/png": "[encoded data removed]",
      "text/plain": [
       "<Figure size 864x576 with 1 Axes>"
      ]
     },
     "metadata": {
      "needs_background": "light"
     },
     "output_type": "display_data"
    }
   ],
   "source": [
    "plt.figure(figsize=(12,8))\n",
    "sns.countplot(data=df_year,x=\"day_of_week\",hue=\"user_type\")\n",
    "plt.title(\"Number of Trip Count in Weekdays\")\n",
    "plt.xlabel(\"Day\")\n",
    "plt.ylabel(\"Number of Trips\")"
   ]
  },
  {
   "cell_type": "code",
   "execution_count": 77,
   "metadata": {
    "scrolled": true
   },
   "outputs": [
    {
     "data": {
      "text/plain": [
       "user_type   day_of_week\n",
       "Customer    Saturday       161421\n",
       "            Sunday         145311\n",
       "            Friday          82703\n",
       "            Monday          80472\n",
       "            Wednesday       71489\n",
       "            Thursday        71259\n",
       "            Tuesday         64501\n",
       "Subscriber  Wednesday      504836\n",
       "            Tuesday        494083\n",
       "            Thursday       491387\n",
       "            Monday         448097\n",
       "            Friday         442978\n",
       "            Saturday       283964\n",
       "            Sunday         260581\n",
       "Name: day_of_week, dtype: int64"
      ]
     },
     "execution_count": 77,
     "metadata": {},
     "output_type": "execute_result"
    }
   ],
   "source": [
    "# group by user type to get number of trip per weekday\n",
    "df_year.groupby(\"user_type\")[\"day_of_week\"].value_counts()"
   ]
  },
  {
   "cell_type": "code",
   "execution_count": 84,
   "metadata": {},
   "outputs": [
    {
     "data": {
      "text/plain": [
       "<AxesSubplot:xlabel='day_of_week', ylabel='rental_id'>"
      ]
     },
     "execution_count": 84,
     "metadata": {},
     "output_type": "execute_result"
    },
    {
     "data": {
      "image/png": "[encoded data removed]",
      "text/plain": [
       "<Figure size 432x288 with 1 Axes>"
      ]
     },
     "metadata": {
      "needs_background": "light"
     },
     "output_type": "display_data"
    }
   ],
   "source": [
    "sns.lineplot(x=\"day_of_week\",y=\"rental_id\",hue=\"user_type\",data=df_year)"
   ]
  },
  {
   "cell_type": "markdown",
   "metadata": {},
   "source": [
    "For Subcribers, the busiest days were weekdays: Wednesday, Tuesday, Monday, Friday Customers \n",
    "rode more bikes on Saturday and Sunday."
   ]
  },
  {
   "cell_type": "code",
   "execution_count": 79,
   "metadata": {},
   "outputs": [
    {
     "data": {
      "text/plain": [
       "Text(0, 0.5, 'Trip Counts')"
      ]
     },
     "execution_count": 79,
     "metadata": {},
     "output_type": "execute_result"
    },
    {
     "data": {
      "image/png": "[encoded data removed]",
      "text/plain": [
       "<Figure size 864x576 with 1 Axes>"
      ]
     },
     "metadata": {
      "needs_background": "light"
     },
     "output_type": "display_data"
    }
   ],
   "source": [
    "# group by user type and get their starting hour for bike ride\n",
    "plt.figure(figsize=(12,8))\n",
    "sns.countplot(data=df_year,x=\"start_hour\",hue=\"user_type\")\n",
    "plt.title(\"Number of Trip in Hours of a Day \")\n",
    "plt.xlabel(\"Starting_Hour\")\n",
    "plt.ylabel(\"Trip Counts\")"
   ]
  },
  {
   "cell_type": "markdown",
   "metadata": {},
   "source": [
    "It shows that Subscribers rode more bikes in evening an dmoring. \n",
    "Customers rode more bikes in late afternoon. There is a good pattern on how customers used bikes throughout hours of a day."
   ]
  },
  {
   "cell_type": "code",
   "execution_count": 80,
   "metadata": {},
   "outputs": [
    {
     "data": {
      "text/plain": [
       "user_type   start_hour\n",
       "Customer    15             65342\n",
       "            16             64607\n",
       "            14             62565\n",
       "            17             61263\n",
       "            13             61073\n",
       "            12             56672\n",
       "            11             49272\n",
       "            18             47890\n",
       "            19             36660\n",
       "            10             36522\n",
       "            20             24985\n",
       "            9              23485\n",
       "            21             17983\n",
       "            8              15497\n",
       "            22             15015\n",
       "            23              9886\n",
       "            7               8723\n",
       "            0               5810\n",
       "            6               4152\n",
       "            1               3639\n",
       "            2               2327\n",
       "            5               1576\n",
       "            3               1371\n",
       "            4                841\n",
       "Subscriber  17            382558\n",
       "            16            284106\n",
       "            8             276631\n",
       "            18            243392\n",
       "            7             225254\n",
       "            15            166583\n",
       "            19            158539\n",
       "            12            141689\n",
       "            13            134545\n",
       "            9             133752\n",
       "            14            129265\n",
       "            11            121668\n",
       "            6             103028\n",
       "            20            102806\n",
       "            10             98707\n",
       "            21             73112\n",
       "            22             48488\n",
       "            5              30901\n",
       "            23             28761\n",
       "            0              16680\n",
       "            1               9752\n",
       "            2               5902\n",
       "            4               5860\n",
       "            3               3947\n",
       "Name: start_hour, dtype: int64"
      ]
     },
     "execution_count": 80,
     "metadata": {},
     "output_type": "execute_result"
    }
   ],
   "source": [
    "# starting hours of user type\n",
    "df_year.groupby(\"user_type\")[\"start_hour\"].value_counts()"
   ]
  },
  {
   "cell_type": "markdown",
   "metadata": {},
   "source": [
    "Subscribers rode more bikes in evening an morning. \n",
    "Customers rode more bikes in late afternoon. There is a good pattern on how customers used bikes throughout hours of a day."
   ]
  },
  {
   "cell_type": "code",
   "execution_count": 85,
   "metadata": {},
   "outputs": [
    {
     "data": {
      "text/plain": [
       "<AxesSubplot:xlabel='user_type', ylabel='start_hour'>"
      ]
     },
     "execution_count": 85,
     "metadata": {},
     "output_type": "execute_result"
    },
    {
     "data": {
      "image/png": "[encoded data removed]",
      "text/plain": [
       "<Figure size 432x288 with 1 Axes>"
      ]
     },
     "metadata": {
      "needs_background": "light"
     },
     "output_type": "display_data"
    }
   ],
   "source": [
    "sns.boxplot(x ='user_type', y ='start_hour', data = df_year)"
   ]
  },
  {
   "cell_type": "code",
   "execution_count": 124,
   "metadata": {},
   "outputs": [
    {
     "name": "stdout",
     "output_type": "stream",
     "text": [
      "<class 'pandas.core.frame.DataFrame'>\n",
      "Int64Index: 3603082 entries, 0 to 142685\n",
      "Data columns (total 18 columns):\n",
      " #   Column                   Dtype          \n",
      "---  ------                   -----          \n",
      " 0   rental_id                int64          \n",
      " 1   ride_start_time          datetime64[ns] \n",
      " 2   ride_end_time            datetime64[ns] \n",
      " 3   bike_id                  int64          \n",
      " 4   rental_duration_second   float64        \n",
      " 5   start_station_id         int64          \n",
      " 6   start_station_name       object         \n",
      " 7   end_station_id           int64          \n",
      " 8   end_station_name         object         \n",
      " 9   user_type                object         \n",
      " 10  user_gender              object         \n",
      " 11  user_birthyear           float64        \n",
      " 12  ride_duration            timedelta64[ns]\n",
      " 13  day_of_week              object         \n",
      " 14  start_hour               int64          \n",
      " 15  ride_month               object         \n",
      " 16  rental_duration_minute   object         \n",
      " 17  rental_duration_minutes  float64        \n",
      "dtypes: datetime64[ns](2), float64(3), int64(5), object(7), timedelta64[ns](1)\n",
      "memory usage: 554.5+ MB\n"
     ]
    }
   ],
   "source": [
    "df_year.info()"
   ]
  },
  {
   "cell_type": "code",
   "execution_count": 127,
   "metadata": {},
   "outputs": [],
   "source": [
    "df_year[\"ride_duration\"]=df_year[\"ride_duration\"].dt.total_seconds()"
   ]
  },
  {
   "cell_type": "code",
   "execution_count": 128,
   "metadata": {},
   "outputs": [
    {
     "name": "stdout",
     "output_type": "stream",
     "text": [
      "<class 'pandas.core.frame.DataFrame'>\n",
      "Int64Index: 3603082 entries, 0 to 142685\n",
      "Data columns (total 18 columns):\n",
      " #   Column                   Dtype         \n",
      "---  ------                   -----         \n",
      " 0   rental_id                int64         \n",
      " 1   ride_start_time          datetime64[ns]\n",
      " 2   ride_end_time            datetime64[ns]\n",
      " 3   bike_id                  int64         \n",
      " 4   rental_duration_second   float64       \n",
      " 5   start_station_id         int64         \n",
      " 6   start_station_name       object        \n",
      " 7   end_station_id           int64         \n",
      " 8   end_station_name         object        \n",
      " 9   user_type                object        \n",
      " 10  user_gender              object        \n",
      " 11  user_birthyear           float64       \n",
      " 12  ride_duration            float64       \n",
      " 13  day_of_week              object        \n",
      " 14  start_hour               int64         \n",
      " 15  ride_month               object        \n",
      " 16  rental_duration_minute   object        \n",
      " 17  rental_duration_minutes  float64       \n",
      "dtypes: datetime64[ns](2), float64(4), int64(5), object(7)\n",
      "memory usage: 554.5+ MB\n"
     ]
    }
   ],
   "source": [
    "df_year.info()"
   ]
  },
  {
   "cell_type": "code",
   "execution_count": 132,
   "metadata": {},
   "outputs": [
    {
     "data": {
      "text/plain": [
       "Text(0, 0.5, 'Trip Counts')"
      ]
     },
     "execution_count": 132,
     "metadata": {},
     "output_type": "execute_result"
    },
    {
     "data": {
      "image/png": "[encoded data removed]",
      "text/plain": [
       "<Figure size 1440x1152 with 1 Axes>"
      ]
     },
     "metadata": {
      "needs_background": "light"
     },
     "output_type": "display_data"
    }
   ],
   "source": [
    "plt.figure(figsize=(20,16))\n",
    "sns.countplot(data=df_year,x=\"ride_duration\",hue=\"user_type\")\n",
    "plt.title(\"Number \")\n",
    "plt.xlabel(\"rental_duration_second\")\n",
    "plt.ylabel(\"Trip Counts\")"
   ]
  },
  {
   "cell_type": "code",
   "execution_count": null,
   "metadata": {},
   "outputs": [],
   "source": []
  },
  {
   "cell_type": "code",
   "execution_count": null,
   "metadata": {},
   "outputs": [],
   "source": []
  }
 ],
 "metadata": {
  "kernelspec": {
   "display_name": "Python 3",
   "language": "python",
   "name": "python3"
  },
  "language_info": {
   "codemirror_mode": {
    "name": "ipython",
    "version": 3
   },
   "file_extension": ".py",
   "mimetype": "text/x-python",
   "name": "python",
   "nbconvert_exporter": "python",
   "pygments_lexer": "ipython3",
   "version": "3.8.10"
  }
 },
 "nbformat": 4,
 "nbformat_minor": 4
}
